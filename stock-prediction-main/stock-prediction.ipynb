{
 "cells": [
  {
   "cell_type": "code",
   "execution_count": 1,
   "id": "6a2b1b0f-bbd6-46eb-b179-125466f4efd8",
   "metadata": {},
   "outputs": [],
   "source": [
    "import numpy as np\n",
    "import pandas as pd\n",
    "import matplotlib.pyplot as plt\n",
    "import pandas_datareader as pdr\n",
    "import seaborn as sns\n",
    "import talib \n",
    "from sklearn.preprocessing import MinMaxScaler\n",
    "from sklearn import tree\n",
    "from sklearn.linear_model import LinearRegression\n",
    "from sklearn.feature_selection import RFE\n",
    "from mlxtend.feature_selection import SequentialFeatureSelector as SFS\n",
    "from matplotlib.colors import ListedColormap\n",
    "from xgboost import XGBClassifier\n",
    "import numpy as np\n",
    "import matplotlib.pyplot as plt\n",
    "from matplotlib.colors import ListedColormap\n",
    "from sklearn.model_selection import train_test_split\n",
    "from sklearn.preprocessing import StandardScaler\n",
    "from sklearn.datasets import make_moons, make_circles, make_classification\n",
    "from sklearn.svm import SVC\n",
    "from sklearn.gaussian_process.kernels import RBF\n",
    "from sklearn.tree import DecisionTreeClassifier\n",
    "from sklearn.ensemble import RandomForestClassifier, AdaBoostClassifier\n",
    "from sklearn.discriminant_analysis import QuadraticDiscriminantAnalysis\n",
    "from sklearn.linear_model import LogisticRegression\n",
    "\n"
   ]
  },
  {
   "cell_type": "code",
   "execution_count": 2,
   "id": "81dd9763",
   "metadata": {},
   "outputs": [],
   "source": [
    "startdate = '2016-01-1'\n",
    "enddate= '2021-12-31'\n",
    "scaler = MinMaxScaler()"
   ]
  },
  {
   "cell_type": "code",
   "execution_count": 3,
   "id": "dcaed81f-a4c3-4908-808b-b4647707d732",
   "metadata": {},
   "outputs": [],
   "source": [
    "dji = pdr.get_data_yahoo('^DJI', start=startdate, end=enddate)\n",
    "dji_norm = pd.DataFrame(scaler.fit_transform(dji), columns=dji.columns)\n",
    "n225 = pdr.get_data_yahoo(\"^N225\", start=startdate, end=enddate)\n",
    "n225_norm = pd.DataFrame(scaler.fit_transform(n225), columns=n225.columns)\n",
    "hsi = pdr.get_data_yahoo(\"^HSI\", start=startdate, end=enddate)\n",
    "hsi_norm = pd.DataFrame(scaler.fit_transform(hsi), columns=hsi.columns)\n",
    "sse = pdr.get_data_yahoo(\"000001.SS\", start=startdate, end=enddate)\n",
    "sse_norm = pd.DataFrame(scaler.fit_transform(sse), columns=sse.columns)\n"
   ]
  },
  {
   "cell_type": "markdown",
   "id": "b4280033",
   "metadata": {
    "jp-MarkdownHeadingCollapsed": true,
    "tags": []
   },
   "source": [
    "<h1>Dow Jones Industrial Average</h1>"
   ]
  },
  {
   "cell_type": "markdown",
   "id": "e3c72e21",
   "metadata": {},
   "source": [
    "<h2>Feature Selection</h2>"
   ]
  },
  {
   "cell_type": "code",
   "execution_count": 4,
   "id": "0289786f",
   "metadata": {
    "tags": []
   },
   "outputs": [
    {
     "data": {
      "text/html": [
       "<div>\n",
       "<style scoped>\n",
       "    .dataframe tbody tr th:only-of-type {\n",
       "        vertical-align: middle;\n",
       "    }\n",
       "\n",
       "    .dataframe tbody tr th {\n",
       "        vertical-align: top;\n",
       "    }\n",
       "\n",
       "    .dataframe thead th {\n",
       "        text-align: right;\n",
       "    }\n",
       "</style>\n",
       "<table border=\"1\" class=\"dataframe\">\n",
       "  <thead>\n",
       "    <tr style=\"text-align: right;\">\n",
       "      <th></th>\n",
       "      <th>High</th>\n",
       "      <th>Low</th>\n",
       "      <th>Open</th>\n",
       "      <th>Close</th>\n",
       "      <th>Volume</th>\n",
       "      <th>Adj Close</th>\n",
       "      <th>Future Close</th>\n",
       "    </tr>\n",
       "    <tr>\n",
       "      <th>Date</th>\n",
       "      <th></th>\n",
       "      <th></th>\n",
       "      <th></th>\n",
       "      <th></th>\n",
       "      <th></th>\n",
       "      <th></th>\n",
       "      <th></th>\n",
       "    </tr>\n",
       "  </thead>\n",
       "  <tbody>\n",
       "    <tr>\n",
       "      <th>2015-12-31</th>\n",
       "      <td>17590.660156</td>\n",
       "      <td>17421.160156</td>\n",
       "      <td>17590.660156</td>\n",
       "      <td>17425.029297</td>\n",
       "      <td>93690000</td>\n",
       "      <td>17425.029297</td>\n",
       "      <td>17148.939453</td>\n",
       "    </tr>\n",
       "    <tr>\n",
       "      <th>2016-01-04</th>\n",
       "      <td>17405.480469</td>\n",
       "      <td>16957.630859</td>\n",
       "      <td>17405.480469</td>\n",
       "      <td>17148.939453</td>\n",
       "      <td>148060000</td>\n",
       "      <td>17148.939453</td>\n",
       "      <td>17158.660156</td>\n",
       "    </tr>\n",
       "    <tr>\n",
       "      <th>2016-01-05</th>\n",
       "      <td>17195.839844</td>\n",
       "      <td>17038.609375</td>\n",
       "      <td>17147.500000</td>\n",
       "      <td>17158.660156</td>\n",
       "      <td>105750000</td>\n",
       "      <td>17158.660156</td>\n",
       "      <td>16906.509766</td>\n",
       "    </tr>\n",
       "    <tr>\n",
       "      <th>2016-01-06</th>\n",
       "      <td>17154.830078</td>\n",
       "      <td>16817.619141</td>\n",
       "      <td>17154.830078</td>\n",
       "      <td>16906.509766</td>\n",
       "      <td>120250000</td>\n",
       "      <td>16906.509766</td>\n",
       "      <td>16514.099609</td>\n",
       "    </tr>\n",
       "    <tr>\n",
       "      <th>2016-01-07</th>\n",
       "      <td>16888.359375</td>\n",
       "      <td>16463.630859</td>\n",
       "      <td>16888.359375</td>\n",
       "      <td>16514.099609</td>\n",
       "      <td>176240000</td>\n",
       "      <td>16514.099609</td>\n",
       "      <td>16346.450195</td>\n",
       "    </tr>\n",
       "    <tr>\n",
       "      <th>...</th>\n",
       "      <td>...</td>\n",
       "      <td>...</td>\n",
       "      <td>...</td>\n",
       "      <td>...</td>\n",
       "      <td>...</td>\n",
       "      <td>...</td>\n",
       "      <td>...</td>\n",
       "    </tr>\n",
       "    <tr>\n",
       "      <th>2021-11-30</th>\n",
       "      <td>35056.988281</td>\n",
       "      <td>34424.441406</td>\n",
       "      <td>35056.988281</td>\n",
       "      <td>34483.718750</td>\n",
       "      <td>678800000</td>\n",
       "      <td>34483.718750</td>\n",
       "      <td>34022.039062</td>\n",
       "    </tr>\n",
       "    <tr>\n",
       "      <th>2021-12-01</th>\n",
       "      <td>35004.640625</td>\n",
       "      <td>34006.980469</td>\n",
       "      <td>34678.941406</td>\n",
       "      <td>34022.039062</td>\n",
       "      <td>496000000</td>\n",
       "      <td>34022.039062</td>\n",
       "      <td>34639.789062</td>\n",
       "    </tr>\n",
       "    <tr>\n",
       "      <th>2021-12-02</th>\n",
       "      <td>34759.648438</td>\n",
       "      <td>34076.250000</td>\n",
       "      <td>34076.250000</td>\n",
       "      <td>34639.789062</td>\n",
       "      <td>466900000</td>\n",
       "      <td>34639.789062</td>\n",
       "      <td>34580.078125</td>\n",
       "    </tr>\n",
       "    <tr>\n",
       "      <th>2021-12-03</th>\n",
       "      <td>34801.308594</td>\n",
       "      <td>34264.570312</td>\n",
       "      <td>34692.781250</td>\n",
       "      <td>34580.078125</td>\n",
       "      <td>439550000</td>\n",
       "      <td>34580.078125</td>\n",
       "      <td>35227.031250</td>\n",
       "    </tr>\n",
       "    <tr>\n",
       "      <th>2021-12-06</th>\n",
       "      <td>35356.750000</td>\n",
       "      <td>34633.429688</td>\n",
       "      <td>34633.429688</td>\n",
       "      <td>35227.031250</td>\n",
       "      <td>416720000</td>\n",
       "      <td>35227.031250</td>\n",
       "      <td>NaN</td>\n",
       "    </tr>\n",
       "  </tbody>\n",
       "</table>\n",
       "<p>1494 rows × 7 columns</p>\n",
       "</div>"
      ],
      "text/plain": [
       "                    High           Low          Open         Close     Volume  \\\n",
       "Date                                                                            \n",
       "2015-12-31  17590.660156  17421.160156  17590.660156  17425.029297   93690000   \n",
       "2016-01-04  17405.480469  16957.630859  17405.480469  17148.939453  148060000   \n",
       "2016-01-05  17195.839844  17038.609375  17147.500000  17158.660156  105750000   \n",
       "2016-01-06  17154.830078  16817.619141  17154.830078  16906.509766  120250000   \n",
       "2016-01-07  16888.359375  16463.630859  16888.359375  16514.099609  176240000   \n",
       "...                  ...           ...           ...           ...        ...   \n",
       "2021-11-30  35056.988281  34424.441406  35056.988281  34483.718750  678800000   \n",
       "2021-12-01  35004.640625  34006.980469  34678.941406  34022.039062  496000000   \n",
       "2021-12-02  34759.648438  34076.250000  34076.250000  34639.789062  466900000   \n",
       "2021-12-03  34801.308594  34264.570312  34692.781250  34580.078125  439550000   \n",
       "2021-12-06  35356.750000  34633.429688  34633.429688  35227.031250  416720000   \n",
       "\n",
       "               Adj Close  Future Close  \n",
       "Date                                    \n",
       "2015-12-31  17425.029297  17148.939453  \n",
       "2016-01-04  17148.939453  17158.660156  \n",
       "2016-01-05  17158.660156  16906.509766  \n",
       "2016-01-06  16906.509766  16514.099609  \n",
       "2016-01-07  16514.099609  16346.450195  \n",
       "...                  ...           ...  \n",
       "2021-11-30  34483.718750  34022.039062  \n",
       "2021-12-01  34022.039062  34639.789062  \n",
       "2021-12-02  34639.789062  34580.078125  \n",
       "2021-12-03  34580.078125  35227.031250  \n",
       "2021-12-06  35227.031250           NaN  \n",
       "\n",
       "[1494 rows x 7 columns]"
      ]
     },
     "execution_count": 4,
     "metadata": {},
     "output_type": "execute_result"
    }
   ],
   "source": [
    "dji['Future Close'] = dji['Close'].shift(-1)\n",
    "dji"
   ]
  },
  {
   "cell_type": "code",
   "execution_count": 5,
   "id": "3123e9a7",
   "metadata": {},
   "outputs": [],
   "source": [
    "def computeTarget(present_price, future_price):\n",
    "    score = (( future_price - present_price ) / present_price ) * 100\n",
    "    target = []\n",
    "    for i in score:\n",
    "        if i > 0:\n",
    "            target.append(1)\n",
    "        else:\n",
    "            target.append(0)\n",
    "    return target\n",
    "# 1 = up, 0 = down"
   ]
  },
  {
   "cell_type": "code",
   "execution_count": 6,
   "id": "b029de59",
   "metadata": {},
   "outputs": [],
   "source": [
    "\n",
    "target = computeTarget(dji['Close'], dji['Future Close'])\n",
    "\n",
    "dji['Target'] = target\n"
   ]
  },
  {
   "cell_type": "code",
   "execution_count": 7,
   "id": "ead8e0e8-fc6a-4772-8f0b-5bec6abac5c8",
   "metadata": {},
   "outputs": [],
   "source": [
    "close = dji['Close']\n",
    "high = dji['High']\n",
    "low = dji['Low']\n",
    "open = dji['Open']\n",
    "volume  = dji['Volume']"
   ]
  },
  {
   "cell_type": "code",
   "execution_count": 8,
   "id": "a43f2f7d-15b4-435d-a133-cccb77d6f831",
   "metadata": {},
   "outputs": [
    {
     "data": {
      "text/html": [
       "<div>\n",
       "<style scoped>\n",
       "    .dataframe tbody tr th:only-of-type {\n",
       "        vertical-align: middle;\n",
       "    }\n",
       "\n",
       "    .dataframe tbody tr th {\n",
       "        vertical-align: top;\n",
       "    }\n",
       "\n",
       "    .dataframe thead th {\n",
       "        text-align: right;\n",
       "    }\n",
       "</style>\n",
       "<table border=\"1\" class=\"dataframe\">\n",
       "  <thead>\n",
       "    <tr style=\"text-align: right;\">\n",
       "      <th></th>\n",
       "      <th>SMA20</th>\n",
       "      <th>SMA50</th>\n",
       "      <th>SMA200</th>\n",
       "      <th>EMA</th>\n",
       "      <th>OBV</th>\n",
       "      <th>RSI14</th>\n",
       "      <th>ADX</th>\n",
       "      <th>ADXR</th>\n",
       "      <th>aroondown</th>\n",
       "      <th>aroonup</th>\n",
       "      <th>...</th>\n",
       "      <th>slowk</th>\n",
       "      <th>slowd</th>\n",
       "      <th>fastk</th>\n",
       "      <th>fastd</th>\n",
       "      <th>TRIX</th>\n",
       "      <th>ULTOSC</th>\n",
       "      <th>WILLR</th>\n",
       "      <th>Target</th>\n",
       "      <th>Close</th>\n",
       "      <th>Re Target</th>\n",
       "    </tr>\n",
       "    <tr>\n",
       "      <th>Date</th>\n",
       "      <th></th>\n",
       "      <th></th>\n",
       "      <th></th>\n",
       "      <th></th>\n",
       "      <th></th>\n",
       "      <th></th>\n",
       "      <th></th>\n",
       "      <th></th>\n",
       "      <th></th>\n",
       "      <th></th>\n",
       "      <th></th>\n",
       "      <th></th>\n",
       "      <th></th>\n",
       "      <th></th>\n",
       "      <th></th>\n",
       "      <th></th>\n",
       "      <th></th>\n",
       "      <th></th>\n",
       "      <th></th>\n",
       "      <th></th>\n",
       "      <th></th>\n",
       "    </tr>\n",
       "  </thead>\n",
       "  <tbody>\n",
       "    <tr>\n",
       "      <th>2015-12-31</th>\n",
       "      <td>NaN</td>\n",
       "      <td>NaN</td>\n",
       "      <td>NaN</td>\n",
       "      <td>NaN</td>\n",
       "      <td>9.369000e+07</td>\n",
       "      <td>NaN</td>\n",
       "      <td>NaN</td>\n",
       "      <td>NaN</td>\n",
       "      <td>NaN</td>\n",
       "      <td>NaN</td>\n",
       "      <td>...</td>\n",
       "      <td>NaN</td>\n",
       "      <td>NaN</td>\n",
       "      <td>NaN</td>\n",
       "      <td>NaN</td>\n",
       "      <td>NaN</td>\n",
       "      <td>NaN</td>\n",
       "      <td>NaN</td>\n",
       "      <td>0</td>\n",
       "      <td>17425.029297</td>\n",
       "      <td>17148.939453</td>\n",
       "    </tr>\n",
       "    <tr>\n",
       "      <th>2016-01-04</th>\n",
       "      <td>NaN</td>\n",
       "      <td>NaN</td>\n",
       "      <td>NaN</td>\n",
       "      <td>NaN</td>\n",
       "      <td>-5.437000e+07</td>\n",
       "      <td>NaN</td>\n",
       "      <td>NaN</td>\n",
       "      <td>NaN</td>\n",
       "      <td>NaN</td>\n",
       "      <td>NaN</td>\n",
       "      <td>...</td>\n",
       "      <td>NaN</td>\n",
       "      <td>NaN</td>\n",
       "      <td>NaN</td>\n",
       "      <td>NaN</td>\n",
       "      <td>NaN</td>\n",
       "      <td>NaN</td>\n",
       "      <td>NaN</td>\n",
       "      <td>1</td>\n",
       "      <td>17148.939453</td>\n",
       "      <td>17158.660156</td>\n",
       "    </tr>\n",
       "    <tr>\n",
       "      <th>2016-01-05</th>\n",
       "      <td>NaN</td>\n",
       "      <td>NaN</td>\n",
       "      <td>NaN</td>\n",
       "      <td>NaN</td>\n",
       "      <td>5.138000e+07</td>\n",
       "      <td>NaN</td>\n",
       "      <td>NaN</td>\n",
       "      <td>NaN</td>\n",
       "      <td>NaN</td>\n",
       "      <td>NaN</td>\n",
       "      <td>...</td>\n",
       "      <td>NaN</td>\n",
       "      <td>NaN</td>\n",
       "      <td>NaN</td>\n",
       "      <td>NaN</td>\n",
       "      <td>NaN</td>\n",
       "      <td>NaN</td>\n",
       "      <td>NaN</td>\n",
       "      <td>0</td>\n",
       "      <td>17158.660156</td>\n",
       "      <td>16906.509766</td>\n",
       "    </tr>\n",
       "    <tr>\n",
       "      <th>2016-01-06</th>\n",
       "      <td>NaN</td>\n",
       "      <td>NaN</td>\n",
       "      <td>NaN</td>\n",
       "      <td>NaN</td>\n",
       "      <td>-6.887000e+07</td>\n",
       "      <td>NaN</td>\n",
       "      <td>NaN</td>\n",
       "      <td>NaN</td>\n",
       "      <td>NaN</td>\n",
       "      <td>NaN</td>\n",
       "      <td>...</td>\n",
       "      <td>NaN</td>\n",
       "      <td>NaN</td>\n",
       "      <td>NaN</td>\n",
       "      <td>NaN</td>\n",
       "      <td>NaN</td>\n",
       "      <td>NaN</td>\n",
       "      <td>NaN</td>\n",
       "      <td>0</td>\n",
       "      <td>16906.509766</td>\n",
       "      <td>16514.099609</td>\n",
       "    </tr>\n",
       "    <tr>\n",
       "      <th>2016-01-07</th>\n",
       "      <td>NaN</td>\n",
       "      <td>NaN</td>\n",
       "      <td>NaN</td>\n",
       "      <td>NaN</td>\n",
       "      <td>-2.451100e+08</td>\n",
       "      <td>NaN</td>\n",
       "      <td>NaN</td>\n",
       "      <td>NaN</td>\n",
       "      <td>NaN</td>\n",
       "      <td>NaN</td>\n",
       "      <td>...</td>\n",
       "      <td>NaN</td>\n",
       "      <td>NaN</td>\n",
       "      <td>NaN</td>\n",
       "      <td>NaN</td>\n",
       "      <td>NaN</td>\n",
       "      <td>NaN</td>\n",
       "      <td>NaN</td>\n",
       "      <td>0</td>\n",
       "      <td>16514.099609</td>\n",
       "      <td>16346.450195</td>\n",
       "    </tr>\n",
       "    <tr>\n",
       "      <th>...</th>\n",
       "      <td>...</td>\n",
       "      <td>...</td>\n",
       "      <td>...</td>\n",
       "      <td>...</td>\n",
       "      <td>...</td>\n",
       "      <td>...</td>\n",
       "      <td>...</td>\n",
       "      <td>...</td>\n",
       "      <td>...</td>\n",
       "      <td>...</td>\n",
       "      <td>...</td>\n",
       "      <td>...</td>\n",
       "      <td>...</td>\n",
       "      <td>...</td>\n",
       "      <td>...</td>\n",
       "      <td>...</td>\n",
       "      <td>...</td>\n",
       "      <td>...</td>\n",
       "      <td>...</td>\n",
       "      <td>...</td>\n",
       "      <td>...</td>\n",
       "    </tr>\n",
       "    <tr>\n",
       "      <th>2021-11-30</th>\n",
       "      <td>35845.307227</td>\n",
       "      <td>35282.616797</td>\n",
       "      <td>34348.898145</td>\n",
       "      <td>35501.413927</td>\n",
       "      <td>3.942757e+10</td>\n",
       "      <td>31.663054</td>\n",
       "      <td>23.173511</td>\n",
       "      <td>24.323333</td>\n",
       "      <td>100.000000</td>\n",
       "      <td>0.000000</td>\n",
       "      <td>...</td>\n",
       "      <td>16.528354</td>\n",
       "      <td>31.024955</td>\n",
       "      <td>4.183068</td>\n",
       "      <td>16.528354</td>\n",
       "      <td>0.056232</td>\n",
       "      <td>32.270423</td>\n",
       "      <td>-96.916121</td>\n",
       "      <td>0</td>\n",
       "      <td>34483.718750</td>\n",
       "      <td>34022.039062</td>\n",
       "    </tr>\n",
       "    <tr>\n",
       "      <th>2021-12-01</th>\n",
       "      <td>35743.777734</td>\n",
       "      <td>35284.660781</td>\n",
       "      <td>34360.943242</td>\n",
       "      <td>35304.163945</td>\n",
       "      <td>3.893157e+10</td>\n",
       "      <td>27.377423</td>\n",
       "      <td>25.744965</td>\n",
       "      <td>25.230877</td>\n",
       "      <td>100.000000</td>\n",
       "      <td>0.000000</td>\n",
       "      <td>...</td>\n",
       "      <td>12.579611</td>\n",
       "      <td>21.838442</td>\n",
       "      <td>0.828083</td>\n",
       "      <td>12.579611</td>\n",
       "      <td>0.053016</td>\n",
       "      <td>26.865407</td>\n",
       "      <td>-99.348008</td>\n",
       "      <td>1</td>\n",
       "      <td>34022.039062</td>\n",
       "      <td>34639.789062</td>\n",
       "    </tr>\n",
       "    <tr>\n",
       "      <th>2021-12-02</th>\n",
       "      <td>35667.888281</td>\n",
       "      <td>35292.290156</td>\n",
       "      <td>34376.675488</td>\n",
       "      <td>35215.580628</td>\n",
       "      <td>3.939847e+10</td>\n",
       "      <td>39.229887</td>\n",
       "      <td>28.132745</td>\n",
       "      <td>26.137370</td>\n",
       "      <td>92.857143</td>\n",
       "      <td>21.428571</td>\n",
       "      <td>...</td>\n",
       "      <td>17.183696</td>\n",
       "      <td>15.430554</td>\n",
       "      <td>46.539936</td>\n",
       "      <td>17.183696</td>\n",
       "      <td>0.049360</td>\n",
       "      <td>35.869221</td>\n",
       "      <td>-72.601287</td>\n",
       "      <td>0</td>\n",
       "      <td>34639.789062</td>\n",
       "      <td>34580.078125</td>\n",
       "    </tr>\n",
       "    <tr>\n",
       "      <th>2021-12-03</th>\n",
       "      <td>35590.680664</td>\n",
       "      <td>35288.595313</td>\n",
       "      <td>34392.104277</td>\n",
       "      <td>35130.846961</td>\n",
       "      <td>3.895892e+10</td>\n",
       "      <td>38.574552</td>\n",
       "      <td>30.153469</td>\n",
       "      <td>27.024315</td>\n",
       "      <td>85.714286</td>\n",
       "      <td>14.285714</td>\n",
       "      <td>...</td>\n",
       "      <td>30.702926</td>\n",
       "      <td>20.155411</td>\n",
       "      <td>44.740758</td>\n",
       "      <td>30.702926</td>\n",
       "      <td>0.045330</td>\n",
       "      <td>35.581343</td>\n",
       "      <td>-75.186591</td>\n",
       "      <td>1</td>\n",
       "      <td>34580.078125</td>\n",
       "      <td>35227.031250</td>\n",
       "    </tr>\n",
       "    <tr>\n",
       "      <th>2021-12-06</th>\n",
       "      <td>35535.634766</td>\n",
       "      <td>35297.175937</td>\n",
       "      <td>34410.630986</td>\n",
       "      <td>35143.671533</td>\n",
       "      <td>3.937564e+10</td>\n",
       "      <td>48.594392</td>\n",
       "      <td>29.808472</td>\n",
       "      <td>26.865071</td>\n",
       "      <td>78.571429</td>\n",
       "      <td>7.142857</td>\n",
       "      <td>...</td>\n",
       "      <td>60.556752</td>\n",
       "      <td>36.147791</td>\n",
       "      <td>90.389563</td>\n",
       "      <td>60.556752</td>\n",
       "      <td>0.041524</td>\n",
       "      <td>40.337773</td>\n",
       "      <td>-47.175463</td>\n",
       "      <td>0</td>\n",
       "      <td>35227.031250</td>\n",
       "      <td>NaN</td>\n",
       "    </tr>\n",
       "  </tbody>\n",
       "</table>\n",
       "<p>1494 rows × 40 columns</p>\n",
       "</div>"
      ],
      "text/plain": [
       "                   SMA20         SMA50        SMA200           EMA  \\\n",
       "Date                                                                 \n",
       "2015-12-31           NaN           NaN           NaN           NaN   \n",
       "2016-01-04           NaN           NaN           NaN           NaN   \n",
       "2016-01-05           NaN           NaN           NaN           NaN   \n",
       "2016-01-06           NaN           NaN           NaN           NaN   \n",
       "2016-01-07           NaN           NaN           NaN           NaN   \n",
       "...                  ...           ...           ...           ...   \n",
       "2021-11-30  35845.307227  35282.616797  34348.898145  35501.413927   \n",
       "2021-12-01  35743.777734  35284.660781  34360.943242  35304.163945   \n",
       "2021-12-02  35667.888281  35292.290156  34376.675488  35215.580628   \n",
       "2021-12-03  35590.680664  35288.595313  34392.104277  35130.846961   \n",
       "2021-12-06  35535.634766  35297.175937  34410.630986  35143.671533   \n",
       "\n",
       "                     OBV      RSI14        ADX       ADXR   aroondown  \\\n",
       "Date                                                                    \n",
       "2015-12-31  9.369000e+07        NaN        NaN        NaN         NaN   \n",
       "2016-01-04 -5.437000e+07        NaN        NaN        NaN         NaN   \n",
       "2016-01-05  5.138000e+07        NaN        NaN        NaN         NaN   \n",
       "2016-01-06 -6.887000e+07        NaN        NaN        NaN         NaN   \n",
       "2016-01-07 -2.451100e+08        NaN        NaN        NaN         NaN   \n",
       "...                  ...        ...        ...        ...         ...   \n",
       "2021-11-30  3.942757e+10  31.663054  23.173511  24.323333  100.000000   \n",
       "2021-12-01  3.893157e+10  27.377423  25.744965  25.230877  100.000000   \n",
       "2021-12-02  3.939847e+10  39.229887  28.132745  26.137370   92.857143   \n",
       "2021-12-03  3.895892e+10  38.574552  30.153469  27.024315   85.714286   \n",
       "2021-12-06  3.937564e+10  48.594392  29.808472  26.865071   78.571429   \n",
       "\n",
       "              aroonup  ...      slowk      slowd      fastk      fastd  \\\n",
       "Date                   ...                                               \n",
       "2015-12-31        NaN  ...        NaN        NaN        NaN        NaN   \n",
       "2016-01-04        NaN  ...        NaN        NaN        NaN        NaN   \n",
       "2016-01-05        NaN  ...        NaN        NaN        NaN        NaN   \n",
       "2016-01-06        NaN  ...        NaN        NaN        NaN        NaN   \n",
       "2016-01-07        NaN  ...        NaN        NaN        NaN        NaN   \n",
       "...               ...  ...        ...        ...        ...        ...   \n",
       "2021-11-30   0.000000  ...  16.528354  31.024955   4.183068  16.528354   \n",
       "2021-12-01   0.000000  ...  12.579611  21.838442   0.828083  12.579611   \n",
       "2021-12-02  21.428571  ...  17.183696  15.430554  46.539936  17.183696   \n",
       "2021-12-03  14.285714  ...  30.702926  20.155411  44.740758  30.702926   \n",
       "2021-12-06   7.142857  ...  60.556752  36.147791  90.389563  60.556752   \n",
       "\n",
       "                TRIX     ULTOSC      WILLR  Target         Close     Re Target  \n",
       "Date                                                                            \n",
       "2015-12-31       NaN        NaN        NaN       0  17425.029297  17148.939453  \n",
       "2016-01-04       NaN        NaN        NaN       1  17148.939453  17158.660156  \n",
       "2016-01-05       NaN        NaN        NaN       0  17158.660156  16906.509766  \n",
       "2016-01-06       NaN        NaN        NaN       0  16906.509766  16514.099609  \n",
       "2016-01-07       NaN        NaN        NaN       0  16514.099609  16346.450195  \n",
       "...              ...        ...        ...     ...           ...           ...  \n",
       "2021-11-30  0.056232  32.270423 -96.916121       0  34483.718750  34022.039062  \n",
       "2021-12-01  0.053016  26.865407 -99.348008       1  34022.039062  34639.789062  \n",
       "2021-12-02  0.049360  35.869221 -72.601287       0  34639.789062  34580.078125  \n",
       "2021-12-03  0.045330  35.581343 -75.186591       1  34580.078125  35227.031250  \n",
       "2021-12-06  0.041524  40.337773 -47.175463       0  35227.031250           NaN  \n",
       "\n",
       "[1494 rows x 40 columns]"
      ]
     },
     "execution_count": 8,
     "metadata": {},
     "output_type": "execute_result"
    }
   ],
   "source": [
    "dji_ti = pd.DataFrame()\n",
    "dji_ti['SMA20'] = talib.SMA(close, timeperiod=20)\n",
    "dji_ti['SMA50'] = talib.SMA(close, timeperiod=50)\n",
    "dji_ti['SMA200'] = talib.SMA(close, timeperiod=200)\n",
    "dji_ti['EMA'] = talib.EMA(close, timeperiod=14)\n",
    "dji_ti['OBV'] = talib.OBV(close, volume)\n",
    "dji_ti['RSI14'] = talib.RSI(close, timeperiod=14)\n",
    "dji_ti['ADX'] = talib.ADX(high, low, close, timeperiod=14)\n",
    "dji_ti['ADXR'] = talib.ADXR(high, low, close, timeperiod=14)\n",
    "dji_ti['aroondown'], dji_ti['aroonup'] = talib.AROON(high, low, timeperiod=14)\n",
    "dji_ti['APO'] = talib.APO(close, fastperiod=12, slowperiod=26, matype=0)\n",
    "dji_ti['AROONOSC'] = talib.AROONOSC(high, low, timeperiod=14)\n",
    "dji_ti['BOP'] = talib.BOP(open, high, low, close)\n",
    "dji_ti['CCI'] = talib.CCI(high, low, close, timeperiod=14)\n",
    "dji_ti['CMO'] = talib.CMO(close, timeperiod=14)\n",
    "dji_ti['DX'] = talib.DX(high, low, close, timeperiod=14)\n",
    "dji_ti['macd'],dji_ti['macdsignal'],dji_ti['macdhist'] = talib.MACD(close, fastperiod = 12, slowperiod=26, signalperiod=9)\n",
    "dji_ti['MFI'] = talib.MFI(high, low, close, volume, timeperiod=14)\n",
    "dji_ti['MINUS_DI'] = talib.MINUS_DI(high, low, close, timeperiod=14)\n",
    "dji_ti['MINUS_DM'] = talib.MINUS_DM(high, low, timeperiod=14)\n",
    "dji_ti['MOM'] = talib.MOM(close, timeperiod=14)\n",
    "dji_ti['PLUS_DI'] = talib.PLUS_DI(high, low, close, timeperiod=14)\n",
    "dji_ti['PLUS_DM'] = talib.PLUS_DM(high, low, timeperiod=14)\n",
    "dji_ti['PPO'] = talib.PPO(close, fastperiod=12, slowperiod=26, matype=0)\n",
    "dji_ti['ROC'] = talib.ROC(close, timeperiod=10)\n",
    "dji_ti['ROCP'] = talib.ROCP(close, timeperiod=10)\n",
    "dji_ti['ROCR'] = talib.ROCR(close, timeperiod=10)\n",
    "dji_ti['ROCR100'] = talib.ROCR100(close, timeperiod=10)\n",
    "dji_ti['slowk'], dji_ti['slowd'] = talib.STOCH(high, low, close, fastk_period=5, slowk_period=3, slowd_period=3, slowd_matype=0)\n",
    "dji_ti['fastk'], dji_ti['fastd'] = talib.STOCHF(high, low, close, fastk_period=5, fastd_period=3, fastd_matype=0)\n",
    "dji_ti['TRIX'] = talib.TRIX(close, timeperiod=30)\n",
    "dji_ti['ULTOSC'] = talib.ULTOSC(high, low, close, timeperiod1=7, timeperiod2=14, timeperiod3=28)\n",
    "dji_ti['WILLR'] = talib.WILLR(high, low, close, timeperiod=14)\n",
    "dji_ti['Target'] = dji['Target']\n",
    "dji_ti['Close'] = dji['Close']\n",
    "dji_ti['Re Target'] = dji['Future Close']\n",
    "dji_ti"
   ]
  },
  {
   "cell_type": "code",
   "execution_count": 9,
   "id": "d7150c71",
   "metadata": {},
   "outputs": [],
   "source": [
    "dji_target = dji_ti.tail(1)\n",
    "dji_target\n",
    "dji_ti = dji_ti.dropna()"
   ]
  },
  {
   "cell_type": "code",
   "execution_count": 10,
   "id": "73f9722b",
   "metadata": {},
   "outputs": [],
   "source": [
    "def selectFeatures(df, target):\n",
    "    #Split the features and target data\n",
    "    #select the first 13 columns as features\n",
    "    X = df.drop(target, axis=1)  # Feature Matrix\n",
    "    #Select the last column for target \n",
    "    Y = df[target]               # Target Variable\n",
    "\n",
    "    #Build a logistic regression model \n",
    "    model = LinearRegression()\n",
    "    #Define RFE \n",
    "    rfe = RFE(model)\n",
    "    #Use RFE to select the top 5 features \n",
    "    fit = rfe.fit(X, Y)\n",
    "\n",
    "    #Create a dataframe for the results \n",
    "    df_RFE_results = []\n",
    "    for i in range(X.shape[1]):\n",
    "        df_RFE_results.append(\n",
    "            {      \n",
    "                'Feature_names': X.columns[i],\n",
    "                'Selected':  rfe.support_[i],\n",
    "                'RFE_ranking':  rfe.ranking_[i],\n",
    "            }\n",
    "        )\n",
    "\n",
    "    df_RFE_results = pd.DataFrame(df_RFE_results)\n",
    "    df_RFE_results.index.name='Columns'\n",
    "    ti = []\n",
    "    for index, row in df_RFE_results.iterrows():\n",
    "        if row['Selected'] == True:\n",
    "            ti.append(row['Feature_names']) \n",
    "    return ti"
   ]
  },
  {
   "cell_type": "code",
   "execution_count": 11,
   "id": "be486c26",
   "metadata": {},
   "outputs": [
    {
     "data": {
      "text/plain": [
       "['RSI14',\n",
       " 'ADX',\n",
       " 'ADXR',\n",
       " 'aroondown',\n",
       " 'APO',\n",
       " 'BOP',\n",
       " 'CMO',\n",
       " 'DX',\n",
       " 'MFI',\n",
       " 'MINUS_DI',\n",
       " 'PLUS_DI',\n",
       " 'PPO',\n",
       " 'ROC',\n",
       " 'ROCR100',\n",
       " 'slowd',\n",
       " 'TRIX',\n",
       " 'ULTOSC']"
      ]
     },
     "execution_count": 11,
     "metadata": {},
     "output_type": "execute_result"
    }
   ],
   "source": [
    "dji_features = selectFeatures(dji_ti,'Target')\n",
    "dji_features.remove('Re Target')\n",
    "dji_features.remove('Close')\n",
    "dji_features"
   ]
  },
  {
   "cell_type": "code",
   "execution_count": 12,
   "id": "bf8b7288-39a2-459a-a648-3a864c51f0e7",
   "metadata": {},
   "outputs": [],
   "source": [
    "from sklearn.model_selection import train_test_split\n",
    "X = dji_ti.loc[:, dji_features].values\n",
    "#X = dji_ti.loc[:, ['CCI', 'DX', 'MINUS_DI', 'PLUS_DM', 'slowd']].values\n",
    "y = dji_ti.loc[:, ['Target']].values\n",
    "X_train, X_test, y_train, y_test = train_test_split(X, y, test_size=0.2, random_state=0)\n"
   ]
  },
  {
   "cell_type": "code",
   "execution_count": 13,
   "id": "3b537f27",
   "metadata": {},
   "outputs": [],
   "source": [
    "from sklearn.preprocessing import StandardScaler\n",
    "sc = StandardScaler()\n",
    "X_train = sc.fit_transform(X_train)\n",
    "X_test = sc.transform(X_test)"
   ]
  },
  {
   "cell_type": "markdown",
   "id": "6dbda3d5",
   "metadata": {
    "jp-MarkdownHeadingCollapsed": true,
    "tags": []
   },
   "source": [
    "<h2>Decision Tree</h2>"
   ]
  },
  {
   "cell_type": "code",
   "execution_count": 14,
   "id": "3aeac4b9",
   "metadata": {},
   "outputs": [
    {
     "data": {
      "text/plain": [
       "DecisionTreeClassifier(criterion='entropy')"
      ]
     },
     "execution_count": 14,
     "metadata": {},
     "output_type": "execute_result"
    }
   ],
   "source": [
    "# Decision Tree Classifier: Create and Train the model\n",
    "#\n",
    "from sklearn.tree import DecisionTreeClassifier\n",
    "\n",
    "dtc = DecisionTreeClassifier(criterion=\"entropy\")\n",
    "dtc.fit(X_train, y_train)"
   ]
  },
  {
   "cell_type": "code",
   "execution_count": 15,
   "id": "ee75644e",
   "metadata": {},
   "outputs": [
    {
     "data": {
      "text/plain": [
       "array([1, 1, 0, 1, 0, 1, 1, 0, 1, 1, 1, 0, 0, 0, 1, 1, 0, 1, 1, 0, 1, 0,\n",
       "       1, 0, 0, 0, 1, 1, 0, 0, 1, 0, 0, 0, 1, 0, 1, 1, 0, 0, 1, 1, 1, 1,\n",
       "       0, 0, 1, 0, 1, 0, 0, 1, 1, 0, 0, 1, 1, 0, 0, 0, 1, 1, 0, 1, 1, 0,\n",
       "       0, 1, 1, 0, 1, 0, 1, 0, 1, 0, 1, 1, 1, 0, 0, 1, 1, 1, 0, 1, 0, 0,\n",
       "       0, 1, 0, 0, 0, 1, 0, 0, 0, 0, 0, 0, 0, 1, 1, 1, 0, 0, 0, 0, 0, 1,\n",
       "       0, 1, 0, 0, 0, 0, 1, 0, 1, 1, 1, 0, 0, 0, 1, 1, 0, 0, 1, 0, 0, 0,\n",
       "       0, 0, 0, 0, 1, 1, 0, 1, 1, 0, 1, 0, 1, 0, 0, 1, 0, 0, 0, 0, 0, 0,\n",
       "       1, 0, 0, 1, 0, 0, 1, 1, 1, 1, 1, 1, 1, 0, 0, 0, 0, 1, 0, 1, 1, 0,\n",
       "       0, 0, 1, 1, 1, 1, 0, 0, 1, 0, 1, 0, 0, 0, 0, 1, 1, 0, 0, 0, 0, 1,\n",
       "       1, 1, 1, 1, 1, 1, 1, 0, 1, 1, 0, 1, 1, 1, 1, 1, 0, 0, 0, 1, 1, 0,\n",
       "       1, 0, 0, 0, 0, 1, 1, 0, 0, 1, 0, 1, 1, 1, 0, 0, 0, 0, 1, 0, 1, 0,\n",
       "       1, 1, 1, 1, 0, 0, 0, 0, 0, 0, 0, 0, 1, 1, 1, 1, 1], dtype=int64)"
      ]
     },
     "execution_count": 15,
     "metadata": {},
     "output_type": "execute_result"
    }
   ],
   "source": [
    "# Prediction\n",
    "#\n",
    "y_pred = dtc.predict(X_test)  #Accuracy\n",
    "y_pred"
   ]
  },
  {
   "cell_type": "code",
   "execution_count": 16,
   "id": "aa94329e",
   "metadata": {},
   "outputs": [],
   "source": [
    "# Look at the actual y_test\n",
    "#\n",
    "#y_test\n"
   ]
  },
  {
   "cell_type": "code",
   "execution_count": 17,
   "id": "8af94b63",
   "metadata": {},
   "outputs": [],
   "source": [
    "from sklearn import metrics\n",
    "cla = \"classification\"\n",
    "reg = \"regression\"\n",
    "def evaluate(task, y_test, y_pred):\n",
    "    evaluate = []\n",
    "    if task == cla:\n",
    "        evaluate.append(metrics.accuracy_score(y_test, y_pred))\n",
    "        evaluate.append(metrics.confusion_matrix(y_test, y_pred))\n",
    "        evaluate.append(metrics.f1_score(y_test, y_pred))\n",
    "        evaluate.append(metrics.precision_score(y_test, y_pred))\n",
    "        evaluate.append(metrics.recall_score(y_test, y_pred))\n",
    "        evaluate.append(metrics.roc_auc_score(y_test, y_pred))\n",
    "    elif task == reg:\n",
    "        evaluate.append(metrics.mean_squared_error(y_test, y_pred, squared=False))\n",
    "        evaluate.append(metrics.r2_score(y_test, y_pred))\n",
    "    return evaluate\n"
   ]
  },
  {
   "cell_type": "code",
   "execution_count": 18,
   "id": "7b596a4b",
   "metadata": {},
   "outputs": [],
   "source": [
    "def printEval(task, evaluation):\n",
    "    if task == cla:\n",
    "        print(\"Accuracy Score: \", evaluation[0])\n",
    "        print(\"Confusion Matrix: \\n\", evaluation[1])\n",
    "        print(\"F1 Score: \", evaluation[2])\n",
    "        print(\"Precision Score: \", evaluation[3])\n",
    "        print(\"Recall score: \", evaluation[4])\n",
    "        print(\"Area Under Curve score: \", evaluation[5])\n",
    "    elif task == reg:\n",
    "        print(\"Mean Squared Error: \", evaluation[0])\n",
    "        print(\"Adjusted R squared\", evaluation[1])"
   ]
  },
  {
   "cell_type": "code",
   "execution_count": 19,
   "id": "7fd1b6d4",
   "metadata": {},
   "outputs": [
    {
     "name": "stdout",
     "output_type": "stream",
     "text": [
      "Accuracy Score:  0.5096525096525096\n",
      "Confusion Matrix: \n",
      " [[55 45]\n",
      " [82 77]]\n",
      "F1 Score:  0.5480427046263345\n",
      "Precision Score:  0.6311475409836066\n",
      "Recall score:  0.48427672955974843\n",
      "Area Under Curve score:  0.5171383647798743\n"
     ]
    }
   ],
   "source": [
    "dctEval = evaluate(cla, y_test, y_pred)\n",
    "printEval(cla, dctEval)\n"
   ]
  },
  {
   "cell_type": "markdown",
   "id": "9c1bf7aa",
   "metadata": {
    "jp-MarkdownHeadingCollapsed": true,
    "tags": []
   },
   "source": [
    "<h2>Random Forest</h2>"
   ]
  },
  {
   "cell_type": "code",
   "execution_count": 20,
   "id": "9d384b69",
   "metadata": {},
   "outputs": [],
   "source": [
    "from sklearn.model_selection import train_test_split\n",
    "from sklearn.ensemble import RandomForestClassifier"
   ]
  },
  {
   "cell_type": "code",
   "execution_count": 21,
   "id": "7b9716bf",
   "metadata": {},
   "outputs": [
    {
     "name": "stderr",
     "output_type": "stream",
     "text": [
      "<ipython-input-21-e78831f05c68>:2: DataConversionWarning: A column-vector y was passed when a 1d array was expected. Please change the shape of y to (n_samples,), for example using ravel().\n",
      "  forest.fit(X_train, y_train)\n"
     ]
    },
    {
     "data": {
      "text/plain": [
       "RandomForestClassifier(max_depth=2, n_estimators=1000, random_state=42)"
      ]
     },
     "execution_count": 21,
     "metadata": {},
     "output_type": "execute_result"
    }
   ],
   "source": [
    "forest = RandomForestClassifier(n_estimators = 1000, random_state = 42, max_depth=2)\n",
    "forest.fit(X_train, y_train)"
   ]
  },
  {
   "cell_type": "code",
   "execution_count": 22,
   "id": "0e8eb315",
   "metadata": {},
   "outputs": [
    {
     "data": {
      "text/plain": [
       "array([1, 1, 1, 1, 1, 1, 1, 1, 1, 1, 1, 0, 1, 1, 1, 1, 1, 1, 1, 1, 1, 1,\n",
       "       1, 1, 1, 1, 1, 1, 1, 1, 1, 1, 1, 1, 1, 1, 1, 1, 1, 1, 1, 1, 1, 1,\n",
       "       1, 1, 1, 1, 1, 1, 1, 1, 1, 1, 1, 1, 1, 1, 1, 1, 1, 1, 1, 1, 1, 1,\n",
       "       1, 1, 1, 1, 1, 1, 1, 1, 0, 1, 1, 1, 1, 1, 1, 1, 1, 1, 1, 1, 1, 1,\n",
       "       1, 1, 1, 1, 1, 1, 1, 1, 1, 1, 1, 1, 1, 1, 1, 1, 1, 1, 1, 1, 1, 1,\n",
       "       1, 1, 1, 1, 1, 0, 1, 1, 1, 1, 1, 1, 1, 1, 1, 1, 1, 0, 1, 1, 1, 1,\n",
       "       1, 1, 1, 1, 1, 1, 1, 1, 1, 1, 1, 1, 1, 1, 1, 1, 1, 1, 1, 1, 1, 1,\n",
       "       1, 1, 0, 1, 1, 1, 1, 1, 1, 1, 1, 1, 1, 1, 1, 1, 1, 1, 1, 1, 1, 1,\n",
       "       1, 1, 1, 1, 1, 1, 1, 1, 1, 1, 1, 1, 1, 1, 1, 1, 1, 1, 1, 1, 1, 1,\n",
       "       1, 1, 1, 1, 1, 1, 1, 1, 0, 1, 1, 1, 1, 1, 1, 1, 1, 1, 1, 1, 1, 1,\n",
       "       1, 1, 1, 1, 1, 1, 1, 1, 1, 1, 1, 1, 1, 1, 0, 1, 1, 1, 1, 1, 1, 1,\n",
       "       1, 1, 1, 1, 1, 1, 1, 1, 1, 1, 1, 1, 1, 1, 1, 1, 1], dtype=int64)"
      ]
     },
     "execution_count": 22,
     "metadata": {},
     "output_type": "execute_result"
    }
   ],
   "source": [
    "# Prediction\n",
    "#\n",
    "y_pred = forest.predict(X_test)  #Accuracy\n",
    "y_pred"
   ]
  },
  {
   "cell_type": "code",
   "execution_count": 23,
   "id": "e607dcb3",
   "metadata": {},
   "outputs": [
    {
     "name": "stdout",
     "output_type": "stream",
     "text": [
      "Accuracy Score:  0.5945945945945946\n",
      "Confusion Matrix: \n",
      " [[  1  99]\n",
      " [  6 153]]\n",
      "F1 Score:  0.7445255474452553\n",
      "Precision Score:  0.6071428571428571\n",
      "Recall score:  0.9622641509433962\n",
      "Area Under Curve score:  0.4861320754716981\n"
     ]
    }
   ],
   "source": [
    "forestEval = evaluate(cla, y_test, y_pred)\n",
    "printEval(cla, forestEval)"
   ]
  },
  {
   "cell_type": "markdown",
   "id": "74ff4474",
   "metadata": {
    "jp-MarkdownHeadingCollapsed": true,
    "tags": []
   },
   "source": [
    "<h2>Logistic Regression</h2>"
   ]
  },
  {
   "cell_type": "code",
   "execution_count": 24,
   "id": "6a6f35a4",
   "metadata": {},
   "outputs": [
    {
     "name": "stderr",
     "output_type": "stream",
     "text": [
      "C:\\Users\\66931\\anaconda3\\lib\\site-packages\\sklearn\\utils\\validation.py:985: DataConversionWarning: A column-vector y was passed when a 1d array was expected. Please change the shape of y to (n_samples, ), for example using ravel().\n",
      "  y = column_or_1d(y, warn=True)\n"
     ]
    },
    {
     "data": {
      "text/plain": [
       "LogisticRegression()"
      ]
     },
     "execution_count": 24,
     "metadata": {},
     "output_type": "execute_result"
    }
   ],
   "source": [
    "# Logistic Regression Classifier: Create and Train the model\n",
    "from sklearn.linear_model import LogisticRegression\n",
    "\n",
    "logistic = LogisticRegression()\n",
    "logistic.fit(X_train, y_train)"
   ]
  },
  {
   "cell_type": "code",
   "execution_count": 25,
   "id": "535841d8-5893-45f3-891b-618053c24660",
   "metadata": {},
   "outputs": [
    {
     "data": {
      "text/plain": [
       "array([1, 1, 0, 1, 1, 0, 1, 1, 1, 1, 1, 1, 1, 1, 1, 1, 1, 1, 1, 1, 1, 1,\n",
       "       1, 0, 1, 1, 1, 1, 1, 0, 1, 0, 1, 0, 1, 1, 1, 1, 1, 1, 1, 1, 1, 1,\n",
       "       1, 1, 1, 1, 0, 1, 1, 1, 0, 1, 1, 1, 1, 1, 1, 1, 1, 1, 1, 1, 1, 1,\n",
       "       1, 1, 1, 1, 0, 1, 1, 1, 0, 0, 1, 0, 1, 1, 1, 1, 1, 1, 1, 1, 1, 1,\n",
       "       0, 1, 1, 0, 1, 1, 1, 1, 1, 1, 1, 1, 1, 1, 1, 1, 1, 1, 0, 1, 1, 1,\n",
       "       1, 1, 1, 1, 1, 0, 1, 1, 1, 1, 1, 1, 1, 1, 0, 0, 1, 1, 0, 1, 1, 1,\n",
       "       1, 1, 1, 1, 1, 1, 1, 1, 1, 1, 1, 1, 1, 1, 1, 0, 1, 1, 1, 1, 1, 1,\n",
       "       1, 1, 1, 1, 1, 1, 1, 0, 1, 1, 1, 1, 0, 1, 1, 1, 1, 1, 1, 1, 1, 1,\n",
       "       1, 1, 1, 0, 0, 1, 1, 1, 0, 1, 1, 1, 1, 1, 1, 0, 1, 1, 1, 1, 1, 1,\n",
       "       0, 1, 1, 1, 1, 1, 1, 1, 0, 1, 1, 1, 1, 1, 1, 0, 1, 1, 1, 1, 1, 1,\n",
       "       1, 1, 1, 1, 1, 1, 1, 1, 1, 0, 1, 1, 1, 1, 1, 1, 1, 0, 1, 1, 1, 1,\n",
       "       0, 1, 1, 1, 1, 1, 1, 1, 1, 1, 1, 1, 1, 1, 1, 1, 1], dtype=int64)"
      ]
     },
     "execution_count": 25,
     "metadata": {},
     "output_type": "execute_result"
    }
   ],
   "source": [
    "# Prediction\n",
    "y_pred = logistic.predict(X_test)  #Accuracy\n",
    "y_pred"
   ]
  },
  {
   "cell_type": "code",
   "execution_count": 26,
   "id": "30e4cbae-537d-40fe-b664-59795e3bc000",
   "metadata": {},
   "outputs": [],
   "source": [
    "# Look at the actual y_test\n",
    "#y_test"
   ]
  },
  {
   "cell_type": "code",
   "execution_count": 27,
   "id": "9c82be98-9b66-47c3-b0d7-2653d37de054",
   "metadata": {},
   "outputs": [
    {
     "name": "stdout",
     "output_type": "stream",
     "text": [
      "Accuracy Score:  0.6061776061776062\n",
      "Confusion Matrix: \n",
      " [[ 15  85]\n",
      " [ 17 142]]\n",
      "F1 Score:  0.7357512953367876\n",
      "Precision Score:  0.6255506607929515\n",
      "Recall score:  0.8930817610062893\n",
      "Area Under Curve score:  0.5215408805031447\n"
     ]
    }
   ],
   "source": [
    "logisticEval = evaluate(cla, y_test, y_pred)\n",
    "printEval(cla, logisticEval)"
   ]
  },
  {
   "cell_type": "markdown",
   "id": "c4994a04",
   "metadata": {
    "jp-MarkdownHeadingCollapsed": true,
    "tags": []
   },
   "source": [
    "<h2>XGBoost</h2>"
   ]
  },
  {
   "cell_type": "code",
   "execution_count": 28,
   "id": "1cff85bd",
   "metadata": {},
   "outputs": [
    {
     "name": "stderr",
     "output_type": "stream",
     "text": [
      "C:\\Users\\66931\\anaconda3\\lib\\site-packages\\xgboost\\sklearn.py:1224: UserWarning: The use of label encoder in XGBClassifier is deprecated and will be removed in a future release. To remove this warning, do the following: 1) Pass option use_label_encoder=False when constructing XGBClassifier object; and 2) Encode your labels (y) as integers starting with 0, i.e. 0, 1, 2, ..., [num_class - 1].\n",
      "  warnings.warn(label_encoder_deprecation_msg, UserWarning)\n",
      "C:\\Users\\66931\\anaconda3\\lib\\site-packages\\sklearn\\preprocessing\\_label.py:98: DataConversionWarning: A column-vector y was passed when a 1d array was expected. Please change the shape of y to (n_samples, ), for example using ravel().\n",
      "  y = column_or_1d(y, warn=True)\n",
      "C:\\Users\\66931\\anaconda3\\lib\\site-packages\\sklearn\\preprocessing\\_label.py:133: DataConversionWarning: A column-vector y was passed when a 1d array was expected. Please change the shape of y to (n_samples, ), for example using ravel().\n",
      "  y = column_or_1d(y, warn=True)\n"
     ]
    },
    {
     "name": "stdout",
     "output_type": "stream",
     "text": [
      "[15:18:45] WARNING: C:/Users/Administrator/workspace/xgboost-win64_release_1.5.0/src/learner.cc:1115: Starting in XGBoost 1.3.0, the default evaluation metric used with the objective 'binary:logistic' was changed from 'error' to 'logloss'. Explicitly set eval_metric if you'd like to restore the old behavior.\n"
     ]
    },
    {
     "data": {
      "text/plain": [
       "XGBClassifier(base_score=0.5, booster='gbtree', colsample_bylevel=1,\n",
       "              colsample_bynode=1, colsample_bytree=1, enable_categorical=False,\n",
       "              gamma=0, gpu_id=-1, importance_type=None,\n",
       "              interaction_constraints='', learning_rate=0.300000012,\n",
       "              max_delta_step=0, max_depth=6, min_child_weight=1, missing=nan,\n",
       "              monotone_constraints='()', n_estimators=100, n_jobs=8,\n",
       "              num_parallel_tree=1, predictor='auto', random_state=0,\n",
       "              reg_alpha=0, reg_lambda=1, scale_pos_weight=1, subsample=1,\n",
       "              tree_method='exact', validate_parameters=1, verbosity=None)"
      ]
     },
     "execution_count": 28,
     "metadata": {},
     "output_type": "execute_result"
    }
   ],
   "source": [
    "from xgboost import XGBClassifier\n",
    "from numpy import loadtxt\n",
    "from sklearn.metrics import accuracy_score\n",
    "\n",
    "xgb = XGBClassifier()\n",
    "xgb.fit(X_train, y_train)"
   ]
  },
  {
   "cell_type": "code",
   "execution_count": 29,
   "id": "f2cd9c16",
   "metadata": {
    "collapsed": true,
    "jupyter": {
     "outputs_hidden": true
    },
    "tags": []
   },
   "outputs": [
    {
     "data": {
      "text/plain": [
       "array([1, 1, 1, 1, 0, 0, 1, 0, 1, 1, 1, 0, 0, 1, 1, 0, 0, 0, 1, 0, 0, 0,\n",
       "       1, 0, 0, 1, 1, 1, 0, 0, 1, 0, 0, 1, 1, 1, 1, 1, 1, 1, 1, 1, 1, 0,\n",
       "       1, 1, 0, 1, 0, 1, 0, 1, 0, 0, 0, 1, 0, 1, 0, 0, 1, 1, 1, 1, 0, 0,\n",
       "       1, 1, 1, 0, 0, 0, 1, 0, 1, 1, 0, 0, 1, 0, 1, 0, 1, 1, 1, 1, 0, 1,\n",
       "       1, 1, 0, 0, 1, 0, 1, 0, 1, 1, 0, 0, 0, 0, 1, 1, 0, 0, 0, 1, 0, 1,\n",
       "       1, 1, 1, 1, 0, 1, 1, 0, 1, 0, 1, 0, 1, 1, 1, 1, 1, 0, 0, 1, 1, 0,\n",
       "       1, 0, 1, 0, 1, 1, 1, 1, 1, 1, 0, 0, 1, 0, 1, 0, 0, 1, 0, 0, 0, 1,\n",
       "       1, 1, 0, 1, 0, 1, 1, 1, 1, 1, 1, 1, 1, 0, 1, 0, 0, 1, 0, 1, 0, 0,\n",
       "       1, 0, 0, 0, 1, 1, 1, 1, 0, 1, 1, 0, 0, 1, 0, 1, 1, 1, 1, 0, 0, 1,\n",
       "       0, 1, 1, 1, 1, 1, 1, 0, 0, 1, 1, 1, 1, 1, 1, 1, 1, 0, 1, 0, 0, 0,\n",
       "       0, 1, 0, 1, 0, 1, 1, 0, 1, 0, 1, 0, 0, 1, 0, 1, 1, 0, 1, 0, 1, 0,\n",
       "       1, 1, 1, 1, 1, 0, 0, 0, 1, 1, 0, 1, 1, 1, 1, 0, 1], dtype=int64)"
      ]
     },
     "execution_count": 29,
     "metadata": {},
     "output_type": "execute_result"
    }
   ],
   "source": [
    "y_pred = xgb.predict(X_test)  #Accuracy\n",
    "y_pred"
   ]
  },
  {
   "cell_type": "code",
   "execution_count": 30,
   "id": "38835b80",
   "metadata": {
    "collapsed": true,
    "jupyter": {
     "outputs_hidden": true
    },
    "tags": []
   },
   "outputs": [],
   "source": [
    "#y_test"
   ]
  },
  {
   "cell_type": "code",
   "execution_count": 31,
   "id": "89b3011f",
   "metadata": {},
   "outputs": [
    {
     "name": "stdout",
     "output_type": "stream",
     "text": [
      "Accuracy Score:  0.5328185328185329\n",
      "Confusion Matrix: \n",
      " [[43 57]\n",
      " [64 95]]\n",
      "F1 Score:  0.6109324758842444\n",
      "Precision Score:  0.625\n",
      "Recall score:  0.5974842767295597\n",
      "Area Under Curve score:  0.51374213836478\n"
     ]
    }
   ],
   "source": [
    "xgbEval = evaluate(cla, y_test, y_pred)\n",
    "printEval(cla, xgbEval)"
   ]
  },
  {
   "cell_type": "markdown",
   "id": "8201d2b2",
   "metadata": {
    "jp-MarkdownHeadingCollapsed": true,
    "tags": []
   },
   "source": [
    "<h2>Linear Regression</h2>"
   ]
  },
  {
   "cell_type": "code",
   "execution_count": 32,
   "metadata": {},
   "outputs": [
    {
     "name": "stderr",
     "output_type": "stream",
     "text": [
      "<ipython-input-32-c16662a166f2>:1: SettingWithCopyWarning: \n",
      "A value is trying to be set on a copy of a slice from a DataFrame.\n",
      "Try using .loc[row_indexer,col_indexer] = value instead\n",
      "\n",
      "See the caveats in the documentation: https://pandas.pydata.org/pandas-docs/stable/user_guide/indexing.html#returning-a-view-versus-a-copy\n",
      "  dji_ti['Re Target'] = dji['Future Close']\n"
     ]
    }
   ],
   "source": [
    "dji_ti['Re Target'] = dji['Future Close']"
   ]
  },
  {
   "cell_type": "code",
   "execution_count": 33,
   "metadata": {},
   "outputs": [],
   "source": [
    "# dji_target = dji_ti.tail(1)\n",
    "# dji_target\n",
    "# dji_ti = dji_ti.dropna()"
   ]
  },
  {
   "cell_type": "code",
   "execution_count": 34,
   "id": "535d773e",
   "metadata": {},
   "outputs": [
    {
     "data": {
      "text/plain": [
       "['EMA',\n",
       " 'RSI14',\n",
       " 'ADXR',\n",
       " 'BOP',\n",
       " 'CMO',\n",
       " 'DX',\n",
       " 'macdhist',\n",
       " 'MFI',\n",
       " 'MINUS_DI',\n",
       " 'MINUS_DM',\n",
       " 'PLUS_DI',\n",
       " 'PLUS_DM',\n",
       " 'PPO',\n",
       " 'slowd',\n",
       " 'fastk',\n",
       " 'TRIX',\n",
       " 'WILLR']"
      ]
     },
     "execution_count": 34,
     "metadata": {},
     "output_type": "execute_result"
    }
   ],
   "source": [
    "dji_refeatures = selectFeatures(dji_ti,'Re Target')\n",
    "dji_refeatures.remove('Target')\n",
    "dji_refeatures.remove('Close')\n",
    "dji_refeatures"
   ]
  },
  {
   "cell_type": "code",
   "execution_count": 35,
   "id": "55358ac3",
   "metadata": {},
   "outputs": [],
   "source": [
    "from sklearn.model_selection import train_test_split\n",
    "X = dji_ti.loc[:, dji_refeatures].values\n",
    "#X = dji_ti.loc[:, ['CCI', 'DX', 'MINUS_DI', 'PLUS_DM', 'slowd']].values\n",
    "y = dji_ti.loc[:, ['Re Target']].values\n",
    "X_train, X_test, y_train, y_test = train_test_split(X, y, test_size=0.2, random_state=0)\n"
   ]
  },
  {
   "cell_type": "code",
   "execution_count": 36,
   "id": "1b9f451c",
   "metadata": {},
   "outputs": [],
   "source": [
    "from sklearn.preprocessing import StandardScaler\n",
    "sc = StandardScaler()\n",
    "X_train = sc.fit_transform(X_train)\n",
    "X_test = sc.transform(X_test)"
   ]
  },
  {
   "cell_type": "code",
   "execution_count": 38,
   "id": "d91be986",
   "metadata": {},
   "outputs": [
    {
     "data": {
      "text/plain": [
       "LinearRegression()"
      ]
     },
     "execution_count": 38,
     "metadata": {},
     "output_type": "execute_result"
    }
   ],
   "source": [
    "lr = LinearRegression()\n",
    "lr.fit(X_train, y_train)"
   ]
  },
  {
   "cell_type": "code",
   "execution_count": 39,
   "id": "50f7300b",
   "metadata": {
    "collapsed": true,
    "jupyter": {
     "outputs_hidden": true
    },
    "tags": []
   },
   "outputs": [
    {
     "name": "stdout",
     "output_type": "stream",
     "text": [
      "[[25552.62041762]\n",
      " [25981.75719813]\n",
      " [34305.9736915 ]\n",
      " [22556.41222652]\n",
      " [26735.59403863]\n",
      " [25562.56446637]\n",
      " [34881.47338557]\n",
      " [27913.13642338]\n",
      " [27553.12054991]\n",
      " [21581.17374192]\n",
      " [34009.00692948]\n",
      " [27398.5721574 ]\n",
      " [34158.84214764]\n",
      " [29592.56661522]\n",
      " [25330.14219102]\n",
      " [34183.46665837]\n",
      " [29077.0041779 ]\n",
      " [22030.92677012]\n",
      " [26549.37890207]\n",
      " [26659.30160536]\n",
      " [25405.99768428]\n",
      " [20096.58241196]\n",
      " [23862.80716265]\n",
      " [35513.27822323]\n",
      " [18217.34875094]\n",
      " [21002.50440383]\n",
      " [25835.18968137]\n",
      " [24710.09433463]\n",
      " [24720.18079373]\n",
      " [21423.71588399]\n",
      " [19132.13220195]\n",
      " [30834.56500229]\n",
      " [25063.9984895 ]\n",
      " [23937.08390059]\n",
      " [26682.91000375]\n",
      " [24036.98783891]\n",
      " [28669.47651128]\n",
      " [25477.98680809]\n",
      " [27729.00670271]\n",
      " [25676.19717454]\n",
      " [30073.34590462]\n",
      " [21150.23835902]\n",
      " [19781.12874509]\n",
      " [34646.34802378]\n",
      " [35824.44806958]\n",
      " [35445.59584117]\n",
      " [26795.39739162]\n",
      " [26525.87883942]\n",
      " [23666.05409099]\n",
      " [25480.89472403]\n",
      " [31312.0840467 ]\n",
      " [24868.78606272]\n",
      " [19900.9303499 ]\n",
      " [24564.6960241 ]\n",
      " [25266.74760475]\n",
      " [34995.8914857 ]\n",
      " [21252.32812022]\n",
      " [25480.6293929 ]\n",
      " [22707.70605905]\n",
      " [23600.29433042]\n",
      " [25470.32922548]\n",
      " [35589.10940816]\n",
      " [32425.59475451]\n",
      " [26554.8959793 ]\n",
      " [33786.17675685]\n",
      " [22722.15506232]\n",
      " [26327.78985568]\n",
      " [27764.66404182]\n",
      " [18650.62674986]\n",
      " [22997.03738715]\n",
      " [28671.22105976]\n",
      " [23589.7117296 ]\n",
      " [35302.90704757]\n",
      " [26932.64303748]\n",
      " [26231.44323881]\n",
      " [26836.87426429]\n",
      " [24109.42056661]\n",
      " [31039.43686636]\n",
      " [21512.99735353]\n",
      " [28774.41323999]\n",
      " [29889.12905675]\n",
      " [21703.58311053]\n",
      " [34951.19659441]\n",
      " [28308.59045083]\n",
      " [24279.6634402 ]\n",
      " [26466.88724677]\n",
      " [20894.4874782 ]\n",
      " [25746.91530324]\n",
      " [34611.32760406]\n",
      " [20543.63667915]\n",
      " [20692.79377329]\n",
      " [28537.24789319]\n",
      " [26523.29560996]\n",
      " [21252.31045045]\n",
      " [27057.47326324]\n",
      " [24887.73779968]\n",
      " [18125.37037424]\n",
      " [28787.31070712]\n",
      " [24752.0566419 ]\n",
      " [26027.39622337]\n",
      " [34631.11212237]\n",
      " [27873.68248983]\n",
      " [19873.59955237]\n",
      " [26621.52665382]\n",
      " [25064.11206079]\n",
      " [32718.57433001]\n",
      " [35056.09860392]\n",
      " [34411.22226109]\n",
      " [19634.75128285]\n",
      " [31627.4757796 ]\n",
      " [28440.84433375]\n",
      " [25862.44076686]\n",
      " [27665.0233387 ]\n",
      " [33817.19686818]\n",
      " [26242.90254088]\n",
      " [26278.80500418]\n",
      " [26123.85279493]\n",
      " [31427.23821976]\n",
      " [32935.85491299]\n",
      " [31247.26449056]\n",
      " [21892.43980401]\n",
      " [25350.78783026]\n",
      " [34647.37399802]\n",
      " [17946.93468795]\n",
      " [28265.27685148]\n",
      " [28388.74657495]\n",
      " [25156.40282377]\n",
      " [29627.4336075 ]\n",
      " [26851.14033545]\n",
      " [25131.54718698]\n",
      " [20960.20871336]\n",
      " [22111.07132212]\n",
      " [21780.49889809]\n",
      " [20300.18034028]\n",
      " [25742.86776798]\n",
      " [28614.17763161]\n",
      " [18242.13643408]\n",
      " [25803.843878  ]\n",
      " [25092.49428189]\n",
      " [26275.87573677]\n",
      " [26836.13035913]\n",
      " [27907.11340386]\n",
      " [31032.3016646 ]\n",
      " [25865.07961018]\n",
      " [26191.57052659]\n",
      " [25212.94878684]\n",
      " [25322.7211223 ]\n",
      " [24653.92172838]\n",
      " [19995.33048195]\n",
      " [20758.89815838]\n",
      " [25930.32453069]\n",
      " [26059.27037593]\n",
      " [27909.33775549]\n",
      " [19939.58600836]\n",
      " [22584.84829122]\n",
      " [21142.8951551 ]\n",
      " [27008.06311177]\n",
      " [25205.20876998]\n",
      " [27815.21217197]\n",
      " [28210.51996841]\n",
      " [29995.32358848]\n",
      " [35248.26888349]\n",
      " [25924.59556169]\n",
      " [21058.1454432 ]\n",
      " [36103.83048977]\n",
      " [25625.91463523]\n",
      " [18362.06165407]\n",
      " [21916.08415869]\n",
      " [33378.84932119]\n",
      " [26709.73016343]\n",
      " [29064.96837916]\n",
      " [19071.50937061]\n",
      " [26873.80435311]\n",
      " [23518.88206309]\n",
      " [25304.190267  ]\n",
      " [25382.33934244]\n",
      " [25135.33558401]\n",
      " [28994.47061407]\n",
      " [35849.31922899]\n",
      " [24660.5071312 ]\n",
      " [34650.56735366]\n",
      " [24579.08510832]\n",
      " [22820.56792702]\n",
      " [30914.76984175]\n",
      " [24812.41987079]\n",
      " [28187.8605984 ]\n",
      " [25575.28760024]\n",
      " [33999.71826422]\n",
      " [31203.32963628]\n",
      " [26042.73053613]\n",
      " [21970.50397061]\n",
      " [23713.7537737 ]\n",
      " [21870.27487325]\n",
      " [28542.38191285]\n",
      " [21670.26011234]\n",
      " [24441.76331563]\n",
      " [28861.2475393 ]\n",
      " [23787.59752326]\n",
      " [25333.67688916]\n",
      " [24574.98838777]\n",
      " [27454.66630534]\n",
      " [26849.77633018]\n",
      " [26473.67602507]\n",
      " [25121.2308649 ]\n",
      " [25755.71414985]\n",
      " [23607.86128261]\n",
      " [26092.10249769]\n",
      " [22384.34751477]\n",
      " [25791.24900705]\n",
      " [25998.30419893]\n",
      " [27674.77383747]\n",
      " [24736.70126266]\n",
      " [25589.36562274]\n",
      " [25264.47697184]\n",
      " [26979.95986857]\n",
      " [24154.31268162]\n",
      " [25266.73359731]\n",
      " [24212.11394314]\n",
      " [29071.13939938]\n",
      " [35060.73098818]\n",
      " [34612.47724985]\n",
      " [19158.6453567 ]\n",
      " [29216.63745343]\n",
      " [22308.17761319]\n",
      " [30904.88525134]\n",
      " [25876.52731488]\n",
      " [25571.11649266]\n",
      " [26376.59401585]\n",
      " [32433.11351911]\n",
      " [24927.74365707]\n",
      " [24341.33071897]\n",
      " [27082.61425791]\n",
      " [34298.30032883]\n",
      " [28163.0340187 ]\n",
      " [25252.6846365 ]\n",
      " [21671.68612907]\n",
      " [24403.67838053]\n",
      " [34095.03423064]\n",
      " [24445.8080849 ]\n",
      " [34562.70227693]\n",
      " [30271.45310271]\n",
      " [26029.73713527]\n",
      " [19963.8975615 ]\n",
      " [35914.23348831]\n",
      " [24220.87551729]\n",
      " [29677.12633466]\n",
      " [28645.11533668]\n",
      " [25055.16637966]\n",
      " [34848.36357556]\n",
      " [24407.79829502]\n",
      " [30393.03244787]\n",
      " [35167.43401746]\n",
      " [25958.09232494]\n",
      " [25843.20633382]\n",
      " [27697.44590461]\n",
      " [19761.05749511]\n",
      " [30395.19376243]\n",
      " [27040.6863011 ]\n",
      " [26471.70382989]]\n"
     ]
    }
   ],
   "source": [
    "y_pred = lr.predict(X_test)\n",
    "print(y_pred)"
   ]
  },
  {
   "cell_type": "code",
   "execution_count": 40,
   "id": "7172b248",
   "metadata": {},
   "outputs": [],
   "source": [
    "dframe = pd.DataFrame({'Actual':y_test.flatten(),'predicted':y_pred.flatten()})"
   ]
  },
  {
   "cell_type": "code",
   "execution_count": 41,
   "id": "5b6d4f84-a582-4c30-83c9-5bc24202fd12",
   "metadata": {},
   "outputs": [
    {
     "name": "stdout",
     "output_type": "stream",
     "text": [
      "Slope: [[4389.55094261   91.08168732   23.81910586   22.12670371   91.08168732\n",
      "     9.34411222   82.6259352    -5.60578131  154.14046759 -640.59447515\n",
      "  -169.38092506  441.60169964  -90.88818874  -25.85433945   51.93043729\n",
      "   -43.56358165   46.20759249]]\n",
      "Intercept: [26309.09580503]\n"
     ]
    }
   ],
   "source": [
    "print('Slope:', lr.coef_)\n",
    "print('Intercept:', lr.intercept_)"
   ]
  },
  {
   "cell_type": "code",
   "execution_count": 42,
   "id": "26e1cb25-6d54-4ed9-b454-64689132b514",
   "metadata": {
    "tags": []
   },
   "outputs": [],
   "source": [
    "def plotReg(title, X, y, ti, features, model):\n",
    "    X_target = ti.loc[:, features].values\n",
    "    y_target = ti.loc[:, ['Re Target']].values\n",
    "    X_target = sc.transform(X_target)\n",
    "    # Plot outputs\n",
    "    fig = plt.figure(figsize=(13,6))\n",
    "    plt.plot(X[-360:],y[-360:], color=\"black\", label=\"Future Close Price\")\n",
    "    plt.plot(X[-180:],y[-180:], color=\"green\", label=\"Actual\")\n",
    "    plt.plot(X[-180:], model.predict(X_target), color=\"orange\", label=\"predicted\")\n",
    "    plt.title(title)\n",
    "    plt.xlabel('Date')\n",
    "    plt.ylabel('Price')\n",
    "    plt.legend()\n",
    "    plt.show()"
   ]
  },
  {
   "cell_type": "code",
   "execution_count": 43,
   "id": "0f3d6391-5d51-4ab6-adfa-57a6f96ff179",
   "metadata": {},
   "outputs": [
    {
     "data": {
      "image/png": "[encoded data removed]",
      "text/plain": [
       "<Figure size 936x432 with 1 Axes>"
      ]
     },
     "metadata": {
      "needs_background": "light"
     },
     "output_type": "display_data"
    }
   ],
   "source": [
    "plotReg('Dow Jones Industrial Average 180 days', dji.index, dji[['Future Close']], dji_ti.iloc[-180:], dji_refeatures, lr)"
   ]
  },
  {
   "cell_type": "code",
   "execution_count": 44,
   "id": "c40acc4e",
   "metadata": {},
   "outputs": [
    {
     "name": "stdout",
     "output_type": "stream",
     "text": [
      "Mean Squared Error:  280.406761038691\n",
      "Adjusted R squared 0.9958370698327209\n"
     ]
    }
   ],
   "source": [
    "lrEval = evaluate(reg, y_test, y_pred)\n",
    "printEval(reg, lrEval)"
   ]
  },
  {
   "cell_type": "markdown",
   "id": "0dc88c22",
   "metadata": {
    "jp-MarkdownHeadingCollapsed": true,
    "tags": []
   },
   "source": [
    "<h2>Polynomial Regression</h2>"
   ]
  },
  {
   "cell_type": "code",
   "execution_count": 45,
   "id": "26581ae2",
   "metadata": {},
   "outputs": [
    {
     "data": {
      "text/plain": [
       "Pipeline(steps=[('polynomialfeatures', PolynomialFeatures()),\n",
       "                ('linearregression', LinearRegression())])"
      ]
     },
     "execution_count": 45,
     "metadata": {},
     "output_type": "execute_result"
    }
   ],
   "source": [
    "from sklearn.preprocessing import PolynomialFeatures\n",
    "from sklearn.pipeline import make_pipeline\n",
    "from sklearn.linear_model import LinearRegression\n",
    "degree=2\n",
    "pr=make_pipeline(PolynomialFeatures(degree),LinearRegression())\n",
    "pr.fit(X_train,y_train)"
   ]
  },
  {
   "cell_type": "code",
   "execution_count": 46,
   "id": "6098098d",
   "metadata": {
    "collapsed": true,
    "jupyter": {
     "outputs_hidden": true
    },
    "tags": []
   },
   "outputs": [],
   "source": [
    "y_pred = pr.predict(X_test)  #Accuracy\n",
    "#y_pred"
   ]
  },
  {
   "cell_type": "code",
   "execution_count": 47,
   "id": "b49af624",
   "metadata": {},
   "outputs": [
    {
     "data": {
      "image/png": "[encoded data removed]",
      "text/plain": [
       "<Figure size 936x432 with 1 Axes>"
      ]
     },
     "metadata": {
      "needs_background": "light"
     },
     "output_type": "display_data"
    }
   ],
   "source": [
    "plotReg('Dow Jones Industrial Average 180 days', dji.index, dji[['Future Close']], dji_ti.iloc[-180:], dji_refeatures, pr)"
   ]
  },
  {
   "cell_type": "code",
   "execution_count": 48,
   "id": "cca59807",
   "metadata": {},
   "outputs": [
    {
     "name": "stdout",
     "output_type": "stream",
     "text": [
      "Mean Squared Error:  335.65563839238695\n",
      "Adjusted R squared 0.9940350053609228\n"
     ]
    }
   ],
   "source": [
    "prEval = evaluate(reg, y_test, y_pred)\n",
    "printEval(reg, prEval)"
   ]
  },
  {
   "cell_type": "code",
   "execution_count": 49,
   "id": "b7395177",
   "metadata": {},
   "outputs": [],
   "source": [
    "def finalEvaluate(pred):\n",
    "    down = pred.count(0)\n",
    "    up = pred.count(1)\n",
    "    upText = \"The model suggests that you should sell\"\n",
    "    downText = \"The model suggests that you should buy\"\n",
    "    print(pred)\n",
    "    if up > down:\n",
    "        print(upText)\n",
    "        return True\n",
    "    elif up < down:\n",
    "        print(downText)\n",
    "        return True\n",
    "    else:\n",
    "        return False"
   ]
  },
  {
   "cell_type": "code",
   "execution_count": 50,
   "id": "aa5e2bd9",
   "metadata": {},
   "outputs": [],
   "source": [
    "def regPredict(classifier, pred, target):\n",
    "    predict = classifier.predict(pred)\n",
    "    tg = target['Close'].values[0]\n",
    "    if predict[0] > tg:\n",
    "        return 1\n",
    "    else:\n",
    "        return 0\n"
   ]
  },
  {
   "cell_type": "code",
   "execution_count": 51,
   "id": "c2c3c013",
   "metadata": {},
   "outputs": [],
   "source": [
    "from sklearn.preprocessing import normalize\n",
    "def finalPredict(target, target_features, retarget_features, dctEvaluation, forestEvaluation, logisticEvaluation, xgbEvaluation, lrEvaluation, prEvaluation):\n",
    "    X = target.loc[:, target_features].values\n",
    "    X_test = sc.transform(X)\n",
    "    reX = target.loc[:, retarget_features].values\n",
    "    reX_test = sc.transform(reX)\n",
    "    dctE = dctEvaluation.copy()\n",
    "    forestE = forestEvaluation.copy()\n",
    "    logisticE = logisticEvaluation.copy()\n",
    "    xgbE = xgbEvaluation.copy()\n",
    "    lrE = lrEvaluation.copy()\n",
    "    prE = prEvaluation.copy()\n",
    "    evaluation = []\n",
    "    evaluation.append(dctE[0])\n",
    "    evaluation.append(forestE[0])\n",
    "    evaluation.append(logisticE[0])\n",
    "    evaluation.append(xgbE[0])\n",
    "    evaluation.append(lrE[1])\n",
    "    evaluation.append(prE[1])\n",
    "    pred = []\n",
    "    pred.append(dtc.predict(X_test)[0])\n",
    "    pred.append(forest.predict(X_test)[0])\n",
    "    pred.append(logistic.predict(X_test)[0])\n",
    "    pred.append(xgb.predict(X_test)[0])\n",
    "    pred.append(regPredict(lr, reX_test, target))\n",
    "    pred.append(regPredict(pr, reX_test, target))\n",
    "    final = finalEvaluate(pred)\n",
    "    if final == False:\n",
    "        min_value = min(evaluation)\n",
    "        min_index = evaluation.index(min_value)\n",
    "        pred.pop(min_index)\n",
    "        finalEvaluate(pred)\n"
   ]
  },
  {
   "cell_type": "code",
   "execution_count": 52,
   "metadata": {},
   "outputs": [],
   "source": [
    "list_dctEval = []\n",
    "list_forestEval = []\n",
    "list_logisticEval = []\n",
    "list_xgbEval = []\n",
    "list_dctEval.append(dctEval)\n",
    "list_forestEval.append(forestEval)\n",
    "list_logisticEval.append(logisticEval)\n",
    "list_xgbEval.append(xgbEval)"
   ]
  },
  {
   "cell_type": "code",
   "execution_count": 53,
   "id": "ce5668d2",
   "metadata": {
    "jupyter": {
     "source_hidden": true
    },
    "tags": []
   },
   "outputs": [
    {
     "name": "stdout",
     "output_type": "stream",
     "text": [
      "[1, 1, 1, 0, 0, 0]\n",
      "[1, 1, 0, 0, 0]\n",
      "The model suggests that you should buy\n"
     ]
    }
   ],
   "source": [
    "finalPredict(dji_target, dji_features,dji_refeatures, dctEval, forestEval, logisticEval, xgbEval, lrEval, prEval)\n"
   ]
  },
  {
   "cell_type": "markdown",
   "id": "61afc3c4",
   "metadata": {
    "jp-MarkdownHeadingCollapsed": true,
    "tags": []
   },
   "source": [
    "<h1>Nikkei 225 Stock Average</h1>"
   ]
  },
  {
   "cell_type": "markdown",
   "id": "e75c99ee",
   "metadata": {
    "jp-MarkdownHeadingCollapsed": true,
    "tags": []
   },
   "source": [
    "<h2>Feature Selection</h2>"
   ]
  },
  {
   "cell_type": "code",
   "execution_count": 54,
   "id": "1c432117",
   "metadata": {},
   "outputs": [
    {
     "data": {
      "text/html": [
       "<div>\n",
       "<style scoped>\n",
       "    .dataframe tbody tr th:only-of-type {\n",
       "        vertical-align: middle;\n",
       "    }\n",
       "\n",
       "    .dataframe tbody tr th {\n",
       "        vertical-align: top;\n",
       "    }\n",
       "\n",
       "    .dataframe thead th {\n",
       "        text-align: right;\n",
       "    }\n",
       "</style>\n",
       "<table border=\"1\" class=\"dataframe\">\n",
       "  <thead>\n",
       "    <tr style=\"text-align: right;\">\n",
       "      <th></th>\n",
       "      <th>High</th>\n",
       "      <th>Low</th>\n",
       "      <th>Open</th>\n",
       "      <th>Close</th>\n",
       "      <th>Volume</th>\n",
       "      <th>Adj Close</th>\n",
       "      <th>Future Close</th>\n",
       "    </tr>\n",
       "    <tr>\n",
       "      <th>Date</th>\n",
       "      <th></th>\n",
       "      <th></th>\n",
       "      <th></th>\n",
       "      <th></th>\n",
       "      <th></th>\n",
       "      <th></th>\n",
       "      <th></th>\n",
       "    </tr>\n",
       "  </thead>\n",
       "  <tbody>\n",
       "    <tr>\n",
       "      <th>2016-01-04</th>\n",
       "      <td>18951.119141</td>\n",
       "      <td>18394.429688</td>\n",
       "      <td>18818.580078</td>\n",
       "      <td>18450.980469</td>\n",
       "      <td>140200000.0</td>\n",
       "      <td>18450.980469</td>\n",
       "      <td>18374.000000</td>\n",
       "    </tr>\n",
       "    <tr>\n",
       "      <th>2016-01-05</th>\n",
       "      <td>18547.380859</td>\n",
       "      <td>18327.519531</td>\n",
       "      <td>18398.759766</td>\n",
       "      <td>18374.000000</td>\n",
       "      <td>132300000.0</td>\n",
       "      <td>18374.000000</td>\n",
       "      <td>18191.320312</td>\n",
       "    </tr>\n",
       "    <tr>\n",
       "      <th>2016-01-06</th>\n",
       "      <td>18469.380859</td>\n",
       "      <td>18064.300781</td>\n",
       "      <td>18410.570312</td>\n",
       "      <td>18191.320312</td>\n",
       "      <td>142200000.0</td>\n",
       "      <td>18191.320312</td>\n",
       "      <td>17767.339844</td>\n",
       "    </tr>\n",
       "    <tr>\n",
       "      <th>2016-01-07</th>\n",
       "      <td>18172.039062</td>\n",
       "      <td>17767.339844</td>\n",
       "      <td>18139.769531</td>\n",
       "      <td>17767.339844</td>\n",
       "      <td>168000000.0</td>\n",
       "      <td>17767.339844</td>\n",
       "      <td>17697.960938</td>\n",
       "    </tr>\n",
       "    <tr>\n",
       "      <th>2016-01-08</th>\n",
       "      <td>17975.310547</td>\n",
       "      <td>17509.640625</td>\n",
       "      <td>17562.230469</td>\n",
       "      <td>17697.960938</td>\n",
       "      <td>184300000.0</td>\n",
       "      <td>17697.960938</td>\n",
       "      <td>17218.960938</td>\n",
       "    </tr>\n",
       "    <tr>\n",
       "      <th>...</th>\n",
       "      <td>...</td>\n",
       "      <td>...</td>\n",
       "      <td>...</td>\n",
       "      <td>...</td>\n",
       "      <td>...</td>\n",
       "      <td>...</td>\n",
       "      <td>...</td>\n",
       "    </tr>\n",
       "    <tr>\n",
       "      <th>2021-12-01</th>\n",
       "      <td>28106.300781</td>\n",
       "      <td>27594.009766</td>\n",
       "      <td>27866.730469</td>\n",
       "      <td>27935.619141</td>\n",
       "      <td>80900000.0</td>\n",
       "      <td>27935.619141</td>\n",
       "      <td>27753.369141</td>\n",
       "    </tr>\n",
       "    <tr>\n",
       "      <th>2021-12-02</th>\n",
       "      <td>27938.550781</td>\n",
       "      <td>27644.960938</td>\n",
       "      <td>27716.199219</td>\n",
       "      <td>27753.369141</td>\n",
       "      <td>77400000.0</td>\n",
       "      <td>27753.369141</td>\n",
       "      <td>28029.570312</td>\n",
       "    </tr>\n",
       "    <tr>\n",
       "      <th>2021-12-03</th>\n",
       "      <td>28029.570312</td>\n",
       "      <td>27588.609375</td>\n",
       "      <td>27841.050781</td>\n",
       "      <td>28029.570312</td>\n",
       "      <td>71900000.0</td>\n",
       "      <td>28029.570312</td>\n",
       "      <td>27927.369141</td>\n",
       "    </tr>\n",
       "    <tr>\n",
       "      <th>2021-12-06</th>\n",
       "      <td>28081.039062</td>\n",
       "      <td>27693.910156</td>\n",
       "      <td>28069.960938</td>\n",
       "      <td>27927.369141</td>\n",
       "      <td>61700000.0</td>\n",
       "      <td>27927.369141</td>\n",
       "      <td>28455.599609</td>\n",
       "    </tr>\n",
       "    <tr>\n",
       "      <th>2021-12-07</th>\n",
       "      <td>28618.460938</td>\n",
       "      <td>27961.660156</td>\n",
       "      <td>28138.820312</td>\n",
       "      <td>28455.599609</td>\n",
       "      <td>0.0</td>\n",
       "      <td>28455.599609</td>\n",
       "      <td>NaN</td>\n",
       "    </tr>\n",
       "  </tbody>\n",
       "</table>\n",
       "<p>1449 rows × 7 columns</p>\n",
       "</div>"
      ],
      "text/plain": [
       "                    High           Low          Open         Close  \\\n",
       "Date                                                                 \n",
       "2016-01-04  18951.119141  18394.429688  18818.580078  18450.980469   \n",
       "2016-01-05  18547.380859  18327.519531  18398.759766  18374.000000   \n",
       "2016-01-06  18469.380859  18064.300781  18410.570312  18191.320312   \n",
       "2016-01-07  18172.039062  17767.339844  18139.769531  17767.339844   \n",
       "2016-01-08  17975.310547  17509.640625  17562.230469  17697.960938   \n",
       "...                  ...           ...           ...           ...   \n",
       "2021-12-01  28106.300781  27594.009766  27866.730469  27935.619141   \n",
       "2021-12-02  27938.550781  27644.960938  27716.199219  27753.369141   \n",
       "2021-12-03  28029.570312  27588.609375  27841.050781  28029.570312   \n",
       "2021-12-06  28081.039062  27693.910156  28069.960938  27927.369141   \n",
       "2021-12-07  28618.460938  27961.660156  28138.820312  28455.599609   \n",
       "\n",
       "                 Volume     Adj Close  Future Close  \n",
       "Date                                                 \n",
       "2016-01-04  140200000.0  18450.980469  18374.000000  \n",
       "2016-01-05  132300000.0  18374.000000  18191.320312  \n",
       "2016-01-06  142200000.0  18191.320312  17767.339844  \n",
       "2016-01-07  168000000.0  17767.339844  17697.960938  \n",
       "2016-01-08  184300000.0  17697.960938  17218.960938  \n",
       "...                 ...           ...           ...  \n",
       "2021-12-01   80900000.0  27935.619141  27753.369141  \n",
       "2021-12-02   77400000.0  27753.369141  28029.570312  \n",
       "2021-12-03   71900000.0  28029.570312  27927.369141  \n",
       "2021-12-06   61700000.0  27927.369141  28455.599609  \n",
       "2021-12-07          0.0  28455.599609           NaN  \n",
       "\n",
       "[1449 rows x 7 columns]"
      ]
     },
     "execution_count": 54,
     "metadata": {},
     "output_type": "execute_result"
    }
   ],
   "source": [
    "n225['Future Close'] = n225['Close'].shift(-1)\n",
    "n225"
   ]
  },
  {
   "cell_type": "code",
   "execution_count": 55,
   "id": "e7464fb8",
   "metadata": {},
   "outputs": [],
   "source": [
    "target = computeTarget(n225['Close'], n225['Future Close'])\n",
    "\n",
    "n225['Target'] = target"
   ]
  },
  {
   "cell_type": "code",
   "execution_count": 56,
   "id": "9ba82349",
   "metadata": {},
   "outputs": [],
   "source": [
    "close = n225['Close']\n",
    "high = n225['High']\n",
    "low = n225['Low']\n",
    "open = n225['Open']\n",
    "volume  = n225['Volume']"
   ]
  },
  {
   "cell_type": "code",
   "execution_count": 57,
   "id": "50d3cc4a",
   "metadata": {
    "jupyter": {
     "source_hidden": true
    },
    "tags": []
   },
   "outputs": [
    {
     "data": {
      "text/html": [
       "<div>\n",
       "<style scoped>\n",
       "    .dataframe tbody tr th:only-of-type {\n",
       "        vertical-align: middle;\n",
       "    }\n",
       "\n",
       "    .dataframe tbody tr th {\n",
       "        vertical-align: top;\n",
       "    }\n",
       "\n",
       "    .dataframe thead th {\n",
       "        text-align: right;\n",
       "    }\n",
       "</style>\n",
       "<table border=\"1\" class=\"dataframe\">\n",
       "  <thead>\n",
       "    <tr style=\"text-align: right;\">\n",
       "      <th></th>\n",
       "      <th>SMA20</th>\n",
       "      <th>SMA50</th>\n",
       "      <th>SMA200</th>\n",
       "      <th>EMA</th>\n",
       "      <th>OBV</th>\n",
       "      <th>RSI14</th>\n",
       "      <th>ADX</th>\n",
       "      <th>ADXR</th>\n",
       "      <th>aroondown</th>\n",
       "      <th>aroonup</th>\n",
       "      <th>...</th>\n",
       "      <th>slowk</th>\n",
       "      <th>slowd</th>\n",
       "      <th>fastk</th>\n",
       "      <th>fastd</th>\n",
       "      <th>TRIX</th>\n",
       "      <th>ULTOSC</th>\n",
       "      <th>WILLR</th>\n",
       "      <th>Target</th>\n",
       "      <th>Close</th>\n",
       "      <th>Re Target</th>\n",
       "    </tr>\n",
       "    <tr>\n",
       "      <th>Date</th>\n",
       "      <th></th>\n",
       "      <th></th>\n",
       "      <th></th>\n",
       "      <th></th>\n",
       "      <th></th>\n",
       "      <th></th>\n",
       "      <th></th>\n",
       "      <th></th>\n",
       "      <th></th>\n",
       "      <th></th>\n",
       "      <th></th>\n",
       "      <th></th>\n",
       "      <th></th>\n",
       "      <th></th>\n",
       "      <th></th>\n",
       "      <th></th>\n",
       "      <th></th>\n",
       "      <th></th>\n",
       "      <th></th>\n",
       "      <th></th>\n",
       "      <th></th>\n",
       "    </tr>\n",
       "  </thead>\n",
       "  <tbody>\n",
       "    <tr>\n",
       "      <th>2016-01-04</th>\n",
       "      <td>NaN</td>\n",
       "      <td>NaN</td>\n",
       "      <td>NaN</td>\n",
       "      <td>NaN</td>\n",
       "      <td>1.402000e+08</td>\n",
       "      <td>NaN</td>\n",
       "      <td>NaN</td>\n",
       "      <td>NaN</td>\n",
       "      <td>NaN</td>\n",
       "      <td>NaN</td>\n",
       "      <td>...</td>\n",
       "      <td>NaN</td>\n",
       "      <td>NaN</td>\n",
       "      <td>NaN</td>\n",
       "      <td>NaN</td>\n",
       "      <td>NaN</td>\n",
       "      <td>NaN</td>\n",
       "      <td>NaN</td>\n",
       "      <td>0</td>\n",
       "      <td>18450.980469</td>\n",
       "      <td>18374.000000</td>\n",
       "    </tr>\n",
       "    <tr>\n",
       "      <th>2016-01-05</th>\n",
       "      <td>NaN</td>\n",
       "      <td>NaN</td>\n",
       "      <td>NaN</td>\n",
       "      <td>NaN</td>\n",
       "      <td>7.900000e+06</td>\n",
       "      <td>NaN</td>\n",
       "      <td>NaN</td>\n",
       "      <td>NaN</td>\n",
       "      <td>NaN</td>\n",
       "      <td>NaN</td>\n",
       "      <td>...</td>\n",
       "      <td>NaN</td>\n",
       "      <td>NaN</td>\n",
       "      <td>NaN</td>\n",
       "      <td>NaN</td>\n",
       "      <td>NaN</td>\n",
       "      <td>NaN</td>\n",
       "      <td>NaN</td>\n",
       "      <td>0</td>\n",
       "      <td>18374.000000</td>\n",
       "      <td>18191.320312</td>\n",
       "    </tr>\n",
       "    <tr>\n",
       "      <th>2016-01-06</th>\n",
       "      <td>NaN</td>\n",
       "      <td>NaN</td>\n",
       "      <td>NaN</td>\n",
       "      <td>NaN</td>\n",
       "      <td>-1.343000e+08</td>\n",
       "      <td>NaN</td>\n",
       "      <td>NaN</td>\n",
       "      <td>NaN</td>\n",
       "      <td>NaN</td>\n",
       "      <td>NaN</td>\n",
       "      <td>...</td>\n",
       "      <td>NaN</td>\n",
       "      <td>NaN</td>\n",
       "      <td>NaN</td>\n",
       "      <td>NaN</td>\n",
       "      <td>NaN</td>\n",
       "      <td>NaN</td>\n",
       "      <td>NaN</td>\n",
       "      <td>0</td>\n",
       "      <td>18191.320312</td>\n",
       "      <td>17767.339844</td>\n",
       "    </tr>\n",
       "    <tr>\n",
       "      <th>2016-01-07</th>\n",
       "      <td>NaN</td>\n",
       "      <td>NaN</td>\n",
       "      <td>NaN</td>\n",
       "      <td>NaN</td>\n",
       "      <td>-3.023000e+08</td>\n",
       "      <td>NaN</td>\n",
       "      <td>NaN</td>\n",
       "      <td>NaN</td>\n",
       "      <td>NaN</td>\n",
       "      <td>NaN</td>\n",
       "      <td>...</td>\n",
       "      <td>NaN</td>\n",
       "      <td>NaN</td>\n",
       "      <td>NaN</td>\n",
       "      <td>NaN</td>\n",
       "      <td>NaN</td>\n",
       "      <td>NaN</td>\n",
       "      <td>NaN</td>\n",
       "      <td>0</td>\n",
       "      <td>17767.339844</td>\n",
       "      <td>17697.960938</td>\n",
       "    </tr>\n",
       "    <tr>\n",
       "      <th>2016-01-08</th>\n",
       "      <td>NaN</td>\n",
       "      <td>NaN</td>\n",
       "      <td>NaN</td>\n",
       "      <td>NaN</td>\n",
       "      <td>-4.866000e+08</td>\n",
       "      <td>NaN</td>\n",
       "      <td>NaN</td>\n",
       "      <td>NaN</td>\n",
       "      <td>NaN</td>\n",
       "      <td>NaN</td>\n",
       "      <td>...</td>\n",
       "      <td>NaN</td>\n",
       "      <td>NaN</td>\n",
       "      <td>NaN</td>\n",
       "      <td>NaN</td>\n",
       "      <td>NaN</td>\n",
       "      <td>NaN</td>\n",
       "      <td>NaN</td>\n",
       "      <td>0</td>\n",
       "      <td>17697.960938</td>\n",
       "      <td>17218.960938</td>\n",
       "    </tr>\n",
       "    <tr>\n",
       "      <th>...</th>\n",
       "      <td>...</td>\n",
       "      <td>...</td>\n",
       "      <td>...</td>\n",
       "      <td>...</td>\n",
       "      <td>...</td>\n",
       "      <td>...</td>\n",
       "      <td>...</td>\n",
       "      <td>...</td>\n",
       "      <td>...</td>\n",
       "      <td>...</td>\n",
       "      <td>...</td>\n",
       "      <td>...</td>\n",
       "      <td>...</td>\n",
       "      <td>...</td>\n",
       "      <td>...</td>\n",
       "      <td>...</td>\n",
       "      <td>...</td>\n",
       "      <td>...</td>\n",
       "      <td>...</td>\n",
       "      <td>...</td>\n",
       "      <td>...</td>\n",
       "    </tr>\n",
       "    <tr>\n",
       "      <th>2021-12-01</th>\n",
       "      <td>29285.035352</td>\n",
       "      <td>29106.137578</td>\n",
       "      <td>28938.807471</td>\n",
       "      <td>28915.731513</td>\n",
       "      <td>5.530600e+09</td>\n",
       "      <td>33.915601</td>\n",
       "      <td>18.932162</td>\n",
       "      <td>15.663407</td>\n",
       "      <td>100.000000</td>\n",
       "      <td>28.571429</td>\n",
       "      <td>...</td>\n",
       "      <td>7.799032</td>\n",
       "      <td>12.005260</td>\n",
       "      <td>17.284336</td>\n",
       "      <td>7.799032</td>\n",
       "      <td>0.038143</td>\n",
       "      <td>33.765736</td>\n",
       "      <td>-85.567345</td>\n",
       "      <td>0</td>\n",
       "      <td>27935.619141</td>\n",
       "      <td>27753.369141</td>\n",
       "    </tr>\n",
       "    <tr>\n",
       "      <th>2021-12-02</th>\n",
       "      <td>29196.658789</td>\n",
       "      <td>29051.203945</td>\n",
       "      <td>28930.631816</td>\n",
       "      <td>28760.749863</td>\n",
       "      <td>5.453200e+09</td>\n",
       "      <td>32.241270</td>\n",
       "      <td>21.244934</td>\n",
       "      <td>16.558292</td>\n",
       "      <td>92.857143</td>\n",
       "      <td>21.428571</td>\n",
       "      <td>...</td>\n",
       "      <td>8.861125</td>\n",
       "      <td>7.583532</td>\n",
       "      <td>9.163954</td>\n",
       "      <td>8.861125</td>\n",
       "      <td>0.033823</td>\n",
       "      <td>31.547181</td>\n",
       "      <td>-93.267226</td>\n",
       "      <td>1</td>\n",
       "      <td>27753.369141</td>\n",
       "      <td>28029.570312</td>\n",
       "    </tr>\n",
       "    <tr>\n",
       "      <th>2021-12-03</th>\n",
       "      <td>29108.418848</td>\n",
       "      <td>29015.001133</td>\n",
       "      <td>28923.250020</td>\n",
       "      <td>28663.259257</td>\n",
       "      <td>5.525100e+09</td>\n",
       "      <td>37.293649</td>\n",
       "      <td>23.072641</td>\n",
       "      <td>17.448407</td>\n",
       "      <td>100.000000</td>\n",
       "      <td>14.285714</td>\n",
       "      <td>...</td>\n",
       "      <td>21.191546</td>\n",
       "      <td>12.617234</td>\n",
       "      <td>37.126347</td>\n",
       "      <td>21.191546</td>\n",
       "      <td>0.029018</td>\n",
       "      <td>37.770275</td>\n",
       "      <td>-81.412251</td>\n",
       "      <td>0</td>\n",
       "      <td>28029.570312</td>\n",
       "      <td>27927.369141</td>\n",
       "    </tr>\n",
       "    <tr>\n",
       "      <th>2021-12-06</th>\n",
       "      <td>29024.208789</td>\n",
       "      <td>28980.760508</td>\n",
       "      <td>28915.072217</td>\n",
       "      <td>28565.140575</td>\n",
       "      <td>5.463400e+09</td>\n",
       "      <td>36.217520</td>\n",
       "      <td>24.584119</td>\n",
       "      <td>18.287423</td>\n",
       "      <td>92.857143</td>\n",
       "      <td>7.142857</td>\n",
       "      <td>...</td>\n",
       "      <td>25.422219</td>\n",
       "      <td>18.491630</td>\n",
       "      <td>29.976357</td>\n",
       "      <td>25.422219</td>\n",
       "      <td>0.023770</td>\n",
       "      <td>37.874431</td>\n",
       "      <td>-85.720319</td>\n",
       "      <td>1</td>\n",
       "      <td>27927.369141</td>\n",
       "      <td>28455.599609</td>\n",
       "    </tr>\n",
       "    <tr>\n",
       "      <th>2021-12-07</th>\n",
       "      <td>28971.636230</td>\n",
       "      <td>28944.896289</td>\n",
       "      <td>28909.749863</td>\n",
       "      <td>28550.535113</td>\n",
       "      <td>5.463400e+09</td>\n",
       "      <td>45.044164</td>\n",
       "      <td>24.277181</td>\n",
       "      <td>18.128408</td>\n",
       "      <td>85.714286</td>\n",
       "      <td>0.000000</td>\n",
       "      <td>...</td>\n",
       "      <td>50.429549</td>\n",
       "      <td>32.347771</td>\n",
       "      <td>84.185942</td>\n",
       "      <td>50.429549</td>\n",
       "      <td>0.018707</td>\n",
       "      <td>45.622560</td>\n",
       "      <td>-62.651647</td>\n",
       "      <td>0</td>\n",
       "      <td>28455.599609</td>\n",
       "      <td>NaN</td>\n",
       "    </tr>\n",
       "  </tbody>\n",
       "</table>\n",
       "<p>1449 rows × 40 columns</p>\n",
       "</div>"
      ],
      "text/plain": [
       "                   SMA20         SMA50        SMA200           EMA  \\\n",
       "Date                                                                 \n",
       "2016-01-04           NaN           NaN           NaN           NaN   \n",
       "2016-01-05           NaN           NaN           NaN           NaN   \n",
       "2016-01-06           NaN           NaN           NaN           NaN   \n",
       "2016-01-07           NaN           NaN           NaN           NaN   \n",
       "2016-01-08           NaN           NaN           NaN           NaN   \n",
       "...                  ...           ...           ...           ...   \n",
       "2021-12-01  29285.035352  29106.137578  28938.807471  28915.731513   \n",
       "2021-12-02  29196.658789  29051.203945  28930.631816  28760.749863   \n",
       "2021-12-03  29108.418848  29015.001133  28923.250020  28663.259257   \n",
       "2021-12-06  29024.208789  28980.760508  28915.072217  28565.140575   \n",
       "2021-12-07  28971.636230  28944.896289  28909.749863  28550.535113   \n",
       "\n",
       "                     OBV      RSI14        ADX       ADXR   aroondown  \\\n",
       "Date                                                                    \n",
       "2016-01-04  1.402000e+08        NaN        NaN        NaN         NaN   \n",
       "2016-01-05  7.900000e+06        NaN        NaN        NaN         NaN   \n",
       "2016-01-06 -1.343000e+08        NaN        NaN        NaN         NaN   \n",
       "2016-01-07 -3.023000e+08        NaN        NaN        NaN         NaN   \n",
       "2016-01-08 -4.866000e+08        NaN        NaN        NaN         NaN   \n",
       "...                  ...        ...        ...        ...         ...   \n",
       "2021-12-01  5.530600e+09  33.915601  18.932162  15.663407  100.000000   \n",
       "2021-12-02  5.453200e+09  32.241270  21.244934  16.558292   92.857143   \n",
       "2021-12-03  5.525100e+09  37.293649  23.072641  17.448407  100.000000   \n",
       "2021-12-06  5.463400e+09  36.217520  24.584119  18.287423   92.857143   \n",
       "2021-12-07  5.463400e+09  45.044164  24.277181  18.128408   85.714286   \n",
       "\n",
       "              aroonup  ...      slowk      slowd      fastk      fastd  \\\n",
       "Date                   ...                                               \n",
       "2016-01-04        NaN  ...        NaN        NaN        NaN        NaN   \n",
       "2016-01-05        NaN  ...        NaN        NaN        NaN        NaN   \n",
       "2016-01-06        NaN  ...        NaN        NaN        NaN        NaN   \n",
       "2016-01-07        NaN  ...        NaN        NaN        NaN        NaN   \n",
       "2016-01-08        NaN  ...        NaN        NaN        NaN        NaN   \n",
       "...               ...  ...        ...        ...        ...        ...   \n",
       "2021-12-01  28.571429  ...   7.799032  12.005260  17.284336   7.799032   \n",
       "2021-12-02  21.428571  ...   8.861125   7.583532   9.163954   8.861125   \n",
       "2021-12-03  14.285714  ...  21.191546  12.617234  37.126347  21.191546   \n",
       "2021-12-06   7.142857  ...  25.422219  18.491630  29.976357  25.422219   \n",
       "2021-12-07   0.000000  ...  50.429549  32.347771  84.185942  50.429549   \n",
       "\n",
       "                TRIX     ULTOSC      WILLR  Target         Close     Re Target  \n",
       "Date                                                                            \n",
       "2016-01-04       NaN        NaN        NaN       0  18450.980469  18374.000000  \n",
       "2016-01-05       NaN        NaN        NaN       0  18374.000000  18191.320312  \n",
       "2016-01-06       NaN        NaN        NaN       0  18191.320312  17767.339844  \n",
       "2016-01-07       NaN        NaN        NaN       0  17767.339844  17697.960938  \n",
       "2016-01-08       NaN        NaN        NaN       0  17697.960938  17218.960938  \n",
       "...              ...        ...        ...     ...           ...           ...  \n",
       "2021-12-01  0.038143  33.765736 -85.567345       0  27935.619141  27753.369141  \n",
       "2021-12-02  0.033823  31.547181 -93.267226       1  27753.369141  28029.570312  \n",
       "2021-12-03  0.029018  37.770275 -81.412251       0  28029.570312  27927.369141  \n",
       "2021-12-06  0.023770  37.874431 -85.720319       1  27927.369141  28455.599609  \n",
       "2021-12-07  0.018707  45.622560 -62.651647       0  28455.599609           NaN  \n",
       "\n",
       "[1449 rows x 40 columns]"
      ]
     },
     "execution_count": 57,
     "metadata": {},
     "output_type": "execute_result"
    }
   ],
   "source": [
    "n225_ti = pd.DataFrame()\n",
    "n225_ti['SMA20'] = talib.SMA(close, timeperiod=20)\n",
    "n225_ti['SMA50'] = talib.SMA(close, timeperiod=50)\n",
    "n225_ti['SMA200'] = talib.SMA(close, timeperiod=200)\n",
    "n225_ti['EMA'] = talib.EMA(close, timeperiod=14)\n",
    "n225_ti['OBV'] = talib.OBV(close, volume)\n",
    "n225_ti['RSI14'] = talib.RSI(close, timeperiod=14)\n",
    "n225_ti['ADX'] = talib.ADX(high, low, close, timeperiod=14)\n",
    "n225_ti['ADXR'] = talib.ADXR(high, low, close, timeperiod=14)\n",
    "n225_ti['aroondown'], n225_ti['aroonup'] = talib.AROON(high, low, timeperiod=14)\n",
    "n225_ti['APO'] = talib.APO(close, fastperiod=12, slowperiod=26, matype=0)\n",
    "n225_ti['AROONOSC'] = talib.AROONOSC(high, low, timeperiod=14)\n",
    "n225_ti['BOP'] = talib.BOP(open, high, low, close)\n",
    "n225_ti['CCI'] = talib.CCI(high, low, close, timeperiod=14)\n",
    "n225_ti['CMO'] = talib.CMO(close, timeperiod=14)\n",
    "n225_ti['DX'] = talib.DX(high, low, close, timeperiod=14)\n",
    "n225_ti['macd'],n225_ti['macdsignal'],n225_ti['macdhist'] = talib.MACD(close, fastperiod = 12, slowperiod=26, signalperiod=9)\n",
    "n225_ti['MFI'] = talib.MFI(high, low, close, volume, timeperiod=14)\n",
    "n225_ti['MINUS_DI'] = talib.MINUS_DI(high, low, close, timeperiod=14)\n",
    "n225_ti['MINUS_DM'] = talib.MINUS_DM(high, low, timeperiod=14)\n",
    "n225_ti['MOM'] = talib.MOM(close, timeperiod=14)\n",
    "n225_ti['PLUS_DI'] = talib.PLUS_DI(high, low, close, timeperiod=14)\n",
    "n225_ti['PLUS_DM'] = talib.PLUS_DM(high, low, timeperiod=14)\n",
    "n225_ti['PPO'] = talib.PPO(close, fastperiod=12, slowperiod=26, matype=0)\n",
    "n225_ti['ROC'] = talib.ROC(close, timeperiod=10)\n",
    "n225_ti['ROCP'] = talib.ROCP(close, timeperiod=10)\n",
    "n225_ti['ROCR'] = talib.ROCR(close, timeperiod=10)\n",
    "n225_ti['ROCR100'] = talib.ROCR100(close, timeperiod=10)\n",
    "n225_ti['slowk'], n225_ti['slowd'] = talib.STOCH(high, low, close, fastk_period=5, slowk_period=3, slowd_period=3, slowd_matype=0)\n",
    "n225_ti['fastk'], n225_ti['fastd'] = talib.STOCHF(high, low, close, fastk_period=5, fastd_period=3, fastd_matype=0)\n",
    "n225_ti['TRIX'] = talib.TRIX(close, timeperiod=30)\n",
    "n225_ti['ULTOSC'] = talib.ULTOSC(high, low, close, timeperiod1=7, timeperiod2=14, timeperiod3=28)\n",
    "n225_ti['WILLR'] = talib.WILLR(high, low, close, timeperiod=14)\n",
    "n225_ti['Target'] = n225['Target']\n",
    "n225_ti['Close'] = n225['Close']\n",
    "n225_ti['Re Target'] = n225['Future Close']\n",
    "n225_ti"
   ]
  },
  {
   "cell_type": "code",
   "execution_count": 58,
   "id": "f7f68611",
   "metadata": {},
   "outputs": [],
   "source": [
    "\n",
    "n225_target = n225_ti.tail(1)"
   ]
  },
  {
   "cell_type": "code",
   "execution_count": 59,
   "id": "286b02d7",
   "metadata": {
    "tags": []
   },
   "outputs": [
    {
     "data": {
      "text/plain": [
       "['RSI14',\n",
       " 'ADXR',\n",
       " 'aroondown',\n",
       " 'aroonup',\n",
       " 'BOP',\n",
       " 'CCI',\n",
       " 'CMO',\n",
       " 'macdhist',\n",
       " 'MINUS_DI',\n",
       " 'PPO',\n",
       " 'ROC',\n",
       " 'slowk',\n",
       " 'slowd',\n",
       " 'fastd',\n",
       " 'TRIX',\n",
       " 'ULTOSC',\n",
       " 'WILLR']"
      ]
     },
     "execution_count": 59,
     "metadata": {},
     "output_type": "execute_result"
    }
   ],
   "source": [
    "n225_ti = n225_ti.dropna()\n",
    "n225_features = selectFeatures(n225_ti, 'Target')\n",
    "n225_features.remove('Re Target')\n",
    "n225_features.remove('Close')\n",
    "n225_features"
   ]
  },
  {
   "cell_type": "code",
   "execution_count": 60,
   "id": "c990a5f0",
   "metadata": {},
   "outputs": [],
   "source": [
    "X = n225_ti.loc[:, n225_features].values\n",
    "#X = dji_ti.loc[:, ['CCI', 'DX', 'MINUS_DI', 'PLUS_DM', 'slowd']].values\n",
    "y = n225_ti.loc[:, ['Target']].values\n",
    "X_train, X_test, y_train, y_test = train_test_split(X, y, test_size=0.2, random_state=0)"
   ]
  },
  {
   "cell_type": "code",
   "execution_count": 61,
   "id": "9b48f716",
   "metadata": {},
   "outputs": [],
   "source": [
    "sc = StandardScaler()\n",
    "X_train = sc.fit_transform(X_train)\n",
    "X_test = sc.transform(X_test)"
   ]
  },
  {
   "cell_type": "markdown",
   "id": "c07467fb",
   "metadata": {
    "jp-MarkdownHeadingCollapsed": true,
    "tags": []
   },
   "source": [
    "<h2>Decision Tree</h2>"
   ]
  },
  {
   "cell_type": "code",
   "execution_count": 62,
   "id": "dfab44b2",
   "metadata": {},
   "outputs": [
    {
     "data": {
      "text/plain": [
       "DecisionTreeClassifier(criterion='entropy')"
      ]
     },
     "execution_count": 62,
     "metadata": {},
     "output_type": "execute_result"
    }
   ],
   "source": [
    "dtc = DecisionTreeClassifier(criterion=\"entropy\")\n",
    "dtc.fit(X_train, y_train)"
   ]
  },
  {
   "cell_type": "code",
   "execution_count": 63,
   "id": "f8d8a47c",
   "metadata": {
    "tags": []
   },
   "outputs": [
    {
     "data": {
      "text/plain": [
       "array([1, 0, 0, 1, 1, 0, 1, 1, 1, 1, 0, 1, 0, 1, 0, 0, 1, 0, 0, 1, 0, 0,\n",
       "       1, 1, 1, 0, 1, 1, 1, 1, 1, 0, 0, 0, 1, 1, 0, 1, 1, 0, 1, 1, 0, 0,\n",
       "       1, 1, 1, 1, 1, 0, 1, 1, 1, 0, 0, 0, 1, 1, 0, 0, 1, 1, 0, 1, 0, 1,\n",
       "       0, 1, 0, 1, 0, 0, 1, 0, 0, 0, 1, 1, 1, 0, 0, 1, 1, 1, 1, 1, 0, 0,\n",
       "       1, 0, 0, 0, 1, 0, 1, 0, 0, 1, 1, 1, 1, 1, 1, 0, 1, 1, 1, 1, 0, 1,\n",
       "       1, 0, 1, 0, 0, 0, 1, 1, 1, 1, 1, 1, 1, 1, 1, 1, 1, 0, 0, 0, 1, 0,\n",
       "       0, 1, 0, 0, 0, 1, 1, 0, 1, 1, 0, 0, 0, 0, 0, 0, 0, 0, 0, 1, 1, 0,\n",
       "       0, 1, 0, 0, 1, 1, 0, 0, 1, 1, 1, 1, 1, 1, 0, 1, 0, 0, 1, 1, 0, 1,\n",
       "       1, 0, 0, 0, 0, 1, 0, 0, 1, 0, 0, 0, 0, 1, 0, 1, 1, 1, 1, 1, 0, 1,\n",
       "       1, 1, 0, 1, 1, 0, 0, 0, 0, 0, 0, 1, 1, 0, 0, 1, 1, 1, 0, 0, 0, 1,\n",
       "       1, 1, 0, 0, 1, 0, 0, 0, 1, 0, 1, 1, 1, 0, 1, 0, 1, 0, 0, 0, 1, 1,\n",
       "       1, 0, 1, 1, 0, 0, 0, 0], dtype=int64)"
      ]
     },
     "execution_count": 63,
     "metadata": {},
     "output_type": "execute_result"
    }
   ],
   "source": [
    "# Prediction\n",
    "#\n",
    "y_pred = dtc.predict(X_test)  #Accuracy\n",
    "y_pred"
   ]
  },
  {
   "cell_type": "code",
   "execution_count": 64,
   "id": "1507d02b",
   "metadata": {
    "collapsed": true,
    "jupyter": {
     "outputs_hidden": true
    },
    "tags": []
   },
   "outputs": [
    {
     "data": {
      "text/plain": [
       "array([[1],\n",
       "       [1],\n",
       "       [0],\n",
       "       [1],\n",
       "       [1],\n",
       "       [0],\n",
       "       [1],\n",
       "       [1],\n",
       "       [1],\n",
       "       [0],\n",
       "       [1],\n",
       "       [1],\n",
       "       [1],\n",
       "       [0],\n",
       "       [1],\n",
       "       [0],\n",
       "       [0],\n",
       "       [0],\n",
       "       [1],\n",
       "       [0],\n",
       "       [0],\n",
       "       [1],\n",
       "       [0],\n",
       "       [1],\n",
       "       [1],\n",
       "       [1],\n",
       "       [1],\n",
       "       [0],\n",
       "       [0],\n",
       "       [1],\n",
       "       [1],\n",
       "       [0],\n",
       "       [1],\n",
       "       [1],\n",
       "       [1],\n",
       "       [1],\n",
       "       [1],\n",
       "       [0],\n",
       "       [1],\n",
       "       [1],\n",
       "       [0],\n",
       "       [1],\n",
       "       [0],\n",
       "       [0],\n",
       "       [0],\n",
       "       [1],\n",
       "       [0],\n",
       "       [1],\n",
       "       [1],\n",
       "       [1],\n",
       "       [0],\n",
       "       [1],\n",
       "       [0],\n",
       "       [0],\n",
       "       [1],\n",
       "       [0],\n",
       "       [0],\n",
       "       [0],\n",
       "       [0],\n",
       "       [1],\n",
       "       [0],\n",
       "       [1],\n",
       "       [0],\n",
       "       [1],\n",
       "       [1],\n",
       "       [0],\n",
       "       [1],\n",
       "       [1],\n",
       "       [1],\n",
       "       [1],\n",
       "       [0],\n",
       "       [1],\n",
       "       [1],\n",
       "       [0],\n",
       "       [0],\n",
       "       [1],\n",
       "       [0],\n",
       "       [0],\n",
       "       [0],\n",
       "       [0],\n",
       "       [1],\n",
       "       [1],\n",
       "       [0],\n",
       "       [0],\n",
       "       [1],\n",
       "       [0],\n",
       "       [0],\n",
       "       [0],\n",
       "       [1],\n",
       "       [0],\n",
       "       [0],\n",
       "       [1],\n",
       "       [1],\n",
       "       [1],\n",
       "       [1],\n",
       "       [0],\n",
       "       [1],\n",
       "       [1],\n",
       "       [1],\n",
       "       [1],\n",
       "       [1],\n",
       "       [0],\n",
       "       [0],\n",
       "       [0],\n",
       "       [0],\n",
       "       [1],\n",
       "       [0],\n",
       "       [0],\n",
       "       [1],\n",
       "       [1],\n",
       "       [1],\n",
       "       [0],\n",
       "       [1],\n",
       "       [1],\n",
       "       [0],\n",
       "       [1],\n",
       "       [1],\n",
       "       [0],\n",
       "       [1],\n",
       "       [0],\n",
       "       [0],\n",
       "       [1],\n",
       "       [1],\n",
       "       [0],\n",
       "       [0],\n",
       "       [1],\n",
       "       [0],\n",
       "       [0],\n",
       "       [0],\n",
       "       [1],\n",
       "       [0],\n",
       "       [1],\n",
       "       [1],\n",
       "       [0],\n",
       "       [0],\n",
       "       [0],\n",
       "       [0],\n",
       "       [1],\n",
       "       [1],\n",
       "       [1],\n",
       "       [1],\n",
       "       [0],\n",
       "       [0],\n",
       "       [1],\n",
       "       [0],\n",
       "       [1],\n",
       "       [0],\n",
       "       [0],\n",
       "       [1],\n",
       "       [1],\n",
       "       [0],\n",
       "       [0],\n",
       "       [1],\n",
       "       [1],\n",
       "       [1],\n",
       "       [0],\n",
       "       [0],\n",
       "       [1],\n",
       "       [0],\n",
       "       [1],\n",
       "       [0],\n",
       "       [1],\n",
       "       [0],\n",
       "       [0],\n",
       "       [0],\n",
       "       [0],\n",
       "       [1],\n",
       "       [1],\n",
       "       [1],\n",
       "       [1],\n",
       "       [0],\n",
       "       [1],\n",
       "       [1],\n",
       "       [0],\n",
       "       [1],\n",
       "       [1],\n",
       "       [1],\n",
       "       [0],\n",
       "       [1],\n",
       "       [1],\n",
       "       [1],\n",
       "       [0],\n",
       "       [1],\n",
       "       [0],\n",
       "       [0],\n",
       "       [1],\n",
       "       [0],\n",
       "       [1],\n",
       "       [1],\n",
       "       [1],\n",
       "       [1],\n",
       "       [0],\n",
       "       [1],\n",
       "       [1],\n",
       "       [0],\n",
       "       [1],\n",
       "       [1],\n",
       "       [1],\n",
       "       [1],\n",
       "       [0],\n",
       "       [1],\n",
       "       [1],\n",
       "       [1],\n",
       "       [0],\n",
       "       [1],\n",
       "       [0],\n",
       "       [0],\n",
       "       [0],\n",
       "       [0],\n",
       "       [1],\n",
       "       [1],\n",
       "       [1],\n",
       "       [1],\n",
       "       [0],\n",
       "       [0],\n",
       "       [1],\n",
       "       [1],\n",
       "       [1],\n",
       "       [1],\n",
       "       [1],\n",
       "       [1],\n",
       "       [1],\n",
       "       [0],\n",
       "       [1],\n",
       "       [0],\n",
       "       [1],\n",
       "       [0],\n",
       "       [0],\n",
       "       [1],\n",
       "       [0],\n",
       "       [1],\n",
       "       [0],\n",
       "       [1],\n",
       "       [1],\n",
       "       [1],\n",
       "       [0],\n",
       "       [0],\n",
       "       [1],\n",
       "       [1],\n",
       "       [0],\n",
       "       [1],\n",
       "       [0],\n",
       "       [1],\n",
       "       [1],\n",
       "       [0],\n",
       "       [1],\n",
       "       [1],\n",
       "       [1],\n",
       "       [1],\n",
       "       [1]], dtype=int64)"
      ]
     },
     "execution_count": 64,
     "metadata": {},
     "output_type": "execute_result"
    }
   ],
   "source": [
    "# Look at the actual y_test\n",
    "#\n",
    "y_test"
   ]
  },
  {
   "cell_type": "code",
   "execution_count": 65,
   "id": "b2470462",
   "metadata": {},
   "outputs": [
    {
     "name": "stdout",
     "output_type": "stream",
     "text": [
      "Accuracy Score:  0.504\n",
      "Confusion Matrix: \n",
      " [[51 57]\n",
      " [67 75]]\n",
      "F1 Score:  0.5474452554744524\n",
      "Precision Score:  0.5681818181818182\n",
      "Recall score:  0.528169014084507\n",
      "Area Under Curve score:  0.5001956181533647\n"
     ]
    }
   ],
   "source": [
    "dctEval = evaluate(cla, y_test, y_pred)\n",
    "printEval(cla, dctEval)"
   ]
  },
  {
   "cell_type": "markdown",
   "id": "3759afad",
   "metadata": {
    "jp-MarkdownHeadingCollapsed": true,
    "tags": []
   },
   "source": [
    "<h2>Random Forest</h2>"
   ]
  },
  {
   "cell_type": "code",
   "execution_count": 66,
   "id": "beeb4da5",
   "metadata": {},
   "outputs": [
    {
     "name": "stderr",
     "output_type": "stream",
     "text": [
      "<ipython-input-66-8af28b8e723f>:2: DataConversionWarning: A column-vector y was passed when a 1d array was expected. Please change the shape of y to (n_samples,), for example using ravel().\n",
      "  forest.fit(X_train, y_train)\n"
     ]
    },
    {
     "data": {
      "text/plain": [
       "RandomForestClassifier(max_depth=4, n_estimators=1000, random_state=43)"
      ]
     },
     "execution_count": 66,
     "metadata": {},
     "output_type": "execute_result"
    }
   ],
   "source": [
    "forest = RandomForestClassifier(n_estimators = 1000, random_state = 43, max_depth=4, min_samples_split=2 )\n",
    "forest.fit(X_train, y_train)"
   ]
  },
  {
   "cell_type": "code",
   "execution_count": 67,
   "id": "53dbdb92",
   "metadata": {},
   "outputs": [
    {
     "data": {
      "text/plain": [
       "array([1, 0, 0, 1, 1, 1, 1, 1, 1, 1, 0, 1, 0, 1, 0, 1, 0, 0, 1, 0, 0, 0,\n",
       "       1, 0, 1, 1, 1, 0, 1, 0, 1, 0, 1, 1, 1, 1, 0, 1, 0, 1, 0, 0, 1, 1,\n",
       "       1, 1, 1, 1, 1, 0, 1, 0, 1, 0, 0, 0, 1, 1, 1, 0, 1, 0, 1, 0, 0, 1,\n",
       "       1, 1, 0, 0, 1, 1, 0, 1, 1, 1, 1, 1, 1, 0, 0, 1, 1, 1, 1, 1, 1, 0,\n",
       "       1, 0, 1, 0, 1, 1, 1, 1, 0, 1, 0, 1, 1, 0, 1, 0, 1, 1, 1, 0, 0, 1,\n",
       "       0, 0, 0, 0, 1, 1, 0, 1, 0, 0, 0, 1, 0, 1, 0, 1, 0, 1, 1, 1, 1, 0,\n",
       "       1, 1, 0, 0, 0, 0, 0, 0, 1, 0, 0, 1, 0, 0, 0, 0, 1, 1, 0, 1, 0, 0,\n",
       "       1, 1, 1, 0, 1, 1, 0, 1, 1, 0, 0, 0, 1, 1, 1, 1, 1, 1, 0, 0, 1, 1,\n",
       "       1, 0, 0, 1, 0, 0, 1, 1, 0, 0, 1, 1, 0, 1, 1, 0, 1, 0, 1, 1, 1, 0,\n",
       "       1, 1, 1, 1, 1, 0, 0, 0, 1, 0, 0, 1, 1, 0, 1, 1, 1, 1, 1, 0, 1, 1,\n",
       "       1, 1, 1, 0, 1, 0, 0, 1, 1, 0, 0, 0, 1, 1, 1, 1, 0, 1, 0, 0, 0, 1,\n",
       "       0, 1, 1, 0, 1, 1, 1, 0], dtype=int64)"
      ]
     },
     "execution_count": 67,
     "metadata": {},
     "output_type": "execute_result"
    }
   ],
   "source": [
    "# Prediction\n",
    "#\n",
    "y_pred = forest.predict(X_test)  #Accuracy\n",
    "y_pred"
   ]
  },
  {
   "cell_type": "code",
   "execution_count": 68,
   "id": "1f8ce2aa",
   "metadata": {
    "tags": []
   },
   "outputs": [],
   "source": [
    "#y_test"
   ]
  },
  {
   "cell_type": "code",
   "execution_count": 69,
   "id": "99d69d1f",
   "metadata": {},
   "outputs": [
    {
     "name": "stdout",
     "output_type": "stream",
     "text": [
      "Accuracy Score:  0.532\n",
      "Confusion Matrix: \n",
      " [[48 60]\n",
      " [57 85]]\n",
      "F1 Score:  0.5923344947735191\n",
      "Precision Score:  0.5862068965517241\n",
      "Recall score:  0.5985915492957746\n",
      "Area Under Curve score:  0.5215179968701096\n"
     ]
    }
   ],
   "source": [
    "forestEval = evaluate(cla, y_test, y_pred)\n",
    "printEval(cla, forestEval)"
   ]
  },
  {
   "cell_type": "markdown",
   "id": "76a56018",
   "metadata": {
    "jp-MarkdownHeadingCollapsed": true,
    "tags": []
   },
   "source": [
    "<h2>Logistic Regression</h2>"
   ]
  },
  {
   "cell_type": "code",
   "execution_count": 70,
   "id": "856720ca",
   "metadata": {},
   "outputs": [
    {
     "name": "stderr",
     "output_type": "stream",
     "text": [
      "C:\\Users\\66931\\anaconda3\\lib\\site-packages\\sklearn\\utils\\validation.py:985: DataConversionWarning: A column-vector y was passed when a 1d array was expected. Please change the shape of y to (n_samples, ), for example using ravel().\n",
      "  y = column_or_1d(y, warn=True)\n"
     ]
    },
    {
     "data": {
      "text/plain": [
       "LogisticRegression()"
      ]
     },
     "execution_count": 70,
     "metadata": {},
     "output_type": "execute_result"
    }
   ],
   "source": [
    "# Logistic Regression Classifier: Create and Train the model\n",
    "logistic = LogisticRegression()\n",
    "logistic.fit(X_train, y_train)"
   ]
  },
  {
   "cell_type": "code",
   "execution_count": 71,
   "id": "1e390b56-f35c-454a-bd69-3d7e08c8f69b",
   "metadata": {},
   "outputs": [
    {
     "data": {
      "text/plain": [
       "array([1, 1, 0, 1, 0, 0, 1, 1, 1, 1, 0, 1, 1, 1, 0, 1, 0, 0, 1, 0, 0, 1,\n",
       "       1, 1, 1, 1, 0, 0, 0, 1, 1, 1, 1, 1, 0, 1, 0, 1, 0, 0, 0, 0, 1, 1,\n",
       "       0, 0, 1, 1, 1, 0, 1, 0, 1, 1, 0, 1, 1, 1, 1, 0, 0, 0, 0, 0, 0, 0,\n",
       "       0, 1, 0, 0, 1, 0, 1, 1, 1, 0, 0, 1, 0, 0, 0, 1, 0, 0, 0, 1, 1, 0,\n",
       "       1, 0, 1, 0, 0, 1, 0, 1, 0, 1, 0, 1, 0, 1, 1, 0, 0, 0, 1, 0, 0, 1,\n",
       "       0, 1, 1, 1, 1, 0, 0, 1, 0, 0, 0, 1, 0, 1, 0, 1, 1, 0, 1, 1, 1, 0,\n",
       "       1, 1, 0, 1, 0, 0, 0, 0, 0, 0, 1, 1, 1, 1, 0, 1, 1, 1, 1, 1, 1, 1,\n",
       "       1, 1, 1, 1, 1, 0, 0, 1, 1, 0, 0, 0, 1, 1, 0, 1, 0, 0, 0, 0, 0, 1,\n",
       "       0, 0, 0, 1, 0, 0, 1, 1, 0, 1, 1, 1, 0, 0, 0, 0, 1, 1, 1, 1, 1, 0,\n",
       "       1, 1, 1, 1, 0, 0, 0, 0, 1, 1, 1, 1, 1, 1, 1, 1, 1, 1, 0, 1, 1, 1,\n",
       "       0, 1, 0, 1, 1, 1, 1, 0, 1, 0, 1, 1, 1, 1, 1, 1, 0, 1, 0, 0, 0, 1,\n",
       "       1, 1, 0, 1, 1, 1, 1, 0], dtype=int64)"
      ]
     },
     "execution_count": 71,
     "metadata": {},
     "output_type": "execute_result"
    }
   ],
   "source": [
    "# Prediction\n",
    "y_pred = logistic.predict(X_test)  #Accuracy\n",
    "y_pred"
   ]
  },
  {
   "cell_type": "code",
   "execution_count": 72,
   "id": "9ba14586-7149-4816-9bbe-119be9f6d2d6",
   "metadata": {
    "tags": []
   },
   "outputs": [],
   "source": [
    "# Look at the actual y_test\n",
    "#y_test"
   ]
  },
  {
   "cell_type": "code",
   "execution_count": 73,
   "id": "d52e985d-aee6-42f9-80e9-18e67a40ddf2",
   "metadata": {},
   "outputs": [
    {
     "name": "stdout",
     "output_type": "stream",
     "text": [
      "Accuracy Score:  0.52\n",
      "Confusion Matrix: \n",
      " [[49 59]\n",
      " [61 81]]\n",
      "F1 Score:  0.574468085106383\n",
      "Precision Score:  0.5785714285714286\n",
      "Recall score:  0.5704225352112676\n",
      "Area Under Curve score:  0.5120631194574856\n"
     ]
    }
   ],
   "source": [
    "logisticEval = evaluate(cla, y_test, y_pred)\n",
    "printEval(cla, logisticEval)"
   ]
  },
  {
   "cell_type": "markdown",
   "id": "5555bcf8",
   "metadata": {
    "jp-MarkdownHeadingCollapsed": true,
    "tags": []
   },
   "source": [
    "<h2>XGBoost</h2>"
   ]
  },
  {
   "cell_type": "code",
   "execution_count": 74,
   "id": "d97f0722",
   "metadata": {},
   "outputs": [
    {
     "name": "stderr",
     "output_type": "stream",
     "text": [
      "C:\\Users\\66931\\anaconda3\\lib\\site-packages\\xgboost\\sklearn.py:1224: UserWarning: The use of label encoder in XGBClassifier is deprecated and will be removed in a future release. To remove this warning, do the following: 1) Pass option use_label_encoder=False when constructing XGBClassifier object; and 2) Encode your labels (y) as integers starting with 0, i.e. 0, 1, 2, ..., [num_class - 1].\n",
      "  warnings.warn(label_encoder_deprecation_msg, UserWarning)\n",
      "C:\\Users\\66931\\anaconda3\\lib\\site-packages\\sklearn\\preprocessing\\_label.py:98: DataConversionWarning: A column-vector y was passed when a 1d array was expected. Please change the shape of y to (n_samples, ), for example using ravel().\n",
      "  y = column_or_1d(y, warn=True)\n",
      "C:\\Users\\66931\\anaconda3\\lib\\site-packages\\sklearn\\preprocessing\\_label.py:133: DataConversionWarning: A column-vector y was passed when a 1d array was expected. Please change the shape of y to (n_samples, ), for example using ravel().\n",
      "  y = column_or_1d(y, warn=True)\n"
     ]
    },
    {
     "name": "stdout",
     "output_type": "stream",
     "text": [
      "[15:18:50] WARNING: C:/Users/Administrator/workspace/xgboost-win64_release_1.5.0/src/learner.cc:1115: Starting in XGBoost 1.3.0, the default evaluation metric used with the objective 'binary:logistic' was changed from 'error' to 'logloss'. Explicitly set eval_metric if you'd like to restore the old behavior.\n"
     ]
    },
    {
     "data": {
      "text/plain": [
       "XGBClassifier(base_score=0.5, booster='gbtree', colsample_bylevel=1,\n",
       "              colsample_bynode=1, colsample_bytree=1, enable_categorical=False,\n",
       "              gamma=0, gpu_id=-1, importance_type=None,\n",
       "              interaction_constraints='', learning_rate=0.300000012,\n",
       "              max_delta_step=0, max_depth=6, min_child_weight=1, missing=nan,\n",
       "              monotone_constraints='()', n_estimators=100, n_jobs=8,\n",
       "              num_parallel_tree=1, predictor='auto', random_state=0,\n",
       "              reg_alpha=0, reg_lambda=1, scale_pos_weight=1, subsample=1,\n",
       "              tree_method='exact', validate_parameters=1, verbosity=None)"
      ]
     },
     "execution_count": 74,
     "metadata": {},
     "output_type": "execute_result"
    }
   ],
   "source": [
    "from xgboost import XGBClassifier\n",
    "from numpy import loadtxt\n",
    "from sklearn.metrics import accuracy_score\n",
    "\n",
    "xgb = XGBClassifier()\n",
    "xgb.fit(X_train, y_train)"
   ]
  },
  {
   "cell_type": "code",
   "execution_count": 75,
   "id": "8996b5f4",
   "metadata": {},
   "outputs": [
    {
     "data": {
      "text/plain": [
       "array([1, 1, 0, 1, 1, 0, 1, 1, 1, 1, 0, 1, 0, 1, 0, 1, 0, 0, 0, 0, 0, 0,\n",
       "       1, 0, 1, 1, 1, 1, 1, 1, 1, 0, 1, 1, 0, 0, 0, 1, 1, 1, 1, 0, 1, 1,\n",
       "       1, 1, 1, 1, 1, 0, 1, 1, 0, 0, 0, 0, 1, 1, 0, 0, 1, 1, 1, 0, 0, 1,\n",
       "       1, 1, 0, 0, 1, 0, 0, 1, 0, 0, 0, 1, 1, 0, 0, 1, 1, 1, 1, 1, 0, 1,\n",
       "       1, 0, 1, 0, 1, 1, 1, 1, 0, 1, 1, 1, 1, 1, 0, 0, 0, 0, 1, 0, 1, 1,\n",
       "       0, 0, 1, 0, 1, 0, 0, 1, 0, 1, 1, 1, 0, 1, 0, 1, 0, 0, 0, 0, 1, 0,\n",
       "       1, 1, 0, 1, 0, 1, 0, 0, 0, 0, 0, 1, 1, 0, 0, 0, 1, 1, 1, 0, 1, 0,\n",
       "       1, 1, 1, 0, 1, 1, 0, 1, 1, 0, 0, 1, 1, 1, 1, 1, 1, 0, 1, 0, 0, 1,\n",
       "       1, 0, 0, 1, 0, 1, 1, 0, 1, 0, 1, 1, 0, 1, 0, 1, 0, 0, 1, 1, 1, 1,\n",
       "       1, 1, 1, 1, 1, 0, 0, 1, 1, 0, 0, 1, 0, 0, 1, 1, 1, 0, 1, 1, 0, 1,\n",
       "       1, 1, 0, 0, 1, 0, 0, 0, 1, 0, 1, 0, 1, 0, 1, 1, 1, 0, 0, 0, 0, 1,\n",
       "       1, 1, 1, 1, 0, 0, 1, 0], dtype=int64)"
      ]
     },
     "execution_count": 75,
     "metadata": {},
     "output_type": "execute_result"
    }
   ],
   "source": [
    "y_pred = xgb.predict(X_test)  #Accuracy\n",
    "y_pred"
   ]
  },
  {
   "cell_type": "code",
   "execution_count": 76,
   "id": "c1f30967",
   "metadata": {
    "tags": []
   },
   "outputs": [],
   "source": [
    "#y_test"
   ]
  },
  {
   "cell_type": "code",
   "execution_count": 77,
   "id": "528e5407",
   "metadata": {},
   "outputs": [
    {
     "name": "stdout",
     "output_type": "stream",
     "text": [
      "Accuracy Score:  0.512\n",
      "Confusion Matrix: \n",
      " [[47 61]\n",
      " [61 81]]\n",
      "F1 Score:  0.5704225352112676\n",
      "Precision Score:  0.5704225352112676\n",
      "Recall score:  0.5704225352112676\n",
      "Area Under Curve score:  0.5028038601982263\n"
     ]
    }
   ],
   "source": [
    "xgbEval = evaluate(cla, y_test, y_pred)\n",
    "printEval(cla, xgbEval)"
   ]
  },
  {
   "cell_type": "markdown",
   "id": "bf3baca6",
   "metadata": {
    "jp-MarkdownHeadingCollapsed": true,
    "tags": []
   },
   "source": [
    "<h2>Linear Regress</h2>"
   ]
  },
  {
   "cell_type": "code",
   "execution_count": 78,
   "id": "fa438d2d",
   "metadata": {},
   "outputs": [
    {
     "data": {
      "text/plain": [
       "['ADX',\n",
       " 'ADXR',\n",
       " 'aroondown',\n",
       " 'aroonup',\n",
       " 'BOP',\n",
       " 'CCI',\n",
       " 'DX',\n",
       " 'MINUS_DI',\n",
       " 'PLUS_DI',\n",
       " 'PPO',\n",
       " 'ROC',\n",
       " 'slowk',\n",
       " 'fastk',\n",
       " 'fastd',\n",
       " 'TRIX',\n",
       " 'ULTOSC',\n",
       " 'WILLR']"
      ]
     },
     "execution_count": 78,
     "metadata": {},
     "output_type": "execute_result"
    }
   ],
   "source": [
    "n225_refeatures = selectFeatures(n225_ti,'Re Target')\n",
    "n225_refeatures.remove('Target')\n",
    "n225_refeatures.remove('Close')\n",
    "n225_refeatures"
   ]
  },
  {
   "cell_type": "code",
   "execution_count": 79,
   "id": "95ea452b",
   "metadata": {},
   "outputs": [],
   "source": [
    "from sklearn.model_selection import train_test_split\n",
    "X = n225_ti.loc[:, n225_refeatures].values\n",
    "y = n225_ti.loc[:, ['Re Target']].values\n",
    "X_train, X_test, y_train, y_test = train_test_split(X, y, test_size=0.2, random_state=0)"
   ]
  },
  {
   "cell_type": "code",
   "execution_count": 80,
   "id": "f925fc91",
   "metadata": {},
   "outputs": [],
   "source": [
    "from sklearn.preprocessing import StandardScaler\n",
    "sc = StandardScaler()\n",
    "X_train = sc.fit_transform(X_train)\n",
    "X_test = sc.transform(X_test)"
   ]
  },
  {
   "cell_type": "code",
   "execution_count": 82,
   "id": "02cfce81",
   "metadata": {},
   "outputs": [
    {
     "data": {
      "text/plain": [
       "LinearRegression()"
      ]
     },
     "execution_count": 82,
     "metadata": {},
     "output_type": "execute_result"
    }
   ],
   "source": [
    "lr = LinearRegression()\n",
    "lr.fit(X_train, y_train)"
   ]
  },
  {
   "cell_type": "code",
   "execution_count": 83,
   "id": "683a1dc9",
   "metadata": {
    "collapsed": true,
    "jupyter": {
     "outputs_hidden": true
    },
    "tags": []
   },
   "outputs": [],
   "source": [
    "y_pred = lr.predict(X_test)\n",
    "#print(y_pred)"
   ]
  },
  {
   "cell_type": "code",
   "execution_count": 84,
   "id": "e12ec864",
   "metadata": {},
   "outputs": [],
   "source": [
    "dframe = pd.DataFrame({'Actual':y_test.flatten(),'predicted':y_pred.flatten()})"
   ]
  },
  {
   "cell_type": "code",
   "execution_count": 85,
   "id": "30761530-a3c9-49c4-95ca-a1847ee2f0dd",
   "metadata": {},
   "outputs": [
    {
     "name": "stdout",
     "output_type": "stream",
     "text": [
      "Slope: [[ -558.13997628   374.60278179  -226.11690586  -329.73786658\n",
      "    218.01282462  -175.87898864   209.60276891  -913.23175504\n",
      "   -324.81334155   172.41326279   446.44903325   299.66018344\n",
      "    -98.29510159   299.66018344   652.06349367 -1205.38922974\n",
      "    103.34413606]]\n",
      "Intercept: [22823.74448374]\n"
     ]
    }
   ],
   "source": [
    "print('Slope:', lr.coef_)\n",
    "print('Intercept:', lr.intercept_)"
   ]
  },
  {
   "cell_type": "code",
   "execution_count": 86,
   "id": "2e655053-f499-4d87-8846-87767010a8fb",
   "metadata": {},
   "outputs": [
    {
     "data": {
      "image/png": "[encoded data removed]",
      "text/plain": [
       "<Figure size 936x432 with 1 Axes>"
      ]
     },
     "metadata": {
      "needs_background": "light"
     },
     "output_type": "display_data"
    }
   ],
   "source": [
    "plotReg('Nikkei 225 Stock Average 180 days', n225.index, n225[['Future Close']], n225_ti.iloc[-180:], n225_refeatures, lr)"
   ]
  },
  {
   "cell_type": "code",
   "execution_count": 87,
   "id": "eb768b0e",
   "metadata": {},
   "outputs": [
    {
     "name": "stdout",
     "output_type": "stream",
     "text": [
      "Mean Squared Error:  3200.008668069306\n",
      "Adjusted R squared 0.0837033222332163\n"
     ]
    }
   ],
   "source": [
    "lrEval = evaluate(reg, y_test, y_pred)\n",
    "printEval(reg, lrEval)"
   ]
  },
  {
   "cell_type": "markdown",
   "id": "f7b30f7d",
   "metadata": {
    "jp-MarkdownHeadingCollapsed": true,
    "tags": []
   },
   "source": [
    "<h2>Polynomial Regression</h2>"
   ]
  },
  {
   "cell_type": "code",
   "execution_count": 88,
   "id": "3591627b",
   "metadata": {},
   "outputs": [
    {
     "data": {
      "text/plain": [
       "Pipeline(steps=[('polynomialfeatures', PolynomialFeatures()),\n",
       "                ('linearregression', LinearRegression())])"
      ]
     },
     "execution_count": 88,
     "metadata": {},
     "output_type": "execute_result"
    }
   ],
   "source": [
    "from sklearn.preprocessing import PolynomialFeatures\n",
    "from sklearn.pipeline import make_pipeline\n",
    "from sklearn.linear_model import LinearRegression\n",
    "degree=2\n",
    "pr=make_pipeline(PolynomialFeatures(degree),LinearRegression())\n",
    "pr.fit(X_train,y_train)"
   ]
  },
  {
   "cell_type": "code",
   "execution_count": 89,
   "id": "813e219c",
   "metadata": {
    "collapsed": true,
    "jupyter": {
     "outputs_hidden": true
    },
    "tags": []
   },
   "outputs": [],
   "source": [
    "y_pred = pr.predict(X_test)  #Accuracy\n",
    "#y_pred"
   ]
  },
  {
   "cell_type": "code",
   "execution_count": 90,
   "id": "37690452-f605-44ec-8ed6-7aac0115d4d8",
   "metadata": {},
   "outputs": [
    {
     "data": {
      "image/png": "[encoded data removed]",
      "text/plain": [
       "<Figure size 936x432 with 1 Axes>"
      ]
     },
     "metadata": {
      "needs_background": "light"
     },
     "output_type": "display_data"
    }
   ],
   "source": [
    "plotReg('Nikkei 225 Stock Average 180 days', n225.index, n225[['Future Close']], n225_ti.iloc[-180:], n225_refeatures, pr)"
   ]
  },
  {
   "cell_type": "code",
   "execution_count": 91,
   "id": "15d5fd36",
   "metadata": {},
   "outputs": [
    {
     "name": "stdout",
     "output_type": "stream",
     "text": [
      "Mean Squared Error:  2837.0751416573\n",
      "Adjusted R squared 0.27976291489086724\n"
     ]
    }
   ],
   "source": [
    "gsEval = evaluate(reg, y_test, y_pred)\n",
    "printEval(reg, gsEval)"
   ]
  },
  {
   "cell_type": "code",
   "execution_count": null,
   "metadata": {},
   "outputs": [],
   "source": []
  },
  {
   "cell_type": "code",
   "execution_count": 92,
   "metadata": {},
   "outputs": [],
   "source": [
    "list_dctEval.append(dctEval)\n",
    "list_forestEval.append(forestEval)\n",
    "list_logisticEval.append(logisticEval)\n",
    "list_xgbEval.append(xgbEval)"
   ]
  },
  {
   "cell_type": "code",
   "execution_count": 177,
   "id": "fa4184b1",
   "metadata": {
    "jupyter": {
     "source_hidden": true
    },
    "tags": []
   },
   "outputs": [
    {
     "name": "stdout",
     "output_type": "stream",
     "text": [
      "[1, 1, 0, 1, 0, 1]\n",
      "The model suggests that you should sell\n"
     ]
    }
   ],
   "source": [
    "finalPredict(n225_target, n225_features,n225_refeatures, dctEval, forestEval, logisticEval, xgbEval, lrEval, prEval)\n"
   ]
  },
  {
   "cell_type": "markdown",
   "id": "6351bd27",
   "metadata": {
    "jp-MarkdownHeadingCollapsed": true,
    "tags": []
   },
   "source": [
    "<h1>Heng Seng Index</h1>"
   ]
  },
  {
   "cell_type": "markdown",
   "id": "b1405105",
   "metadata": {
    "jp-MarkdownHeadingCollapsed": true,
    "tags": []
   },
   "source": [
    "<h2>Feature Selection</h2>"
   ]
  },
  {
   "cell_type": "code",
   "execution_count": 94,
   "id": "9062aa12",
   "metadata": {},
   "outputs": [
    {
     "data": {
      "text/html": [
       "<div>\n",
       "<style scoped>\n",
       "    .dataframe tbody tr th:only-of-type {\n",
       "        vertical-align: middle;\n",
       "    }\n",
       "\n",
       "    .dataframe tbody tr th {\n",
       "        vertical-align: top;\n",
       "    }\n",
       "\n",
       "    .dataframe thead th {\n",
       "        text-align: right;\n",
       "    }\n",
       "</style>\n",
       "<table border=\"1\" class=\"dataframe\">\n",
       "  <thead>\n",
       "    <tr style=\"text-align: right;\">\n",
       "      <th></th>\n",
       "      <th>High</th>\n",
       "      <th>Low</th>\n",
       "      <th>Open</th>\n",
       "      <th>Close</th>\n",
       "      <th>Volume</th>\n",
       "      <th>Adj Close</th>\n",
       "      <th>Future Close</th>\n",
       "    </tr>\n",
       "    <tr>\n",
       "      <th>Date</th>\n",
       "      <th></th>\n",
       "      <th></th>\n",
       "      <th></th>\n",
       "      <th></th>\n",
       "      <th></th>\n",
       "      <th></th>\n",
       "      <th></th>\n",
       "    </tr>\n",
       "  </thead>\n",
       "  <tbody>\n",
       "    <tr>\n",
       "      <th>2016-01-04</th>\n",
       "      <td>21794.839844</td>\n",
       "      <td>21227.609375</td>\n",
       "      <td>21782.619141</td>\n",
       "      <td>21327.119141</td>\n",
       "      <td>1.712095e+09</td>\n",
       "      <td>21327.119141</td>\n",
       "      <td>21188.720703</td>\n",
       "    </tr>\n",
       "    <tr>\n",
       "      <th>2016-01-05</th>\n",
       "      <td>21452.740234</td>\n",
       "      <td>21095.900391</td>\n",
       "      <td>21318.689453</td>\n",
       "      <td>21188.720703</td>\n",
       "      <td>1.484745e+09</td>\n",
       "      <td>21188.720703</td>\n",
       "      <td>20980.810547</td>\n",
       "    </tr>\n",
       "    <tr>\n",
       "      <th>2016-01-06</th>\n",
       "      <td>21199.619141</td>\n",
       "      <td>20947.300781</td>\n",
       "      <td>21142.630859</td>\n",
       "      <td>20980.810547</td>\n",
       "      <td>1.651083e+09</td>\n",
       "      <td>20980.810547</td>\n",
       "      <td>20333.339844</td>\n",
       "    </tr>\n",
       "    <tr>\n",
       "      <th>2016-01-07</th>\n",
       "      <td>20826.439453</td>\n",
       "      <td>20323.970703</td>\n",
       "      <td>20772.599609</td>\n",
       "      <td>20333.339844</td>\n",
       "      <td>2.982004e+09</td>\n",
       "      <td>20333.339844</td>\n",
       "      <td>20453.710938</td>\n",
       "    </tr>\n",
       "    <tr>\n",
       "      <th>2016-01-08</th>\n",
       "      <td>20596.419922</td>\n",
       "      <td>20324.619141</td>\n",
       "      <td>20491.880859</td>\n",
       "      <td>20453.710938</td>\n",
       "      <td>2.078133e+09</td>\n",
       "      <td>20453.710938</td>\n",
       "      <td>19888.500000</td>\n",
       "    </tr>\n",
       "    <tr>\n",
       "      <th>...</th>\n",
       "      <td>...</td>\n",
       "      <td>...</td>\n",
       "      <td>...</td>\n",
       "      <td>...</td>\n",
       "      <td>...</td>\n",
       "      <td>...</td>\n",
       "      <td>...</td>\n",
       "    </tr>\n",
       "    <tr>\n",
       "      <th>2021-12-01</th>\n",
       "      <td>23864.300781</td>\n",
       "      <td>23537.650391</td>\n",
       "      <td>23595.570312</td>\n",
       "      <td>23658.919922</td>\n",
       "      <td>2.118635e+09</td>\n",
       "      <td>23658.919922</td>\n",
       "      <td>23788.929688</td>\n",
       "    </tr>\n",
       "    <tr>\n",
       "      <th>2021-12-02</th>\n",
       "      <td>23807.000000</td>\n",
       "      <td>23517.519531</td>\n",
       "      <td>23524.050781</td>\n",
       "      <td>23788.929688</td>\n",
       "      <td>2.328241e+09</td>\n",
       "      <td>23788.929688</td>\n",
       "      <td>23766.689453</td>\n",
       "    </tr>\n",
       "    <tr>\n",
       "      <th>2021-12-03</th>\n",
       "      <td>23802.769531</td>\n",
       "      <td>23451.929688</td>\n",
       "      <td>23675.259766</td>\n",
       "      <td>23766.689453</td>\n",
       "      <td>2.717890e+09</td>\n",
       "      <td>23766.689453</td>\n",
       "      <td>23349.380859</td>\n",
       "    </tr>\n",
       "    <tr>\n",
       "      <th>2021-12-06</th>\n",
       "      <td>23628.300781</td>\n",
       "      <td>23314.970703</td>\n",
       "      <td>23420.439453</td>\n",
       "      <td>23349.380859</td>\n",
       "      <td>2.357403e+09</td>\n",
       "      <td>23349.380859</td>\n",
       "      <td>23981.990234</td>\n",
       "    </tr>\n",
       "    <tr>\n",
       "      <th>2021-12-07</th>\n",
       "      <td>23989.779297</td>\n",
       "      <td>23512.500000</td>\n",
       "      <td>23704.509766</td>\n",
       "      <td>23981.990234</td>\n",
       "      <td>0.000000e+00</td>\n",
       "      <td>23981.990234</td>\n",
       "      <td>NaN</td>\n",
       "    </tr>\n",
       "  </tbody>\n",
       "</table>\n",
       "<p>1461 rows × 7 columns</p>\n",
       "</div>"
      ],
      "text/plain": [
       "                    High           Low          Open         Close  \\\n",
       "Date                                                                 \n",
       "2016-01-04  21794.839844  21227.609375  21782.619141  21327.119141   \n",
       "2016-01-05  21452.740234  21095.900391  21318.689453  21188.720703   \n",
       "2016-01-06  21199.619141  20947.300781  21142.630859  20980.810547   \n",
       "2016-01-07  20826.439453  20323.970703  20772.599609  20333.339844   \n",
       "2016-01-08  20596.419922  20324.619141  20491.880859  20453.710938   \n",
       "...                  ...           ...           ...           ...   \n",
       "2021-12-01  23864.300781  23537.650391  23595.570312  23658.919922   \n",
       "2021-12-02  23807.000000  23517.519531  23524.050781  23788.929688   \n",
       "2021-12-03  23802.769531  23451.929688  23675.259766  23766.689453   \n",
       "2021-12-06  23628.300781  23314.970703  23420.439453  23349.380859   \n",
       "2021-12-07  23989.779297  23512.500000  23704.509766  23981.990234   \n",
       "\n",
       "                  Volume     Adj Close  Future Close  \n",
       "Date                                                  \n",
       "2016-01-04  1.712095e+09  21327.119141  21188.720703  \n",
       "2016-01-05  1.484745e+09  21188.720703  20980.810547  \n",
       "2016-01-06  1.651083e+09  20980.810547  20333.339844  \n",
       "2016-01-07  2.982004e+09  20333.339844  20453.710938  \n",
       "2016-01-08  2.078133e+09  20453.710938  19888.500000  \n",
       "...                  ...           ...           ...  \n",
       "2021-12-01  2.118635e+09  23658.919922  23788.929688  \n",
       "2021-12-02  2.328241e+09  23788.929688  23766.689453  \n",
       "2021-12-03  2.717890e+09  23766.689453  23349.380859  \n",
       "2021-12-06  2.357403e+09  23349.380859  23981.990234  \n",
       "2021-12-07  0.000000e+00  23981.990234           NaN  \n",
       "\n",
       "[1461 rows x 7 columns]"
      ]
     },
     "execution_count": 94,
     "metadata": {},
     "output_type": "execute_result"
    }
   ],
   "source": [
    "hsi['Future Close'] = hsi['Close'].shift(-1)\n",
    "hsi"
   ]
  },
  {
   "cell_type": "code",
   "execution_count": 95,
   "id": "29ed1e2f",
   "metadata": {},
   "outputs": [],
   "source": [
    "target = computeTarget(hsi['Close'], hsi['Future Close'])\n",
    "\n",
    "hsi['Target'] = target\n"
   ]
  },
  {
   "cell_type": "code",
   "execution_count": 96,
   "id": "91849ee3",
   "metadata": {},
   "outputs": [],
   "source": [
    "close = hsi['Close']\n",
    "high = hsi['High']\n",
    "low = hsi['Low']\n",
    "open = hsi['Open']\n",
    "volume  = hsi['Volume']"
   ]
  },
  {
   "cell_type": "code",
   "execution_count": 97,
   "id": "a052f075",
   "metadata": {},
   "outputs": [
    {
     "data": {
      "text/html": [
       "<div>\n",
       "<style scoped>\n",
       "    .dataframe tbody tr th:only-of-type {\n",
       "        vertical-align: middle;\n",
       "    }\n",
       "\n",
       "    .dataframe tbody tr th {\n",
       "        vertical-align: top;\n",
       "    }\n",
       "\n",
       "    .dataframe thead th {\n",
       "        text-align: right;\n",
       "    }\n",
       "</style>\n",
       "<table border=\"1\" class=\"dataframe\">\n",
       "  <thead>\n",
       "    <tr style=\"text-align: right;\">\n",
       "      <th></th>\n",
       "      <th>SMA20</th>\n",
       "      <th>SMA50</th>\n",
       "      <th>SMA200</th>\n",
       "      <th>EMA</th>\n",
       "      <th>OBV</th>\n",
       "      <th>RSI14</th>\n",
       "      <th>ADX</th>\n",
       "      <th>ADXR</th>\n",
       "      <th>aroondown</th>\n",
       "      <th>aroonup</th>\n",
       "      <th>...</th>\n",
       "      <th>slowk</th>\n",
       "      <th>slowd</th>\n",
       "      <th>fastk</th>\n",
       "      <th>fastd</th>\n",
       "      <th>TRIX</th>\n",
       "      <th>ULTOSC</th>\n",
       "      <th>WILLR</th>\n",
       "      <th>Target</th>\n",
       "      <th>Close</th>\n",
       "      <th>Re Target</th>\n",
       "    </tr>\n",
       "    <tr>\n",
       "      <th>Date</th>\n",
       "      <th></th>\n",
       "      <th></th>\n",
       "      <th></th>\n",
       "      <th></th>\n",
       "      <th></th>\n",
       "      <th></th>\n",
       "      <th></th>\n",
       "      <th></th>\n",
       "      <th></th>\n",
       "      <th></th>\n",
       "      <th></th>\n",
       "      <th></th>\n",
       "      <th></th>\n",
       "      <th></th>\n",
       "      <th></th>\n",
       "      <th></th>\n",
       "      <th></th>\n",
       "      <th></th>\n",
       "      <th></th>\n",
       "      <th></th>\n",
       "      <th></th>\n",
       "    </tr>\n",
       "  </thead>\n",
       "  <tbody>\n",
       "    <tr>\n",
       "      <th>2016-01-04</th>\n",
       "      <td>NaN</td>\n",
       "      <td>NaN</td>\n",
       "      <td>NaN</td>\n",
       "      <td>NaN</td>\n",
       "      <td>1.712095e+09</td>\n",
       "      <td>NaN</td>\n",
       "      <td>NaN</td>\n",
       "      <td>NaN</td>\n",
       "      <td>NaN</td>\n",
       "      <td>NaN</td>\n",
       "      <td>...</td>\n",
       "      <td>NaN</td>\n",
       "      <td>NaN</td>\n",
       "      <td>NaN</td>\n",
       "      <td>NaN</td>\n",
       "      <td>NaN</td>\n",
       "      <td>NaN</td>\n",
       "      <td>NaN</td>\n",
       "      <td>0</td>\n",
       "      <td>21327.119141</td>\n",
       "      <td>21188.720703</td>\n",
       "    </tr>\n",
       "    <tr>\n",
       "      <th>2016-01-05</th>\n",
       "      <td>NaN</td>\n",
       "      <td>NaN</td>\n",
       "      <td>NaN</td>\n",
       "      <td>NaN</td>\n",
       "      <td>2.273497e+08</td>\n",
       "      <td>NaN</td>\n",
       "      <td>NaN</td>\n",
       "      <td>NaN</td>\n",
       "      <td>NaN</td>\n",
       "      <td>NaN</td>\n",
       "      <td>...</td>\n",
       "      <td>NaN</td>\n",
       "      <td>NaN</td>\n",
       "      <td>NaN</td>\n",
       "      <td>NaN</td>\n",
       "      <td>NaN</td>\n",
       "      <td>NaN</td>\n",
       "      <td>NaN</td>\n",
       "      <td>0</td>\n",
       "      <td>21188.720703</td>\n",
       "      <td>20980.810547</td>\n",
       "    </tr>\n",
       "    <tr>\n",
       "      <th>2016-01-06</th>\n",
       "      <td>NaN</td>\n",
       "      <td>NaN</td>\n",
       "      <td>NaN</td>\n",
       "      <td>NaN</td>\n",
       "      <td>-1.423734e+09</td>\n",
       "      <td>NaN</td>\n",
       "      <td>NaN</td>\n",
       "      <td>NaN</td>\n",
       "      <td>NaN</td>\n",
       "      <td>NaN</td>\n",
       "      <td>...</td>\n",
       "      <td>NaN</td>\n",
       "      <td>NaN</td>\n",
       "      <td>NaN</td>\n",
       "      <td>NaN</td>\n",
       "      <td>NaN</td>\n",
       "      <td>NaN</td>\n",
       "      <td>NaN</td>\n",
       "      <td>0</td>\n",
       "      <td>20980.810547</td>\n",
       "      <td>20333.339844</td>\n",
       "    </tr>\n",
       "    <tr>\n",
       "      <th>2016-01-07</th>\n",
       "      <td>NaN</td>\n",
       "      <td>NaN</td>\n",
       "      <td>NaN</td>\n",
       "      <td>NaN</td>\n",
       "      <td>-4.405738e+09</td>\n",
       "      <td>NaN</td>\n",
       "      <td>NaN</td>\n",
       "      <td>NaN</td>\n",
       "      <td>NaN</td>\n",
       "      <td>NaN</td>\n",
       "      <td>...</td>\n",
       "      <td>NaN</td>\n",
       "      <td>NaN</td>\n",
       "      <td>NaN</td>\n",
       "      <td>NaN</td>\n",
       "      <td>NaN</td>\n",
       "      <td>NaN</td>\n",
       "      <td>NaN</td>\n",
       "      <td>1</td>\n",
       "      <td>20333.339844</td>\n",
       "      <td>20453.710938</td>\n",
       "    </tr>\n",
       "    <tr>\n",
       "      <th>2016-01-08</th>\n",
       "      <td>NaN</td>\n",
       "      <td>NaN</td>\n",
       "      <td>NaN</td>\n",
       "      <td>NaN</td>\n",
       "      <td>-2.327604e+09</td>\n",
       "      <td>NaN</td>\n",
       "      <td>NaN</td>\n",
       "      <td>NaN</td>\n",
       "      <td>NaN</td>\n",
       "      <td>NaN</td>\n",
       "      <td>...</td>\n",
       "      <td>NaN</td>\n",
       "      <td>NaN</td>\n",
       "      <td>NaN</td>\n",
       "      <td>NaN</td>\n",
       "      <td>NaN</td>\n",
       "      <td>NaN</td>\n",
       "      <td>NaN</td>\n",
       "      <td>0</td>\n",
       "      <td>20453.710938</td>\n",
       "      <td>19888.500000</td>\n",
       "    </tr>\n",
       "    <tr>\n",
       "      <th>...</th>\n",
       "      <td>...</td>\n",
       "      <td>...</td>\n",
       "      <td>...</td>\n",
       "      <td>...</td>\n",
       "      <td>...</td>\n",
       "      <td>...</td>\n",
       "      <td>...</td>\n",
       "      <td>...</td>\n",
       "      <td>...</td>\n",
       "      <td>...</td>\n",
       "      <td>...</td>\n",
       "      <td>...</td>\n",
       "      <td>...</td>\n",
       "      <td>...</td>\n",
       "      <td>...</td>\n",
       "      <td>...</td>\n",
       "      <td>...</td>\n",
       "      <td>...</td>\n",
       "      <td>...</td>\n",
       "      <td>...</td>\n",
       "      <td>...</td>\n",
       "    </tr>\n",
       "    <tr>\n",
       "      <th>2021-12-01</th>\n",
       "      <td>24823.234082</td>\n",
       "      <td>24942.219844</td>\n",
       "      <td>27252.928828</td>\n",
       "      <td>24480.205945</td>\n",
       "      <td>1.817854e+11</td>\n",
       "      <td>30.643761</td>\n",
       "      <td>23.149249</td>\n",
       "      <td>18.413873</td>\n",
       "      <td>92.857143</td>\n",
       "      <td>21.428571</td>\n",
       "      <td>...</td>\n",
       "      <td>18.530248</td>\n",
       "      <td>14.225536</td>\n",
       "      <td>30.464877</td>\n",
       "      <td>18.530248</td>\n",
       "      <td>-0.063597</td>\n",
       "      <td>35.681700</td>\n",
       "      <td>-81.194613</td>\n",
       "      <td>1</td>\n",
       "      <td>23658.919922</td>\n",
       "      <td>23788.929688</td>\n",
       "    </tr>\n",
       "    <tr>\n",
       "      <th>2021-12-02</th>\n",
       "      <td>24751.421094</td>\n",
       "      <td>24919.583242</td>\n",
       "      <td>27224.492529</td>\n",
       "      <td>24388.035777</td>\n",
       "      <td>1.841137e+11</td>\n",
       "      <td>33.602504</td>\n",
       "      <td>25.404155</td>\n",
       "      <td>19.054933</td>\n",
       "      <td>85.714286</td>\n",
       "      <td>14.285714</td>\n",
       "      <td>...</td>\n",
       "      <td>31.527417</td>\n",
       "      <td>19.673169</td>\n",
       "      <td>46.225847</td>\n",
       "      <td>31.527417</td>\n",
       "      <td>-0.067209</td>\n",
       "      <td>41.550020</td>\n",
       "      <td>-76.138507</td>\n",
       "      <td>0</td>\n",
       "      <td>23788.929688</td>\n",
       "      <td>23766.689453</td>\n",
       "    </tr>\n",
       "    <tr>\n",
       "      <th>2021-12-03</th>\n",
       "      <td>24696.230078</td>\n",
       "      <td>24912.934219</td>\n",
       "      <td>27193.132373</td>\n",
       "      <td>24305.189601</td>\n",
       "      <td>1.813958e+11</td>\n",
       "      <td>33.340479</td>\n",
       "      <td>27.576825</td>\n",
       "      <td>20.026719</td>\n",
       "      <td>78.571429</td>\n",
       "      <td>7.142857</td>\n",
       "      <td>...</td>\n",
       "      <td>46.117986</td>\n",
       "      <td>32.058550</td>\n",
       "      <td>61.663235</td>\n",
       "      <td>46.117986</td>\n",
       "      <td>-0.071155</td>\n",
       "      <td>45.498410</td>\n",
       "      <td>-77.003434</td>\n",
       "      <td>0</td>\n",
       "      <td>23766.689453</td>\n",
       "      <td>23349.380859</td>\n",
       "    </tr>\n",
       "    <tr>\n",
       "      <th>2021-12-06</th>\n",
       "      <td>24625.510645</td>\n",
       "      <td>24895.491055</td>\n",
       "      <td>27159.011426</td>\n",
       "      <td>24177.748435</td>\n",
       "      <td>1.790384e+11</td>\n",
       "      <td>28.802137</td>\n",
       "      <td>29.758262</td>\n",
       "      <td>21.011071</td>\n",
       "      <td>71.428571</td>\n",
       "      <td>0.000000</td>\n",
       "      <td>...</td>\n",
       "      <td>44.098218</td>\n",
       "      <td>40.581207</td>\n",
       "      <td>24.405571</td>\n",
       "      <td>44.098218</td>\n",
       "      <td>-0.075752</td>\n",
       "      <td>38.874744</td>\n",
       "      <td>-93.018423</td>\n",
       "      <td>1</td>\n",
       "      <td>23349.380859</td>\n",
       "      <td>23981.990234</td>\n",
       "    </tr>\n",
       "    <tr>\n",
       "      <th>2021-12-07</th>\n",
       "      <td>24583.953613</td>\n",
       "      <td>24884.911250</td>\n",
       "      <td>27125.188076</td>\n",
       "      <td>24151.647342</td>\n",
       "      <td>1.790384e+11</td>\n",
       "      <td>41.747225</td>\n",
       "      <td>30.330581</td>\n",
       "      <td>20.951206</td>\n",
       "      <td>64.285714</td>\n",
       "      <td>0.000000</td>\n",
       "      <td>...</td>\n",
       "      <td>61.638181</td>\n",
       "      <td>50.618128</td>\n",
       "      <td>98.845738</td>\n",
       "      <td>61.638181</td>\n",
       "      <td>-0.080143</td>\n",
       "      <td>52.210115</td>\n",
       "      <td>-63.971501</td>\n",
       "      <td>0</td>\n",
       "      <td>23981.990234</td>\n",
       "      <td>NaN</td>\n",
       "    </tr>\n",
       "  </tbody>\n",
       "</table>\n",
       "<p>1461 rows × 40 columns</p>\n",
       "</div>"
      ],
      "text/plain": [
       "                   SMA20         SMA50        SMA200           EMA  \\\n",
       "Date                                                                 \n",
       "2016-01-04           NaN           NaN           NaN           NaN   \n",
       "2016-01-05           NaN           NaN           NaN           NaN   \n",
       "2016-01-06           NaN           NaN           NaN           NaN   \n",
       "2016-01-07           NaN           NaN           NaN           NaN   \n",
       "2016-01-08           NaN           NaN           NaN           NaN   \n",
       "...                  ...           ...           ...           ...   \n",
       "2021-12-01  24823.234082  24942.219844  27252.928828  24480.205945   \n",
       "2021-12-02  24751.421094  24919.583242  27224.492529  24388.035777   \n",
       "2021-12-03  24696.230078  24912.934219  27193.132373  24305.189601   \n",
       "2021-12-06  24625.510645  24895.491055  27159.011426  24177.748435   \n",
       "2021-12-07  24583.953613  24884.911250  27125.188076  24151.647342   \n",
       "\n",
       "                     OBV      RSI14        ADX       ADXR  aroondown  \\\n",
       "Date                                                                   \n",
       "2016-01-04  1.712095e+09        NaN        NaN        NaN        NaN   \n",
       "2016-01-05  2.273497e+08        NaN        NaN        NaN        NaN   \n",
       "2016-01-06 -1.423734e+09        NaN        NaN        NaN        NaN   \n",
       "2016-01-07 -4.405738e+09        NaN        NaN        NaN        NaN   \n",
       "2016-01-08 -2.327604e+09        NaN        NaN        NaN        NaN   \n",
       "...                  ...        ...        ...        ...        ...   \n",
       "2021-12-01  1.817854e+11  30.643761  23.149249  18.413873  92.857143   \n",
       "2021-12-02  1.841137e+11  33.602504  25.404155  19.054933  85.714286   \n",
       "2021-12-03  1.813958e+11  33.340479  27.576825  20.026719  78.571429   \n",
       "2021-12-06  1.790384e+11  28.802137  29.758262  21.011071  71.428571   \n",
       "2021-12-07  1.790384e+11  41.747225  30.330581  20.951206  64.285714   \n",
       "\n",
       "              aroonup  ...      slowk      slowd      fastk      fastd  \\\n",
       "Date                   ...                                               \n",
       "2016-01-04        NaN  ...        NaN        NaN        NaN        NaN   \n",
       "2016-01-05        NaN  ...        NaN        NaN        NaN        NaN   \n",
       "2016-01-06        NaN  ...        NaN        NaN        NaN        NaN   \n",
       "2016-01-07        NaN  ...        NaN        NaN        NaN        NaN   \n",
       "2016-01-08        NaN  ...        NaN        NaN        NaN        NaN   \n",
       "...               ...  ...        ...        ...        ...        ...   \n",
       "2021-12-01  21.428571  ...  18.530248  14.225536  30.464877  18.530248   \n",
       "2021-12-02  14.285714  ...  31.527417  19.673169  46.225847  31.527417   \n",
       "2021-12-03   7.142857  ...  46.117986  32.058550  61.663235  46.117986   \n",
       "2021-12-06   0.000000  ...  44.098218  40.581207  24.405571  44.098218   \n",
       "2021-12-07   0.000000  ...  61.638181  50.618128  98.845738  61.638181   \n",
       "\n",
       "                TRIX     ULTOSC      WILLR  Target         Close     Re Target  \n",
       "Date                                                                            \n",
       "2016-01-04       NaN        NaN        NaN       0  21327.119141  21188.720703  \n",
       "2016-01-05       NaN        NaN        NaN       0  21188.720703  20980.810547  \n",
       "2016-01-06       NaN        NaN        NaN       0  20980.810547  20333.339844  \n",
       "2016-01-07       NaN        NaN        NaN       1  20333.339844  20453.710938  \n",
       "2016-01-08       NaN        NaN        NaN       0  20453.710938  19888.500000  \n",
       "...              ...        ...        ...     ...           ...           ...  \n",
       "2021-12-01 -0.063597  35.681700 -81.194613       1  23658.919922  23788.929688  \n",
       "2021-12-02 -0.067209  41.550020 -76.138507       0  23788.929688  23766.689453  \n",
       "2021-12-03 -0.071155  45.498410 -77.003434       0  23766.689453  23349.380859  \n",
       "2021-12-06 -0.075752  38.874744 -93.018423       1  23349.380859  23981.990234  \n",
       "2021-12-07 -0.080143  52.210115 -63.971501       0  23981.990234           NaN  \n",
       "\n",
       "[1461 rows x 40 columns]"
      ]
     },
     "execution_count": 97,
     "metadata": {},
     "output_type": "execute_result"
    }
   ],
   "source": [
    "hsi_ti = pd.DataFrame()\n",
    "hsi_ti['SMA20'] = talib.SMA(close, timeperiod=20)\n",
    "hsi_ti['SMA50'] = talib.SMA(close, timeperiod=50)\n",
    "hsi_ti['SMA200'] = talib.SMA(close, timeperiod=200)\n",
    "hsi_ti['EMA'] = talib.EMA(close, timeperiod=14)\n",
    "hsi_ti['OBV'] = talib.OBV(close, volume)\n",
    "hsi_ti['RSI14'] = talib.RSI(close, timeperiod=14)\n",
    "hsi_ti['ADX'] = talib.ADX(high, low, close, timeperiod=14)\n",
    "hsi_ti['ADXR'] = talib.ADXR(high, low, close, timeperiod=14)\n",
    "hsi_ti['aroondown'], hsi_ti['aroonup'] = talib.AROON(high, low, timeperiod=14)\n",
    "hsi_ti['APO'] = talib.APO(close, fastperiod=12, slowperiod=26, matype=0)\n",
    "hsi_ti['AROONOSC'] = talib.AROONOSC(high, low, timeperiod=14)\n",
    "hsi_ti['BOP'] = talib.BOP(open, high, low, close)\n",
    "hsi_ti['CCI'] = talib.CCI(high, low, close, timeperiod=14)\n",
    "hsi_ti['CMO'] = talib.CMO(close, timeperiod=14)\n",
    "hsi_ti['DX'] = talib.DX(high, low, close, timeperiod=14)\n",
    "hsi_ti['macd'],hsi_ti['macdsignal'],hsi_ti['macdhist'] = talib.MACD(close, fastperiod = 12, slowperiod=26, signalperiod=9)\n",
    "hsi_ti['MFI'] = talib.MFI(high, low, close, volume, timeperiod=14)\n",
    "hsi_ti['MINUS_DI'] = talib.MINUS_DI(high, low, close, timeperiod=14)\n",
    "hsi_ti['MINUS_DM'] = talib.MINUS_DM(high, low, timeperiod=14)\n",
    "hsi_ti['MOM'] = talib.MOM(close, timeperiod=14)\n",
    "hsi_ti['PLUS_DI'] = talib.PLUS_DI(high, low, close, timeperiod=14)\n",
    "hsi_ti['PLUS_DM'] = talib.PLUS_DM(high, low, timeperiod=14)\n",
    "hsi_ti['PPO'] = talib.PPO(close, fastperiod=12, slowperiod=26, matype=0)\n",
    "hsi_ti['ROC'] = talib.ROC(close, timeperiod=10)\n",
    "hsi_ti['ROCP'] = talib.ROCP(close, timeperiod=10)\n",
    "hsi_ti['ROCR'] = talib.ROCR(close, timeperiod=10)\n",
    "hsi_ti['ROCR100'] = talib.ROCR100(close, timeperiod=10)\n",
    "hsi_ti['slowk'], hsi_ti['slowd'] = talib.STOCH(high, low, close, fastk_period=5, slowk_period=3, slowd_period=3, slowd_matype=0)\n",
    "hsi_ti['fastk'], hsi_ti['fastd'] = talib.STOCHF(high, low, close, fastk_period=5, fastd_period=3, fastd_matype=0)\n",
    "hsi_ti['TRIX'] = talib.TRIX(close, timeperiod=30)\n",
    "hsi_ti['ULTOSC'] = talib.ULTOSC(high, low, close, timeperiod1=7, timeperiod2=14, timeperiod3=28)\n",
    "hsi_ti['WILLR'] = talib.WILLR(high, low, close, timeperiod=14)\n",
    "hsi_ti['Target'] = hsi['Target']\n",
    "hsi_ti['Close'] = hsi['Close']\n",
    "hsi_ti['Re Target'] = hsi['Future Close']\n",
    "hsi_ti"
   ]
  },
  {
   "cell_type": "code",
   "execution_count": 98,
   "id": "517cfc67",
   "metadata": {},
   "outputs": [],
   "source": [
    "hsi_target = hsi_ti.tail(1)"
   ]
  },
  {
   "cell_type": "code",
   "execution_count": 99,
   "id": "8239c0ab",
   "metadata": {},
   "outputs": [
    {
     "data": {
      "text/plain": [
       "['RSI14',\n",
       " 'ADX',\n",
       " 'ADXR',\n",
       " 'BOP',\n",
       " 'CMO',\n",
       " 'DX',\n",
       " 'macdhist',\n",
       " 'MINUS_DI',\n",
       " 'PLUS_DI',\n",
       " 'PPO',\n",
       " 'ROC',\n",
       " 'ROCR100',\n",
       " 'slowk',\n",
       " 'fastk',\n",
       " 'fastd',\n",
       " 'TRIX',\n",
       " 'ULTOSC']"
      ]
     },
     "execution_count": 99,
     "metadata": {},
     "output_type": "execute_result"
    }
   ],
   "source": [
    "hsi_ti = hsi_ti.dropna()\n",
    "hsi_features = selectFeatures(hsi_ti,'Target')\n",
    "hsi_features.remove('Re Target')\n",
    "hsi_features.remove('Close')\n",
    "hsi_features"
   ]
  },
  {
   "cell_type": "code",
   "execution_count": 100,
   "id": "42c7d0db",
   "metadata": {},
   "outputs": [],
   "source": [
    "X = hsi_ti.loc[:, hsi_features].values\n",
    "#X = dji_ti.loc[:, ['CCI', 'DX', 'MINUS_DI', 'PLUS_DM', 'slowd']].values\n",
    "y = hsi_ti.loc[:, ['Target']].values\n",
    "X_train, X_test, y_train, y_test = train_test_split(X, y, test_size=0.2, random_state=0)"
   ]
  },
  {
   "cell_type": "code",
   "execution_count": 101,
   "id": "1a6f3ae0",
   "metadata": {},
   "outputs": [],
   "source": [
    "sc = StandardScaler()\n",
    "X_train = sc.fit_transform(X_train)\n",
    "X_test = sc.transform(X_test)"
   ]
  },
  {
   "cell_type": "markdown",
   "id": "2dcefe30",
   "metadata": {
    "jp-MarkdownHeadingCollapsed": true,
    "tags": []
   },
   "source": [
    "<h2>Decision Tree</h2>"
   ]
  },
  {
   "cell_type": "code",
   "execution_count": 102,
   "id": "d4d83c51",
   "metadata": {},
   "outputs": [
    {
     "data": {
      "text/plain": [
       "DecisionTreeClassifier(criterion='entropy')"
      ]
     },
     "execution_count": 102,
     "metadata": {},
     "output_type": "execute_result"
    }
   ],
   "source": [
    "dtc = DecisionTreeClassifier(criterion=\"entropy\")\n",
    "dtc.fit(X_train, y_train)"
   ]
  },
  {
   "cell_type": "code",
   "execution_count": 103,
   "id": "3b42c1d6",
   "metadata": {},
   "outputs": [
    {
     "data": {
      "text/plain": [
       "array([1, 0, 1, 0, 1, 0, 1, 1, 1, 1, 1, 0, 0, 0, 0, 0, 0, 1, 1, 0, 0, 1,\n",
       "       0, 0, 0, 0, 1, 1, 0, 0, 0, 0, 1, 0, 0, 1, 0, 0, 0, 1, 1, 0, 1, 1,\n",
       "       0, 0, 1, 1, 0, 1, 1, 1, 0, 0, 1, 0, 0, 0, 0, 0, 0, 1, 1, 1, 1, 0,\n",
       "       0, 0, 1, 1, 0, 0, 0, 1, 0, 0, 1, 1, 1, 1, 0, 0, 0, 1, 0, 1, 0, 1,\n",
       "       1, 0, 1, 0, 0, 1, 1, 1, 0, 1, 1, 1, 0, 0, 0, 0, 1, 0, 1, 0, 0, 0,\n",
       "       0, 0, 0, 1, 1, 0, 0, 0, 1, 0, 1, 0, 1, 1, 0, 1, 0, 0, 0, 1, 0, 0,\n",
       "       1, 1, 1, 0, 1, 1, 1, 0, 1, 1, 0, 0, 0, 1, 1, 1, 1, 1, 0, 0, 0, 1,\n",
       "       0, 1, 0, 1, 1, 1, 1, 0, 1, 1, 1, 1, 0, 0, 0, 1, 0, 1, 0, 1, 1, 1,\n",
       "       0, 0, 1, 1, 0, 1, 1, 1, 1, 0, 1, 0, 0, 1, 1, 0, 1, 0, 1, 1, 0, 1,\n",
       "       0, 1, 0, 0, 1, 0, 0, 1, 1, 1, 1, 0, 1, 1, 0, 0, 0, 0, 1, 0, 1, 0,\n",
       "       1, 1, 1, 0, 1, 0, 0, 1, 0, 1, 1, 0, 0, 0, 1, 1, 0, 1, 1, 0, 1, 0,\n",
       "       0, 0, 0, 0, 1, 1, 1, 1, 0, 1, 1], dtype=int64)"
      ]
     },
     "execution_count": 103,
     "metadata": {},
     "output_type": "execute_result"
    }
   ],
   "source": [
    "# Prediction\n",
    "#\n",
    "y_pred = dtc.predict(X_test)  #Accuracy\n",
    "y_pred"
   ]
  },
  {
   "cell_type": "code",
   "execution_count": 104,
   "id": "87c498e4",
   "metadata": {
    "tags": []
   },
   "outputs": [
    {
     "data": {
      "text/plain": [
       "array([[0],\n",
       "       [0],\n",
       "       [0],\n",
       "       [1],\n",
       "       [1],\n",
       "       [1],\n",
       "       [0],\n",
       "       [0],\n",
       "       [1],\n",
       "       [1],\n",
       "       [0],\n",
       "       [1],\n",
       "       [0],\n",
       "       [0],\n",
       "       [1],\n",
       "       [0],\n",
       "       [1],\n",
       "       [1],\n",
       "       [0],\n",
       "       [1],\n",
       "       [1],\n",
       "       [1],\n",
       "       [0],\n",
       "       [1],\n",
       "       [1],\n",
       "       [1],\n",
       "       [0],\n",
       "       [1],\n",
       "       [0],\n",
       "       [0],\n",
       "       [1],\n",
       "       [1],\n",
       "       [0],\n",
       "       [1],\n",
       "       [0],\n",
       "       [0],\n",
       "       [1],\n",
       "       [0],\n",
       "       [0],\n",
       "       [0],\n",
       "       [0],\n",
       "       [0],\n",
       "       [1],\n",
       "       [0],\n",
       "       [0],\n",
       "       [0],\n",
       "       [0],\n",
       "       [0],\n",
       "       [1],\n",
       "       [1],\n",
       "       [1],\n",
       "       [1],\n",
       "       [0],\n",
       "       [1],\n",
       "       [0],\n",
       "       [0],\n",
       "       [1],\n",
       "       [0],\n",
       "       [1],\n",
       "       [1],\n",
       "       [1],\n",
       "       [0],\n",
       "       [1],\n",
       "       [0],\n",
       "       [0],\n",
       "       [1],\n",
       "       [1],\n",
       "       [1],\n",
       "       [1],\n",
       "       [1],\n",
       "       [1],\n",
       "       [1],\n",
       "       [1],\n",
       "       [0],\n",
       "       [1],\n",
       "       [1],\n",
       "       [1],\n",
       "       [1],\n",
       "       [1],\n",
       "       [1],\n",
       "       [1],\n",
       "       [0],\n",
       "       [1],\n",
       "       [0],\n",
       "       [1],\n",
       "       [1],\n",
       "       [0],\n",
       "       [0],\n",
       "       [1],\n",
       "       [0],\n",
       "       [0],\n",
       "       [0],\n",
       "       [0],\n",
       "       [0],\n",
       "       [1],\n",
       "       [1],\n",
       "       [1],\n",
       "       [1],\n",
       "       [1],\n",
       "       [1],\n",
       "       [0],\n",
       "       [1],\n",
       "       [0],\n",
       "       [1],\n",
       "       [1],\n",
       "       [0],\n",
       "       [0],\n",
       "       [1],\n",
       "       [0],\n",
       "       [1],\n",
       "       [1],\n",
       "       [1],\n",
       "       [0],\n",
       "       [1],\n",
       "       [0],\n",
       "       [1],\n",
       "       [1],\n",
       "       [0],\n",
       "       [1],\n",
       "       [0],\n",
       "       [1],\n",
       "       [0],\n",
       "       [0],\n",
       "       [0],\n",
       "       [1],\n",
       "       [0],\n",
       "       [1],\n",
       "       [0],\n",
       "       [1],\n",
       "       [1],\n",
       "       [0],\n",
       "       [1],\n",
       "       [1],\n",
       "       [0],\n",
       "       [0],\n",
       "       [0],\n",
       "       [1],\n",
       "       [1],\n",
       "       [1],\n",
       "       [1],\n",
       "       [1],\n",
       "       [1],\n",
       "       [1],\n",
       "       [1],\n",
       "       [0],\n",
       "       [1],\n",
       "       [1],\n",
       "       [1],\n",
       "       [0],\n",
       "       [1],\n",
       "       [0],\n",
       "       [0],\n",
       "       [0],\n",
       "       [0],\n",
       "       [1],\n",
       "       [0],\n",
       "       [0],\n",
       "       [0],\n",
       "       [1],\n",
       "       [1],\n",
       "       [1],\n",
       "       [1],\n",
       "       [0],\n",
       "       [1],\n",
       "       [0],\n",
       "       [0],\n",
       "       [1],\n",
       "       [0],\n",
       "       [1],\n",
       "       [0],\n",
       "       [1],\n",
       "       [0],\n",
       "       [1],\n",
       "       [0],\n",
       "       [0],\n",
       "       [0],\n",
       "       [1],\n",
       "       [1],\n",
       "       [1],\n",
       "       [1],\n",
       "       [0],\n",
       "       [1],\n",
       "       [1],\n",
       "       [1],\n",
       "       [1],\n",
       "       [0],\n",
       "       [0],\n",
       "       [0],\n",
       "       [1],\n",
       "       [1],\n",
       "       [1],\n",
       "       [1],\n",
       "       [0],\n",
       "       [0],\n",
       "       [0],\n",
       "       [1],\n",
       "       [1],\n",
       "       [1],\n",
       "       [0],\n",
       "       [1],\n",
       "       [0],\n",
       "       [0],\n",
       "       [0],\n",
       "       [0],\n",
       "       [0],\n",
       "       [1],\n",
       "       [1],\n",
       "       [1],\n",
       "       [1],\n",
       "       [0],\n",
       "       [1],\n",
       "       [1],\n",
       "       [0],\n",
       "       [1],\n",
       "       [0],\n",
       "       [1],\n",
       "       [0],\n",
       "       [0],\n",
       "       [0],\n",
       "       [0],\n",
       "       [0],\n",
       "       [0],\n",
       "       [1],\n",
       "       [1],\n",
       "       [0],\n",
       "       [0],\n",
       "       [1],\n",
       "       [0],\n",
       "       [0],\n",
       "       [0],\n",
       "       [1],\n",
       "       [0],\n",
       "       [0],\n",
       "       [0],\n",
       "       [0],\n",
       "       [1],\n",
       "       [0],\n",
       "       [1],\n",
       "       [1],\n",
       "       [1],\n",
       "       [0],\n",
       "       [1],\n",
       "       [1],\n",
       "       [1],\n",
       "       [0],\n",
       "       [1],\n",
       "       [1],\n",
       "       [1],\n",
       "       [0],\n",
       "       [1],\n",
       "       [0],\n",
       "       [1],\n",
       "       [0]], dtype=int64)"
      ]
     },
     "execution_count": 104,
     "metadata": {},
     "output_type": "execute_result"
    }
   ],
   "source": [
    "# Look at the actual y_test\n",
    "#\n",
    "y_test"
   ]
  },
  {
   "cell_type": "code",
   "execution_count": 105,
   "id": "196630d6",
   "metadata": {},
   "outputs": [
    {
     "name": "stdout",
     "output_type": "stream",
     "text": [
      "Accuracy Score:  0.5098814229249012\n",
      "Confusion Matrix: \n",
      " [[60 57]\n",
      " [67 69]]\n",
      "F1 Score:  0.5267175572519084\n",
      "Precision Score:  0.5476190476190477\n",
      "Recall score:  0.5073529411764706\n",
      "Area Under Curve score:  0.5100867269984917\n"
     ]
    }
   ],
   "source": [
    "dctEval = evaluate(cla, y_test, y_pred)\n",
    "printEval(cla, dctEval)"
   ]
  },
  {
   "cell_type": "markdown",
   "id": "0b71717d",
   "metadata": {
    "jp-MarkdownHeadingCollapsed": true,
    "tags": []
   },
   "source": [
    "<h2>Random Forest</h2>"
   ]
  },
  {
   "cell_type": "code",
   "execution_count": 106,
   "id": "1846f95d",
   "metadata": {},
   "outputs": [
    {
     "name": "stderr",
     "output_type": "stream",
     "text": [
      "<ipython-input-106-754f2f392d5c>:2: DataConversionWarning: A column-vector y was passed when a 1d array was expected. Please change the shape of y to (n_samples,), for example using ravel().\n",
      "  forest.fit(X_train, y_train)\n"
     ]
    },
    {
     "data": {
      "text/plain": [
       "RandomForestClassifier(max_depth=2, n_estimators=1000, random_state=40)"
      ]
     },
     "execution_count": 106,
     "metadata": {},
     "output_type": "execute_result"
    }
   ],
   "source": [
    "forest = RandomForestClassifier(n_estimators = 1000, random_state = 40, max_depth=2 )\n",
    "forest.fit(X_train, y_train)"
   ]
  },
  {
   "cell_type": "code",
   "execution_count": 107,
   "id": "ecdeac80",
   "metadata": {},
   "outputs": [
    {
     "data": {
      "text/plain": [
       "array([1, 1, 1, 0, 1, 1, 1, 1, 1, 1, 1, 1, 1, 1, 1, 1, 0, 1, 1, 1, 1, 1,\n",
       "       1, 1, 1, 1, 1, 1, 1, 1, 1, 0, 1, 0, 1, 1, 1, 1, 1, 1, 1, 0, 1, 1,\n",
       "       1, 1, 1, 1, 1, 1, 0, 1, 1, 1, 1, 1, 1, 1, 1, 1, 1, 1, 1, 1, 1, 1,\n",
       "       1, 1, 1, 1, 1, 1, 1, 1, 1, 1, 0, 1, 1, 1, 1, 1, 1, 1, 1, 1, 1, 1,\n",
       "       1, 1, 1, 0, 1, 1, 1, 1, 1, 1, 1, 1, 1, 1, 0, 1, 1, 1, 1, 1, 1, 1,\n",
       "       1, 1, 1, 1, 1, 1, 1, 1, 1, 1, 1, 1, 1, 1, 0, 1, 1, 1, 1, 1, 1, 1,\n",
       "       1, 1, 1, 1, 1, 1, 1, 1, 1, 1, 1, 1, 1, 1, 1, 1, 1, 1, 1, 1, 1, 1,\n",
       "       0, 1, 0, 1, 1, 1, 1, 1, 1, 1, 1, 1, 1, 1, 1, 1, 1, 1, 1, 1, 1, 1,\n",
       "       1, 1, 1, 0, 1, 1, 1, 1, 1, 1, 1, 1, 1, 0, 1, 1, 1, 1, 1, 1, 1, 1,\n",
       "       1, 1, 1, 1, 1, 1, 1, 1, 1, 0, 1, 1, 1, 1, 1, 1, 1, 1, 1, 1, 1, 1,\n",
       "       1, 1, 0, 1, 1, 0, 1, 1, 1, 1, 0, 1, 1, 1, 1, 1, 1, 1, 1, 1, 1, 1,\n",
       "       0, 1, 1, 1, 1, 1, 1, 1, 1, 1, 1], dtype=int64)"
      ]
     },
     "execution_count": 107,
     "metadata": {},
     "output_type": "execute_result"
    }
   ],
   "source": [
    "# Prediction\n",
    "#\n",
    "y_pred = forest.predict(X_test)  #Accuracy\n",
    "y_pred"
   ]
  },
  {
   "cell_type": "code",
   "execution_count": 108,
   "id": "b65495e4",
   "metadata": {},
   "outputs": [
    {
     "name": "stdout",
     "output_type": "stream",
     "text": [
      "Accuracy Score:  0.5019762845849802\n",
      "Confusion Matrix: \n",
      " [[  5 112]\n",
      " [ 14 122]]\n",
      "F1 Score:  0.6594594594594595\n",
      "Precision Score:  0.5213675213675214\n",
      "Recall score:  0.8970588235294118\n",
      "Area Under Curve score:  0.46989693313222725\n"
     ]
    }
   ],
   "source": [
    "forestEval = evaluate(cla, y_test, y_pred)\n",
    "printEval(cla, forestEval)"
   ]
  },
  {
   "cell_type": "markdown",
   "id": "e178edee",
   "metadata": {
    "jp-MarkdownHeadingCollapsed": true,
    "tags": []
   },
   "source": [
    "<h2>Logistic Regression</h2>"
   ]
  },
  {
   "cell_type": "code",
   "execution_count": 109,
   "id": "c0b32773",
   "metadata": {},
   "outputs": [
    {
     "name": "stderr",
     "output_type": "stream",
     "text": [
      "C:\\Users\\66931\\anaconda3\\lib\\site-packages\\sklearn\\utils\\validation.py:985: DataConversionWarning: A column-vector y was passed when a 1d array was expected. Please change the shape of y to (n_samples, ), for example using ravel().\n",
      "  y = column_or_1d(y, warn=True)\n"
     ]
    },
    {
     "data": {
      "text/plain": [
       "LogisticRegression()"
      ]
     },
     "execution_count": 109,
     "metadata": {},
     "output_type": "execute_result"
    }
   ],
   "source": [
    "# Logistic Regression Classifier: Create and Train the model\n",
    "logistic = LogisticRegression()\n",
    "logistic.fit(X_train, y_train)"
   ]
  },
  {
   "cell_type": "code",
   "execution_count": 110,
   "id": "89f3d1e6-c098-45f4-8fbd-98516054ff34",
   "metadata": {},
   "outputs": [
    {
     "data": {
      "text/plain": [
       "array([1, 0, 1, 0, 1, 0, 1, 1, 1, 1, 1, 0, 0, 0, 0, 0, 0, 1, 1, 0, 0, 1,\n",
       "       0, 0, 0, 0, 1, 1, 0, 0, 0, 0, 1, 0, 0, 1, 0, 0, 0, 1, 1, 0, 1, 1,\n",
       "       0, 0, 1, 1, 0, 1, 1, 1, 0, 0, 1, 0, 0, 0, 0, 0, 0, 1, 1, 1, 1, 0,\n",
       "       0, 0, 1, 1, 0, 0, 0, 1, 0, 0, 1, 1, 1, 1, 0, 0, 0, 1, 0, 1, 0, 1,\n",
       "       1, 0, 1, 0, 0, 1, 1, 1, 0, 1, 1, 1, 0, 0, 0, 0, 1, 0, 1, 0, 0, 0,\n",
       "       0, 0, 0, 1, 1, 0, 0, 0, 1, 0, 1, 0, 1, 1, 0, 1, 0, 0, 0, 1, 0, 0,\n",
       "       1, 1, 1, 0, 1, 1, 1, 0, 1, 1, 0, 0, 0, 1, 1, 1, 1, 1, 0, 0, 0, 1,\n",
       "       0, 1, 0, 1, 1, 1, 1, 0, 1, 1, 1, 1, 0, 0, 0, 1, 0, 1, 0, 1, 1, 1,\n",
       "       0, 0, 1, 1, 0, 1, 1, 1, 1, 0, 1, 0, 0, 1, 1, 0, 1, 0, 1, 1, 0, 1,\n",
       "       0, 1, 0, 0, 1, 0, 0, 1, 1, 1, 1, 0, 1, 1, 0, 0, 0, 0, 1, 0, 1, 0,\n",
       "       1, 1, 1, 0, 1, 0, 0, 1, 0, 1, 1, 0, 0, 0, 1, 1, 0, 1, 1, 0, 1, 0,\n",
       "       0, 0, 0, 0, 1, 1, 1, 1, 0, 1, 1], dtype=int64)"
      ]
     },
     "execution_count": 110,
     "metadata": {},
     "output_type": "execute_result"
    }
   ],
   "source": [
    "# Prediction\n",
    "y_pred = dtc.predict(X_test)  #Accuracy\n",
    "y_pred"
   ]
  },
  {
   "cell_type": "code",
   "execution_count": 111,
   "id": "2fd4bf1d-0e6f-4c94-9fd7-110ae77d4e68",
   "metadata": {},
   "outputs": [],
   "source": [
    "# Look at the actual y_test\n",
    "#y_test"
   ]
  },
  {
   "cell_type": "code",
   "execution_count": 112,
   "id": "5322a7aa-443d-4bf1-9391-e8e60214949d",
   "metadata": {},
   "outputs": [
    {
     "name": "stdout",
     "output_type": "stream",
     "text": [
      "Accuracy Score:  0.5098814229249012\n",
      "Confusion Matrix: \n",
      " [[60 57]\n",
      " [67 69]]\n",
      "F1 Score:  0.5267175572519084\n",
      "Precision Score:  0.5476190476190477\n",
      "Recall score:  0.5073529411764706\n",
      "Area Under Curve score:  0.5100867269984917\n"
     ]
    }
   ],
   "source": [
    "logisticEval = evaluate(cla, y_test, y_pred)\n",
    "printEval(cla, logisticEval)"
   ]
  },
  {
   "cell_type": "markdown",
   "id": "646c4bfb",
   "metadata": {
    "jp-MarkdownHeadingCollapsed": true,
    "tags": []
   },
   "source": [
    "<h2>XGBoost</h2>"
   ]
  },
  {
   "cell_type": "code",
   "execution_count": 113,
   "id": "90f8c9d9",
   "metadata": {},
   "outputs": [
    {
     "name": "stdout",
     "output_type": "stream",
     "text": [
      "[15:18:55] WARNING: C:/Users/Administrator/workspace/xgboost-win64_release_1.5.0/src/learner.cc:1115: Starting in XGBoost 1.3.0, the default evaluation metric used with the objective 'binary:logistic' was changed from 'error' to 'logloss'. Explicitly set eval_metric if you'd like to restore the old behavior.\n"
     ]
    },
    {
     "name": "stderr",
     "output_type": "stream",
     "text": [
      "C:\\Users\\66931\\anaconda3\\lib\\site-packages\\xgboost\\sklearn.py:1224: UserWarning: The use of label encoder in XGBClassifier is deprecated and will be removed in a future release. To remove this warning, do the following: 1) Pass option use_label_encoder=False when constructing XGBClassifier object; and 2) Encode your labels (y) as integers starting with 0, i.e. 0, 1, 2, ..., [num_class - 1].\n",
      "  warnings.warn(label_encoder_deprecation_msg, UserWarning)\n",
      "C:\\Users\\66931\\anaconda3\\lib\\site-packages\\sklearn\\preprocessing\\_label.py:98: DataConversionWarning: A column-vector y was passed when a 1d array was expected. Please change the shape of y to (n_samples, ), for example using ravel().\n",
      "  y = column_or_1d(y, warn=True)\n",
      "C:\\Users\\66931\\anaconda3\\lib\\site-packages\\sklearn\\preprocessing\\_label.py:133: DataConversionWarning: A column-vector y was passed when a 1d array was expected. Please change the shape of y to (n_samples, ), for example using ravel().\n",
      "  y = column_or_1d(y, warn=True)\n"
     ]
    },
    {
     "data": {
      "text/plain": [
       "XGBClassifier(base_score=0.5, booster='gbtree', colsample_bylevel=1,\n",
       "              colsample_bynode=1, colsample_bytree=1, enable_categorical=False,\n",
       "              gamma=0, gpu_id=-1, importance_type=None,\n",
       "              interaction_constraints='', learning_rate=0.300000012,\n",
       "              max_delta_step=0, max_depth=6, min_child_weight=1, missing=nan,\n",
       "              monotone_constraints='()', n_estimators=100, n_jobs=8,\n",
       "              num_parallel_tree=1, predictor='auto', random_state=0,\n",
       "              reg_alpha=0, reg_lambda=1, scale_pos_weight=1, subsample=1,\n",
       "              tree_method='exact', validate_parameters=1, verbosity=None)"
      ]
     },
     "execution_count": 113,
     "metadata": {},
     "output_type": "execute_result"
    }
   ],
   "source": [
    "from xgboost import XGBClassifier\n",
    "from numpy import loadtxt\n",
    "from sklearn.metrics import accuracy_score\n",
    "\n",
    "xgb = XGBClassifier()\n",
    "xgb.fit(X_train, y_train)"
   ]
  },
  {
   "cell_type": "code",
   "execution_count": 114,
   "id": "3c907476",
   "metadata": {},
   "outputs": [
    {
     "data": {
      "text/plain": [
       "array([0, 0, 0, 0, 1, 1, 1, 0, 1, 1, 1, 0, 0, 1, 1, 0, 0, 0, 1, 0, 1, 0,\n",
       "       0, 1, 0, 1, 0, 0, 0, 0, 1, 1, 1, 1, 0, 0, 0, 1, 1, 1, 1, 1, 1, 1,\n",
       "       1, 0, 1, 0, 1, 1, 0, 1, 0, 1, 1, 0, 0, 1, 0, 0, 1, 0, 0, 0, 1, 0,\n",
       "       1, 0, 1, 1, 0, 0, 1, 1, 0, 0, 0, 1, 1, 1, 1, 1, 1, 1, 0, 1, 1, 0,\n",
       "       0, 0, 1, 0, 1, 1, 1, 0, 0, 0, 1, 1, 1, 0, 1, 1, 1, 0, 1, 1, 0, 0,\n",
       "       1, 1, 0, 0, 0, 0, 0, 1, 1, 0, 1, 0, 1, 0, 1, 1, 1, 1, 0, 1, 0, 1,\n",
       "       0, 1, 1, 1, 1, 0, 1, 1, 0, 1, 1, 1, 0, 0, 1, 1, 0, 0, 0, 1, 1, 1,\n",
       "       1, 1, 0, 1, 0, 0, 0, 1, 1, 1, 1, 1, 1, 0, 1, 1, 0, 1, 0, 0, 1, 1,\n",
       "       0, 1, 1, 0, 1, 1, 1, 0, 1, 0, 1, 0, 1, 1, 1, 0, 0, 0, 0, 1, 0, 1,\n",
       "       0, 0, 0, 0, 0, 1, 0, 1, 1, 0, 0, 0, 0, 0, 1, 0, 1, 0, 1, 0, 1, 0,\n",
       "       1, 1, 0, 0, 1, 0, 0, 1, 0, 1, 1, 0, 1, 0, 1, 1, 0, 1, 0, 1, 0, 0,\n",
       "       0, 1, 0, 0, 0, 1, 0, 1, 0, 1, 0], dtype=int64)"
      ]
     },
     "execution_count": 114,
     "metadata": {},
     "output_type": "execute_result"
    }
   ],
   "source": [
    "y_pred = xgb.predict(X_test)  #Accuracy\n",
    "y_pred"
   ]
  },
  {
   "cell_type": "code",
   "execution_count": 115,
   "id": "bfd2f3bc",
   "metadata": {},
   "outputs": [],
   "source": [
    "#y_test"
   ]
  },
  {
   "cell_type": "code",
   "execution_count": 116,
   "id": "28af5783",
   "metadata": {},
   "outputs": [
    {
     "name": "stdout",
     "output_type": "stream",
     "text": [
      "Accuracy Score:  0.5217391304347826\n",
      "Confusion Matrix: \n",
      " [[58 59]\n",
      " [62 74]]\n",
      "F1 Score:  0.550185873605948\n",
      "Precision Score:  0.556390977443609\n",
      "Recall score:  0.5441176470588235\n",
      "Area Under Curve score:  0.5199220713926596\n"
     ]
    }
   ],
   "source": [
    "xgbEval = evaluate(cla, y_test, y_pred)\n",
    "printEval(cla, xgbEval)"
   ]
  },
  {
   "cell_type": "markdown",
   "id": "b8f089e0",
   "metadata": {
    "jp-MarkdownHeadingCollapsed": true,
    "tags": []
   },
   "source": [
    "<h2>Linear Regression</h2>"
   ]
  },
  {
   "cell_type": "code",
   "execution_count": 117,
   "id": "98c15c61",
   "metadata": {},
   "outputs": [
    {
     "data": {
      "text/plain": [
       "['RSI14',\n",
       " 'ADX',\n",
       " 'ADXR',\n",
       " 'BOP',\n",
       " 'CMO',\n",
       " 'DX',\n",
       " 'PLUS_DI',\n",
       " 'PPO',\n",
       " 'ROC',\n",
       " 'ROCR100',\n",
       " 'slowk',\n",
       " 'slowd',\n",
       " 'fastk',\n",
       " 'fastd',\n",
       " 'TRIX',\n",
       " 'ULTOSC',\n",
       " 'WILLR']"
      ]
     },
     "execution_count": 117,
     "metadata": {},
     "output_type": "execute_result"
    }
   ],
   "source": [
    "hsi_refeatures = selectFeatures(hsi_ti,'Re Target')\n",
    "hsi_refeatures.remove('Target')\n",
    "hsi_refeatures.remove('Close')\n",
    "hsi_refeatures"
   ]
  },
  {
   "cell_type": "code",
   "execution_count": 118,
   "id": "5215c93b",
   "metadata": {},
   "outputs": [],
   "source": [
    "from sklearn.model_selection import train_test_split\n",
    "X = hsi_ti.loc[:, hsi_refeatures].values\n",
    "#X = dji_ti.loc[:, ['CCI', 'DX', 'MINUS_DI', 'PLUS_DM', 'slowd']].values\n",
    "y = hsi_ti.loc[:, ['Re Target']].values\n",
    "X_train, X_test, y_train, y_test = train_test_split(X, y, test_size=0.2, random_state=0, shuffle=False)"
   ]
  },
  {
   "cell_type": "code",
   "execution_count": 119,
   "id": "461dd3c5",
   "metadata": {},
   "outputs": [],
   "source": [
    "from sklearn.preprocessing import StandardScaler\n",
    "sc = StandardScaler()\n",
    "X_train = sc.fit_transform(X_train)\n",
    "X_test = sc.transform(X_test)"
   ]
  },
  {
   "cell_type": "code",
   "execution_count": 121,
   "id": "7820b608",
   "metadata": {},
   "outputs": [
    {
     "data": {
      "text/plain": [
       "LinearRegression()"
      ]
     },
     "execution_count": 121,
     "metadata": {},
     "output_type": "execute_result"
    }
   ],
   "source": [
    "lr = LinearRegression()\n",
    "lr.fit(X_train, y_train)"
   ]
  },
  {
   "cell_type": "code",
   "execution_count": 122,
   "id": "2322a842",
   "metadata": {
    "collapsed": true,
    "jupyter": {
     "outputs_hidden": true
    },
    "tags": []
   },
   "outputs": [
    {
     "name": "stdout",
     "output_type": "stream",
     "text": [
      "[[27050.52758963]\n",
      " [27367.38696463]\n",
      " [27463.59008963]\n",
      " [27300.77758963]\n",
      " [27518.21508963]\n",
      " [27631.28540213]\n",
      " [27722.59008963]\n",
      " [27286.71508963]\n",
      " [27542.02758963]\n",
      " [27572.77758963]\n",
      " [27488.46508963]\n",
      " [27473.90258963]\n",
      " [27411.02758963]\n",
      " [27505.40258963]\n",
      " [27834.74633963]\n",
      " [27935.15258963]\n",
      " [27717.24633963]\n",
      " [27760.27758963]\n",
      " [27832.96508963]\n",
      " [27972.65258963]\n",
      " [27938.89477713]\n",
      " [28026.71508963]\n",
      " [28120.65258963]\n",
      " [27978.77758963]\n",
      " [28069.52758963]\n",
      " [28101.65258963]\n",
      " [28216.65258963]\n",
      " [28252.40258963]\n",
      " [28357.90258963]\n",
      " [28028.15258963]\n",
      " [28393.15258963]\n",
      " [28189.52758963]\n",
      " [28176.15258963]\n",
      " [28181.15258963]\n",
      " [28460.77758963]\n",
      " [28454.27758963]\n",
      " [28758.90258963]\n",
      " [28753.27758963]\n",
      " [29203.27758963]\n",
      " [29598.02758963]\n",
      " [29576.90258963]\n",
      " [29443.34008963]\n",
      " [29455.15258963]\n",
      " [29185.15258963]\n",
      " [29145.52758963]\n",
      " [29054.34008963]\n",
      " [28996.37133963]\n",
      " [29050.34008963]\n",
      " [28869.65258963]\n",
      " [28281.77758963]\n",
      " [28827.15258963]\n",
      " [28927.90258963]\n",
      " [29333.27758963]\n",
      " [29341.65258963]\n",
      " [29313.90258963]\n",
      " [29151.02758963]\n",
      " [29559.90258963]\n",
      " [29377.09008963]\n",
      " [29378.90258963]\n",
      " [29326.52758963]\n",
      " [29128.15258963]\n",
      " [28489.15258963]\n",
      " [28671.52758963]\n",
      " [28069.52758963]\n",
      " [28442.27758963]\n",
      " [28134.09008963]\n",
      " [28212.84008963]\n",
      " [27688.65258963]\n",
      " [27606.02758963]\n",
      " [27695.40258963]\n",
      " [27974.30883963]\n",
      " [27512.69946463]\n",
      " [27266.57446463]\n",
      " [27176.02758963]\n",
      " [27191.71508963]\n",
      " [27814.37915213]\n",
      " [27406.79126151]\n",
      " [27255.15258963]\n",
      " [26812.15258963]\n",
      " [26725.52758963]\n",
      " [26920.77758963]\n",
      " [27429.02758963]\n",
      " [27221.77758963]\n",
      " [27461.05883963]\n",
      " [27115.09008963]\n",
      " [27501.77758963]\n",
      " [27430.02758963]\n",
      " [27458.27758963]\n",
      " [27087.59008963]\n",
      " [27012.93383963]\n",
      " [26965.02758963]\n",
      " [27170.15258963]\n",
      " [27139.45727713]\n",
      " [27486.40258963]\n",
      " [27314.02758963]\n",
      " [27216.02758963]\n",
      " [26802.09399588]\n",
      " [26798.40258963]\n",
      " [27231.84008963]\n",
      " [27076.24633963]\n",
      " [27212.12133963]\n",
      " [27070.62133963]\n",
      " [27103.40258963]\n",
      " [26759.12329276]\n",
      " [26391.15258963]\n",
      " [26206.65258963]\n",
      " [26462.52758963]\n",
      " [26533.90258963]\n",
      " [26344.09008963]\n",
      " [26080.29321463]\n",
      " [26051.40258963]\n",
      " [26075.52758963]\n",
      " [25482.77758963]\n",
      " [25843.52758963]\n",
      " [26065.21508963]\n",
      " [26596.15258963]\n",
      " [26596.27758963]\n",
      " [26692.40258963]\n",
      " [26597.52758963]\n",
      " [27266.90258963]\n",
      " [27234.77758963]\n",
      " [27296.15258963]\n",
      " [27095.40258963]\n",
      " [27099.52758963]\n",
      " [27365.40258963]\n",
      " [27155.02758963]\n",
      " [27102.63696463]\n",
      " [27109.09008963]\n",
      " [26901.77758963]\n",
      " [26883.52758963]\n",
      " [26778.52758963]\n",
      " [26474.90258963]\n",
      " [26360.71508963]\n",
      " [26368.27758963]\n",
      " [26045.27758963]\n",
      " [26307.02758963]\n",
      " [26647.09008963]\n",
      " [26569.76587088]\n",
      " [26229.87133963]\n",
      " [26579.68383963]\n",
      " [26902.65258963]\n",
      " [27119.40258963]\n",
      " [26595.40258963]\n",
      " [26692.40258963]\n",
      " [26463.07446463]\n",
      " [26197.27758963]\n",
      " [26074.90258963]\n",
      " [26302.90258963]\n",
      " [26506.52758963]\n",
      " [26037.15258963]\n",
      " [26315.40258963]\n",
      " [26228.77758963]\n",
      " [26504.82446463]\n",
      " [26342.40258963]\n",
      " [26476.90258963]\n",
      " [26291.52758963]\n",
      " [26015.38696463]\n",
      " [25760.71508963]\n",
      " [25803.52758963]\n",
      " [26544.15258963]\n",
      " [26185.46508963]\n",
      " [25508.34008963]\n",
      " [25174.65258963]\n",
      " [25235.90258963]\n",
      " [25456.40258963]\n",
      " [25296.27758963]\n",
      " [25458.90258963]\n",
      " [25509.90258963]\n",
      " [25804.65258963]\n",
      " [25550.34008963]\n",
      " [25429.68383963]\n",
      " [25753.67212088]\n",
      " [26280.46508963]\n",
      " [26137.65258963]\n",
      " [26009.40258963]\n",
      " [26107.46508963]\n",
      " [25850.87133963]\n",
      " [25218.90258963]\n",
      " [25053.52758963]\n",
      " [24794.02758963]\n",
      " [24764.65258963]\n",
      " [24785.77758963]\n",
      " [24985.09008963]\n",
      " [24967.27758963]\n",
      " [24916.21508963]\n",
      " [24795.85571463]\n",
      " [24797.52758963]\n",
      " [25338.15258963]\n",
      " [25617.21508963]\n",
      " [25697.40258963]\n",
      " [25861.40258963]\n",
      " [26030.90258963]\n",
      " [25992.40258963]\n",
      " [25814.27758963]\n",
      " [25319.79809744]\n",
      " [25611.02758963]\n",
      " [25207.52758963]\n",
      " [25022.27758963]\n",
      " [24565.02758963]\n",
      " [24689.40258963]\n",
      " [24960.40258963]\n",
      " [24561.02758963]\n",
      " [24539.02758963]\n",
      " [24719.15258963]\n",
      " [24624.46508963]\n",
      " [24430.65258963]\n",
      " [24455.59008963]\n",
      " [24484.96508963]\n",
      " [24826.96508963]\n",
      " [24209.30883963]\n",
      " [24191.87133963]\n",
      " [24459.90258963]\n",
      " [25249.45337088]\n",
      " [25372.59008963]\n",
      " [25559.77758963]\n",
      " [25271.90258963]\n",
      " [25540.40258963]\n",
      " [25649.77758963]\n",
      " [25994.15258963]\n",
      " [26110.90258963]\n",
      " [26187.40258963]\n",
      " [26352.65258963]\n",
      " [26563.02758963]\n",
      " [26334.65258963]\n",
      " [26113.59008963]\n",
      " [26163.40258963]\n",
      " [25771.15258963]\n",
      " [25691.15258963]\n",
      " [25516.27758963]\n",
      " [25518.52758963]\n",
      " [25642.27758963]\n",
      " [25383.02758963]\n",
      " [25440.90258963]\n",
      " [25325.65258963]\n",
      " [25672.96508963]\n",
      " [26128.84008963]\n",
      " [26031.77758963]\n",
      " [26114.15258963]\n",
      " [26418.02758963]\n",
      " [26488.02758963]\n",
      " [26333.96508963]\n",
      " [26205.43383963]\n",
      " [25994.65258963]\n",
      " [25950.65258963]\n",
      " [25829.02758963]\n",
      " [25866.52758963]\n",
      " [25576.52758963]\n",
      " [25669.77758963]\n",
      " [25517.65258963]\n",
      " [25349.02758963]\n",
      " [25609.65258963]\n",
      " [25717.59008963]\n",
      " [25234.90258963]]\n"
     ]
    }
   ],
   "source": [
    "y_pred = lr.predict(X_test)\n",
    "print(y_pred)"
   ]
  },
  {
   "cell_type": "code",
   "execution_count": 123,
   "id": "c5ac7844",
   "metadata": {},
   "outputs": [],
   "source": [
    "dframe = pd.DataFrame({'Actual':y_test.flatten(),'predicted':y_pred.flatten()})"
   ]
  },
  {
   "cell_type": "code",
   "execution_count": 124,
   "id": "267cc5cf-2a1c-4200-a693-84b8b9fc0996",
   "metadata": {},
   "outputs": [
    {
     "name": "stdout",
     "output_type": "stream",
     "text": [
      "Slope: [[-1.20989928e+15  1.72604355e+02 -6.21060748e+01  6.57762928e+01\n",
      "   1.20989928e+15 -1.65061886e+02  2.59533577e+02  4.39622726e+02\n",
      "  -2.75315388e+16  2.75315388e+16  6.88957242e+14 -1.45352447e+02\n",
      "   4.97209906e+01 -6.88957242e+14  1.05348560e+03  3.74876068e+02\n",
      "   3.04333642e+02]]\n",
      "Intercept: [26686.40258963]\n"
     ]
    }
   ],
   "source": [
    "print('Slope:', lr.coef_)\n",
    "print('Intercept:', lr.intercept_)"
   ]
  },
  {
   "cell_type": "code",
   "execution_count": 125,
   "id": "ac0d594f-53f7-44da-aab8-ebaa2e92dc5e",
   "metadata": {
    "tags": []
   },
   "outputs": [
    {
     "data": {
      "image/png": "[encoded data removed]",
      "text/plain": [
       "<Figure size 936x432 with 1 Axes>"
      ]
     },
     "metadata": {
      "needs_background": "light"
     },
     "output_type": "display_data"
    }
   ],
   "source": [
    "plotReg('Heng Seng Index 180 days', hsi.index, hsi[['Future Close']], hsi_ti.iloc[-180:], hsi_refeatures, lr)"
   ]
  },
  {
   "cell_type": "code",
   "execution_count": 126,
   "id": "91c7449c",
   "metadata": {},
   "outputs": [
    {
     "name": "stdout",
     "output_type": "stream",
     "text": [
      "Mean Squared Error:  1305.1343348210528\n",
      "Adjusted R squared 0.48220814010251234\n"
     ]
    }
   ],
   "source": [
    "lrEval = evaluate(reg, y_test, y_pred)\n",
    "printEval(reg, lrEval)"
   ]
  },
  {
   "cell_type": "markdown",
   "id": "9c917da6",
   "metadata": {
    "tags": []
   },
   "source": [
    "<h2>Polynomial Regression</h2>"
   ]
  },
  {
   "cell_type": "code",
   "execution_count": 127,
   "id": "04c862c6",
   "metadata": {},
   "outputs": [
    {
     "data": {
      "text/plain": [
       "Pipeline(steps=[('polynomialfeatures', PolynomialFeatures()),\n",
       "                ('linearregression', LinearRegression())])"
      ]
     },
     "execution_count": 127,
     "metadata": {},
     "output_type": "execute_result"
    }
   ],
   "source": [
    "from sklearn.preprocessing import PolynomialFeatures\n",
    "from sklearn.pipeline import make_pipeline\n",
    "from sklearn.linear_model import LinearRegression\n",
    "degree=2\n",
    "pr=make_pipeline(PolynomialFeatures(degree),LinearRegression())\n",
    "pr.fit(X_train,y_train)"
   ]
  },
  {
   "cell_type": "code",
   "execution_count": 128,
   "id": "6cda6d1e",
   "metadata": {
    "tags": []
   },
   "outputs": [
    {
     "data": {
      "text/plain": [
       "array([[25020.53839111],\n",
       "       [23989.86651611],\n",
       "       [23861.22589111],\n",
       "       [25760.59307861],\n",
       "       [26168.91339111],\n",
       "       [26820.16339111],\n",
       "       [25555.57745361],\n",
       "       [24486.65948486],\n",
       "       [26030.08526611],\n",
       "       [25682.91339111],\n",
       "       [24436.30401611],\n",
       "       [23563.66339111],\n",
       "       [24601.55401611],\n",
       "       [25893.88214111],\n",
       "       [27505.34307861],\n",
       "       [27141.39776611],\n",
       "       [26645.35870361],\n",
       "       [27920.85089111],\n",
       "       [27811.60089111],\n",
       "       [26405.85479736],\n",
       "       [27789.16339111],\n",
       "       [29812.10089111],\n",
       "       [28339.72589111],\n",
       "       [27378.28839111],\n",
       "       [26299.16339111],\n",
       "       [26487.78839111],\n",
       "       [26137.16339111],\n",
       "       [26911.66339111],\n",
       "       [27217.03839111],\n",
       "       [27831.28839111],\n",
       "       [28237.78839111],\n",
       "       [29259.53839111],\n",
       "       [29598.28839111],\n",
       "       [30339.78839111],\n",
       "       [31288.28839111],\n",
       "       [33038.28839111],\n",
       "       [34596.78839111],\n",
       "       [34725.28839111],\n",
       "       [34000.28839111],\n",
       "       [33252.28839111],\n",
       "       [33772.78839111],\n",
       "       [31142.78839111],\n",
       "       [27114.03839111],\n",
       "       [26606.85089111],\n",
       "       [29504.78839111],\n",
       "       [30456.72589111],\n",
       "       [29557.35089111],\n",
       "       [29877.53839111],\n",
       "       [30002.03839111],\n",
       "       [30010.47589111],\n",
       "       [31969.07745361],\n",
       "       [33296.72589111],\n",
       "       [35251.53839111],\n",
       "       [34832.28839111],\n",
       "       [33816.03839111],\n",
       "       [35006.35089111],\n",
       "       [33250.53839111],\n",
       "       [33749.50714111],\n",
       "       [31416.91339111],\n",
       "       [31126.83526611],\n",
       "       [29130.86651611],\n",
       "       [28001.22589111],\n",
       "       [28306.44464111],\n",
       "       [27863.91339111],\n",
       "       [28245.03839111],\n",
       "       [26652.47589111],\n",
       "       [26641.67901611],\n",
       "       [25529.03839111],\n",
       "       [24234.69464111],\n",
       "       [24170.85089111],\n",
       "       [24215.63995361],\n",
       "       [23433.35089111],\n",
       "       [23082.75714111],\n",
       "       [22732.63214111],\n",
       "       [23051.53839111],\n",
       "       [24938.64776611],\n",
       "       [23494.66339111],\n",
       "       [24424.44464111],\n",
       "       [22581.19464111],\n",
       "       [23854.66339111],\n",
       "       [25450.19464111],\n",
       "       [26262.77276611],\n",
       "       [26227.16339111],\n",
       "       [25618.52276611],\n",
       "       [25144.47589111],\n",
       "       [25860.39776611],\n",
       "       [25755.03839111],\n",
       "       [26149.77276611],\n",
       "       [25932.33331299],\n",
       "       [26517.67901611],\n",
       "       [26011.33526611],\n",
       "       [26220.76495361],\n",
       "       [27697.40557861],\n",
       "       [28067.71807861],\n",
       "       [28695.10870361],\n",
       "       [28754.00714111],\n",
       "       [28358.16339111],\n",
       "       [28249.76495361],\n",
       "       [28318.3225708 ],\n",
       "       [28219.08526611],\n",
       "       [28624.01885986],\n",
       "       [28037.24932861],\n",
       "       [28411.47589111],\n",
       "       [27768.38214111],\n",
       "       [27165.60089111],\n",
       "       [27887.71026611],\n",
       "       [26830.44854736],\n",
       "       [27464.43682861],\n",
       "       [27098.38214111],\n",
       "       [27050.47589111],\n",
       "       [26080.53839111],\n",
       "       [26276.16339111],\n",
       "       [26898.53839111],\n",
       "       [27006.25714111],\n",
       "       [24167.92120361],\n",
       "       [27343.46710205],\n",
       "       [27098.41339111],\n",
       "       [25994.06964111],\n",
       "       [26552.22589111],\n",
       "       [25171.94464111],\n",
       "       [25637.92901611],\n",
       "       [25740.97589111],\n",
       "       [26651.60089111],\n",
       "       [26438.11651611],\n",
       "       [25718.78839111],\n",
       "       [25417.42901611],\n",
       "       [26951.08526611],\n",
       "       [27878.69464111],\n",
       "       [28017.31964111],\n",
       "       [27482.14776611],\n",
       "       [28007.70245361],\n",
       "       [27898.41339111],\n",
       "       [27186.65557861],\n",
       "       [26267.19464111],\n",
       "       [26750.47589111],\n",
       "       [26815.99151611],\n",
       "       [26539.04620361],\n",
       "       [25643.31964111],\n",
       "       [25415.03839111],\n",
       "       [26665.27276611],\n",
       "       [26415.53057861],\n",
       "       [26696.06964111],\n",
       "       [26646.28839111],\n",
       "       [27585.97589111],\n",
       "       [28707.17901611],\n",
       "       [26570.53839111],\n",
       "       [26028.74151611],\n",
       "       [26516.75714111],\n",
       "       [26661.55010986],\n",
       "       [26085.28839111],\n",
       "       [25926.91339111],\n",
       "       [25707.16339111],\n",
       "       [25888.56964111],\n",
       "       [25060.53839111],\n",
       "       [25689.85089111],\n",
       "       [24398.88214111],\n",
       "       [26222.53839111],\n",
       "       [25080.41339111],\n",
       "       [25826.47589111],\n",
       "       [25808.75714111],\n",
       "       [25883.60089111],\n",
       "       [25050.78839111],\n",
       "       [23314.28839111],\n",
       "       [25171.53839111],\n",
       "       [24157.66339111],\n",
       "       [24833.66339111],\n",
       "       [25606.97589111],\n",
       "       [25917.78839111],\n",
       "       [26126.86651611],\n",
       "       [24751.03839111],\n",
       "       [25269.53839111],\n",
       "       [25872.28057861],\n",
       "       [24316.78839111],\n",
       "       [25940.60089111],\n",
       "       [26698.44464111],\n",
       "       [26937.64776611],\n",
       "       [26213.55401611],\n",
       "       [26436.00714111],\n",
       "       [26803.00714111],\n",
       "       [27293.41339111],\n",
       "       [27513.41339111],\n",
       "       [27202.03839111],\n",
       "       [27942.80401611],\n",
       "       [27430.85089111],\n",
       "       [26852.53839111],\n",
       "       [25961.56964111],\n",
       "       [26631.58526611],\n",
       "       [26877.24151611],\n",
       "       [26222.85089111],\n",
       "       [27134.06964111],\n",
       "       [27265.91339111],\n",
       "       [27230.91339111],\n",
       "       [25428.94464111],\n",
       "       [25731.85089111],\n",
       "       [26874.88214111],\n",
       "       [27919.49151611],\n",
       "       [28067.61651611],\n",
       "       [27350.71026611],\n",
       "       [27567.03839111],\n",
       "       [27877.16339111],\n",
       "       [28514.69464111],\n",
       "       [27999.03839111],\n",
       "       [28310.91339111],\n",
       "       [26570.16339111],\n",
       "       [26662.41339111],\n",
       "       [27013.16339111],\n",
       "       [26831.60089111],\n",
       "       [27475.59307861],\n",
       "       [26683.70245361],\n",
       "       [27121.60089111],\n",
       "       [26466.31964111],\n",
       "       [27473.47589111],\n",
       "       [26584.96026611],\n",
       "       [25958.56964111],\n",
       "       [27578.52276611],\n",
       "       [27473.78839111],\n",
       "       [27721.75714111],\n",
       "       [27695.91339111],\n",
       "       [26150.16339111],\n",
       "       [25731.03839111],\n",
       "       [27125.22589111],\n",
       "       [27327.28839111],\n",
       "       [27454.53839111],\n",
       "       [27633.16339111],\n",
       "       [25512.82745361],\n",
       "       [27504.10089111],\n",
       "       [28005.47589111],\n",
       "       [28456.91339111],\n",
       "       [26048.11651611],\n",
       "       [26459.63214111],\n",
       "       [26935.25714111],\n",
       "       [26615.60089111],\n",
       "       [26562.60089111],\n",
       "       [26802.03839111],\n",
       "       [26501.28839111],\n",
       "       [24668.17120361],\n",
       "       [25528.13214111],\n",
       "       [27763.46026611],\n",
       "       [26795.72589111],\n",
       "       [26342.72589111],\n",
       "       [26673.49737549],\n",
       "       [27559.80596924],\n",
       "       [27930.80401611],\n",
       "       [25931.80401611],\n",
       "       [26444.60089111],\n",
       "       [26554.85089111],\n",
       "       [26945.78839111],\n",
       "       [26403.53839111],\n",
       "       [25524.78839111],\n",
       "       [26621.53839111],\n",
       "       [27456.35089111],\n",
       "       [25838.66339111],\n",
       "       [26596.16339111]])"
      ]
     },
     "execution_count": 128,
     "metadata": {},
     "output_type": "execute_result"
    }
   ],
   "source": [
    "y_pred = pr.predict(X_test)  #Accuracy\n",
    "y_pred"
   ]
  },
  {
   "cell_type": "code",
   "execution_count": 129,
   "id": "39b0cd37-1b8e-4fb4-838d-8588d2335b77",
   "metadata": {},
   "outputs": [
    {
     "data": {
      "image/png": "[encoded data removed]",
      "text/plain": [
       "<Figure size 936x432 with 1 Axes>"
      ]
     },
     "metadata": {
      "needs_background": "light"
     },
     "output_type": "display_data"
    }
   ],
   "source": [
    "plotReg('Heng Seng Index 180 days', hsi.index, hsi[['Future Close']], hsi_ti.iloc[-180:], hsi_refeatures, pr)"
   ]
  },
  {
   "cell_type": "code",
   "execution_count": 130,
   "id": "609edd86",
   "metadata": {},
   "outputs": [
    {
     "name": "stdout",
     "output_type": "stream",
     "text": [
      "Mean Squared Error:  2324.995824531837\n",
      "Adjusted R squared -0.6431951454472034\n"
     ]
    }
   ],
   "source": [
    "gsEval = evaluate(reg, y_test, y_pred)\n",
    "printEval(reg, gsEval)"
   ]
  },
  {
   "cell_type": "code",
   "execution_count": 131,
   "metadata": {},
   "outputs": [],
   "source": [
    "list_dctEval.append(dctEval)\n",
    "list_forestEval.append(forestEval)\n",
    "list_logisticEval.append(logisticEval)\n",
    "list_xgbEval.append(xgbEval)"
   ]
  },
  {
   "cell_type": "code",
   "execution_count": 178,
   "id": "aefdd785",
   "metadata": {},
   "outputs": [
    {
     "name": "stdout",
     "output_type": "stream",
     "text": [
      "[1, 0, 1, 0, 0, 1]\n",
      "[0, 1, 0, 0, 1]\n",
      "The model suggests that you should buy\n"
     ]
    }
   ],
   "source": [
    "finalPredict(hsi_target, hsi_features,hsi_refeatures, dctEval, forestEval, logisticEval, xgbEval, lrEval, prEval)\n"
   ]
  },
  {
   "cell_type": "markdown",
   "id": "0d9a43c2",
   "metadata": {
    "jp-MarkdownHeadingCollapsed": true,
    "tags": []
   },
   "source": [
    "<h1>SSE Composite Index</h1>"
   ]
  },
  {
   "cell_type": "markdown",
   "id": "c4626a9a",
   "metadata": {
    "jp-MarkdownHeadingCollapsed": true,
    "tags": []
   },
   "source": [
    "<h2>Feature Selection</h2>"
   ]
  },
  {
   "cell_type": "code",
   "execution_count": 133,
   "id": "5f23b706",
   "metadata": {},
   "outputs": [
    {
     "data": {
      "text/html": [
       "<div>\n",
       "<style scoped>\n",
       "    .dataframe tbody tr th:only-of-type {\n",
       "        vertical-align: middle;\n",
       "    }\n",
       "\n",
       "    .dataframe tbody tr th {\n",
       "        vertical-align: top;\n",
       "    }\n",
       "\n",
       "    .dataframe thead th {\n",
       "        text-align: right;\n",
       "    }\n",
       "</style>\n",
       "<table border=\"1\" class=\"dataframe\">\n",
       "  <thead>\n",
       "    <tr style=\"text-align: right;\">\n",
       "      <th></th>\n",
       "      <th>High</th>\n",
       "      <th>Low</th>\n",
       "      <th>Open</th>\n",
       "      <th>Close</th>\n",
       "      <th>Volume</th>\n",
       "      <th>Adj Close</th>\n",
       "      <th>Future Close</th>\n",
       "    </tr>\n",
       "    <tr>\n",
       "      <th>Date</th>\n",
       "      <th></th>\n",
       "      <th></th>\n",
       "      <th></th>\n",
       "      <th></th>\n",
       "      <th></th>\n",
       "      <th></th>\n",
       "      <th></th>\n",
       "    </tr>\n",
       "  </thead>\n",
       "  <tbody>\n",
       "    <tr>\n",
       "      <th>2016-01-04</th>\n",
       "      <td>3538.688965</td>\n",
       "      <td>3295.740967</td>\n",
       "      <td>3536.589111</td>\n",
       "      <td>3296.258057</td>\n",
       "      <td>184400</td>\n",
       "      <td>3296.258057</td>\n",
       "      <td>3287.710938</td>\n",
       "    </tr>\n",
       "    <tr>\n",
       "      <th>2016-01-05</th>\n",
       "      <td>3328.138916</td>\n",
       "      <td>3189.604980</td>\n",
       "      <td>3196.650879</td>\n",
       "      <td>3287.710938</td>\n",
       "      <td>266900</td>\n",
       "      <td>3287.710938</td>\n",
       "      <td>3361.840088</td>\n",
       "    </tr>\n",
       "    <tr>\n",
       "      <th>2016-01-06</th>\n",
       "      <td>3362.974121</td>\n",
       "      <td>3288.933105</td>\n",
       "      <td>3291.195068</td>\n",
       "      <td>3361.840088</td>\n",
       "      <td>238900</td>\n",
       "      <td>3361.840088</td>\n",
       "      <td>3125.001953</td>\n",
       "    </tr>\n",
       "    <tr>\n",
       "      <th>2016-01-07</th>\n",
       "      <td>3309.656982</td>\n",
       "      <td>3115.885010</td>\n",
       "      <td>3309.656982</td>\n",
       "      <td>3125.001953</td>\n",
       "      <td>70600</td>\n",
       "      <td>3125.001953</td>\n",
       "      <td>3186.412109</td>\n",
       "    </tr>\n",
       "    <tr>\n",
       "      <th>2016-01-08</th>\n",
       "      <td>3235.450928</td>\n",
       "      <td>3056.877930</td>\n",
       "      <td>3194.625000</td>\n",
       "      <td>3186.412109</td>\n",
       "      <td>286400</td>\n",
       "      <td>3186.412109</td>\n",
       "      <td>3016.704102</td>\n",
       "    </tr>\n",
       "    <tr>\n",
       "      <th>...</th>\n",
       "      <td>...</td>\n",
       "      <td>...</td>\n",
       "      <td>...</td>\n",
       "      <td>...</td>\n",
       "      <td>...</td>\n",
       "      <td>...</td>\n",
       "      <td>...</td>\n",
       "    </tr>\n",
       "    <tr>\n",
       "      <th>2021-12-01</th>\n",
       "      <td>3576.889893</td>\n",
       "      <td>3558.689941</td>\n",
       "      <td>3561.889893</td>\n",
       "      <td>3576.889893</td>\n",
       "      <td>329900</td>\n",
       "      <td>3576.889893</td>\n",
       "      <td>3573.840088</td>\n",
       "    </tr>\n",
       "    <tr>\n",
       "      <th>2021-12-02</th>\n",
       "      <td>3586.870117</td>\n",
       "      <td>3567.139893</td>\n",
       "      <td>3573.250000</td>\n",
       "      <td>3573.840088</td>\n",
       "      <td>354000</td>\n",
       "      <td>3573.840088</td>\n",
       "      <td>3607.429932</td>\n",
       "    </tr>\n",
       "    <tr>\n",
       "      <th>2021-12-03</th>\n",
       "      <td>3608.469971</td>\n",
       "      <td>3573.209961</td>\n",
       "      <td>3576.449951</td>\n",
       "      <td>3607.429932</td>\n",
       "      <td>377600</td>\n",
       "      <td>3607.429932</td>\n",
       "      <td>3589.310059</td>\n",
       "    </tr>\n",
       "    <tr>\n",
       "      <th>2021-12-06</th>\n",
       "      <td>3626.129883</td>\n",
       "      <td>3586.810059</td>\n",
       "      <td>3615.239990</td>\n",
       "      <td>3589.310059</td>\n",
       "      <td>418700</td>\n",
       "      <td>3589.310059</td>\n",
       "      <td>3595.088135</td>\n",
       "    </tr>\n",
       "    <tr>\n",
       "      <th>2021-12-07</th>\n",
       "      <td>3614.222900</td>\n",
       "      <td>3572.568848</td>\n",
       "      <td>3611.217041</td>\n",
       "      <td>3595.088135</td>\n",
       "      <td>1729553736</td>\n",
       "      <td>3595.088135</td>\n",
       "      <td>NaN</td>\n",
       "    </tr>\n",
       "  </tbody>\n",
       "</table>\n",
       "<p>1441 rows × 7 columns</p>\n",
       "</div>"
      ],
      "text/plain": [
       "                   High          Low         Open        Close      Volume  \\\n",
       "Date                                                                         \n",
       "2016-01-04  3538.688965  3295.740967  3536.589111  3296.258057      184400   \n",
       "2016-01-05  3328.138916  3189.604980  3196.650879  3287.710938      266900   \n",
       "2016-01-06  3362.974121  3288.933105  3291.195068  3361.840088      238900   \n",
       "2016-01-07  3309.656982  3115.885010  3309.656982  3125.001953       70600   \n",
       "2016-01-08  3235.450928  3056.877930  3194.625000  3186.412109      286400   \n",
       "...                 ...          ...          ...          ...         ...   \n",
       "2021-12-01  3576.889893  3558.689941  3561.889893  3576.889893      329900   \n",
       "2021-12-02  3586.870117  3567.139893  3573.250000  3573.840088      354000   \n",
       "2021-12-03  3608.469971  3573.209961  3576.449951  3607.429932      377600   \n",
       "2021-12-06  3626.129883  3586.810059  3615.239990  3589.310059      418700   \n",
       "2021-12-07  3614.222900  3572.568848  3611.217041  3595.088135  1729553736   \n",
       "\n",
       "              Adj Close  Future Close  \n",
       "Date                                   \n",
       "2016-01-04  3296.258057   3287.710938  \n",
       "2016-01-05  3287.710938   3361.840088  \n",
       "2016-01-06  3361.840088   3125.001953  \n",
       "2016-01-07  3125.001953   3186.412109  \n",
       "2016-01-08  3186.412109   3016.704102  \n",
       "...                 ...           ...  \n",
       "2021-12-01  3576.889893   3573.840088  \n",
       "2021-12-02  3573.840088   3607.429932  \n",
       "2021-12-03  3607.429932   3589.310059  \n",
       "2021-12-06  3589.310059   3595.088135  \n",
       "2021-12-07  3595.088135           NaN  \n",
       "\n",
       "[1441 rows x 7 columns]"
      ]
     },
     "execution_count": 133,
     "metadata": {},
     "output_type": "execute_result"
    }
   ],
   "source": [
    "sse['Future Close'] = sse['Close'].shift(-1)\n",
    "sse"
   ]
  },
  {
   "cell_type": "code",
   "execution_count": 134,
   "id": "027468fc",
   "metadata": {},
   "outputs": [],
   "source": [
    "target = computeTarget(sse['Close'], sse['Future Close'])\n",
    "\n",
    "sse['Target'] = target"
   ]
  },
  {
   "cell_type": "code",
   "execution_count": 135,
   "id": "2e76144d",
   "metadata": {},
   "outputs": [],
   "source": [
    "close = sse['Close']\n",
    "high = sse['High']\n",
    "low = sse['Low']\n",
    "open = sse['Open']\n",
    "volume  = sse['Volume']"
   ]
  },
  {
   "cell_type": "code",
   "execution_count": 136,
   "id": "9b49adb7",
   "metadata": {},
   "outputs": [
    {
     "data": {
      "text/html": [
       "<div>\n",
       "<style scoped>\n",
       "    .dataframe tbody tr th:only-of-type {\n",
       "        vertical-align: middle;\n",
       "    }\n",
       "\n",
       "    .dataframe tbody tr th {\n",
       "        vertical-align: top;\n",
       "    }\n",
       "\n",
       "    .dataframe thead th {\n",
       "        text-align: right;\n",
       "    }\n",
       "</style>\n",
       "<table border=\"1\" class=\"dataframe\">\n",
       "  <thead>\n",
       "    <tr style=\"text-align: right;\">\n",
       "      <th></th>\n",
       "      <th>SMA20</th>\n",
       "      <th>SMA50</th>\n",
       "      <th>SMA200</th>\n",
       "      <th>EMA</th>\n",
       "      <th>OBV</th>\n",
       "      <th>RSI14</th>\n",
       "      <th>ADX</th>\n",
       "      <th>ADXR</th>\n",
       "      <th>aroondown</th>\n",
       "      <th>aroonup</th>\n",
       "      <th>...</th>\n",
       "      <th>slowk</th>\n",
       "      <th>slowd</th>\n",
       "      <th>fastk</th>\n",
       "      <th>fastd</th>\n",
       "      <th>TRIX</th>\n",
       "      <th>ULTOSC</th>\n",
       "      <th>WILLR</th>\n",
       "      <th>Target</th>\n",
       "      <th>Close</th>\n",
       "      <th>Re Target</th>\n",
       "    </tr>\n",
       "    <tr>\n",
       "      <th>Date</th>\n",
       "      <th></th>\n",
       "      <th></th>\n",
       "      <th></th>\n",
       "      <th></th>\n",
       "      <th></th>\n",
       "      <th></th>\n",
       "      <th></th>\n",
       "      <th></th>\n",
       "      <th></th>\n",
       "      <th></th>\n",
       "      <th></th>\n",
       "      <th></th>\n",
       "      <th></th>\n",
       "      <th></th>\n",
       "      <th></th>\n",
       "      <th></th>\n",
       "      <th></th>\n",
       "      <th></th>\n",
       "      <th></th>\n",
       "      <th></th>\n",
       "      <th></th>\n",
       "    </tr>\n",
       "  </thead>\n",
       "  <tbody>\n",
       "    <tr>\n",
       "      <th>2016-01-04</th>\n",
       "      <td>NaN</td>\n",
       "      <td>NaN</td>\n",
       "      <td>NaN</td>\n",
       "      <td>NaN</td>\n",
       "      <td>1.844000e+05</td>\n",
       "      <td>NaN</td>\n",
       "      <td>NaN</td>\n",
       "      <td>NaN</td>\n",
       "      <td>NaN</td>\n",
       "      <td>NaN</td>\n",
       "      <td>...</td>\n",
       "      <td>NaN</td>\n",
       "      <td>NaN</td>\n",
       "      <td>NaN</td>\n",
       "      <td>NaN</td>\n",
       "      <td>NaN</td>\n",
       "      <td>NaN</td>\n",
       "      <td>NaN</td>\n",
       "      <td>0</td>\n",
       "      <td>3296.258057</td>\n",
       "      <td>3287.710938</td>\n",
       "    </tr>\n",
       "    <tr>\n",
       "      <th>2016-01-05</th>\n",
       "      <td>NaN</td>\n",
       "      <td>NaN</td>\n",
       "      <td>NaN</td>\n",
       "      <td>NaN</td>\n",
       "      <td>-8.250000e+04</td>\n",
       "      <td>NaN</td>\n",
       "      <td>NaN</td>\n",
       "      <td>NaN</td>\n",
       "      <td>NaN</td>\n",
       "      <td>NaN</td>\n",
       "      <td>...</td>\n",
       "      <td>NaN</td>\n",
       "      <td>NaN</td>\n",
       "      <td>NaN</td>\n",
       "      <td>NaN</td>\n",
       "      <td>NaN</td>\n",
       "      <td>NaN</td>\n",
       "      <td>NaN</td>\n",
       "      <td>1</td>\n",
       "      <td>3287.710938</td>\n",
       "      <td>3361.840088</td>\n",
       "    </tr>\n",
       "    <tr>\n",
       "      <th>2016-01-06</th>\n",
       "      <td>NaN</td>\n",
       "      <td>NaN</td>\n",
       "      <td>NaN</td>\n",
       "      <td>NaN</td>\n",
       "      <td>1.564000e+05</td>\n",
       "      <td>NaN</td>\n",
       "      <td>NaN</td>\n",
       "      <td>NaN</td>\n",
       "      <td>NaN</td>\n",
       "      <td>NaN</td>\n",
       "      <td>...</td>\n",
       "      <td>NaN</td>\n",
       "      <td>NaN</td>\n",
       "      <td>NaN</td>\n",
       "      <td>NaN</td>\n",
       "      <td>NaN</td>\n",
       "      <td>NaN</td>\n",
       "      <td>NaN</td>\n",
       "      <td>0</td>\n",
       "      <td>3361.840088</td>\n",
       "      <td>3125.001953</td>\n",
       "    </tr>\n",
       "    <tr>\n",
       "      <th>2016-01-07</th>\n",
       "      <td>NaN</td>\n",
       "      <td>NaN</td>\n",
       "      <td>NaN</td>\n",
       "      <td>NaN</td>\n",
       "      <td>8.580000e+04</td>\n",
       "      <td>NaN</td>\n",
       "      <td>NaN</td>\n",
       "      <td>NaN</td>\n",
       "      <td>NaN</td>\n",
       "      <td>NaN</td>\n",
       "      <td>...</td>\n",
       "      <td>NaN</td>\n",
       "      <td>NaN</td>\n",
       "      <td>NaN</td>\n",
       "      <td>NaN</td>\n",
       "      <td>NaN</td>\n",
       "      <td>NaN</td>\n",
       "      <td>NaN</td>\n",
       "      <td>1</td>\n",
       "      <td>3125.001953</td>\n",
       "      <td>3186.412109</td>\n",
       "    </tr>\n",
       "    <tr>\n",
       "      <th>2016-01-08</th>\n",
       "      <td>NaN</td>\n",
       "      <td>NaN</td>\n",
       "      <td>NaN</td>\n",
       "      <td>NaN</td>\n",
       "      <td>3.722000e+05</td>\n",
       "      <td>NaN</td>\n",
       "      <td>NaN</td>\n",
       "      <td>NaN</td>\n",
       "      <td>NaN</td>\n",
       "      <td>NaN</td>\n",
       "      <td>...</td>\n",
       "      <td>NaN</td>\n",
       "      <td>NaN</td>\n",
       "      <td>NaN</td>\n",
       "      <td>NaN</td>\n",
       "      <td>NaN</td>\n",
       "      <td>NaN</td>\n",
       "      <td>NaN</td>\n",
       "      <td>0</td>\n",
       "      <td>3186.412109</td>\n",
       "      <td>3016.704102</td>\n",
       "    </tr>\n",
       "    <tr>\n",
       "      <th>...</th>\n",
       "      <td>...</td>\n",
       "      <td>...</td>\n",
       "      <td>...</td>\n",
       "      <td>...</td>\n",
       "      <td>...</td>\n",
       "      <td>...</td>\n",
       "      <td>...</td>\n",
       "      <td>...</td>\n",
       "      <td>...</td>\n",
       "      <td>...</td>\n",
       "      <td>...</td>\n",
       "      <td>...</td>\n",
       "      <td>...</td>\n",
       "      <td>...</td>\n",
       "      <td>...</td>\n",
       "      <td>...</td>\n",
       "      <td>...</td>\n",
       "      <td>...</td>\n",
       "      <td>...</td>\n",
       "      <td>...</td>\n",
       "      <td>...</td>\n",
       "    </tr>\n",
       "    <tr>\n",
       "      <th>2021-12-01</th>\n",
       "      <td>3543.879114</td>\n",
       "      <td>3566.477446</td>\n",
       "      <td>3527.288312</td>\n",
       "      <td>3561.316714</td>\n",
       "      <td>2.520320e+07</td>\n",
       "      <td>55.008687</td>\n",
       "      <td>16.461959</td>\n",
       "      <td>21.674837</td>\n",
       "      <td>0.000000</td>\n",
       "      <td>64.285714</td>\n",
       "      <td>...</td>\n",
       "      <td>56.033229</td>\n",
       "      <td>47.676037</td>\n",
       "      <td>71.380042</td>\n",
       "      <td>56.033229</td>\n",
       "      <td>-0.006916</td>\n",
       "      <td>61.441675</td>\n",
       "      <td>-28.837060</td>\n",
       "      <td>0</td>\n",
       "      <td>3576.889893</td>\n",
       "      <td>3573.840088</td>\n",
       "    </tr>\n",
       "    <tr>\n",
       "      <th>2021-12-02</th>\n",
       "      <td>3546.227612</td>\n",
       "      <td>3564.702246</td>\n",
       "      <td>3527.489087</td>\n",
       "      <td>3562.986498</td>\n",
       "      <td>2.484920e+07</td>\n",
       "      <td>54.176579</td>\n",
       "      <td>15.321140</td>\n",
       "      <td>20.753905</td>\n",
       "      <td>28.571429</td>\n",
       "      <td>57.142857</td>\n",
       "      <td>...</td>\n",
       "      <td>66.328400</td>\n",
       "      <td>53.672279</td>\n",
       "      <td>78.466324</td>\n",
       "      <td>66.328400</td>\n",
       "      <td>-0.006349</td>\n",
       "      <td>59.264174</td>\n",
       "      <td>-32.239910</td>\n",
       "      <td>1</td>\n",
       "      <td>3573.840088</td>\n",
       "      <td>3607.429932</td>\n",
       "    </tr>\n",
       "    <tr>\n",
       "      <th>2021-12-03</th>\n",
       "      <td>3552.020605</td>\n",
       "      <td>3563.726445</td>\n",
       "      <td>3527.939696</td>\n",
       "      <td>3568.912289</td>\n",
       "      <td>2.522680e+07</td>\n",
       "      <td>61.147474</td>\n",
       "      <td>14.994060</td>\n",
       "      <td>20.308288</td>\n",
       "      <td>21.428571</td>\n",
       "      <td>100.000000</td>\n",
       "      <td>...</td>\n",
       "      <td>82.859908</td>\n",
       "      <td>68.407179</td>\n",
       "      <td>98.733357</td>\n",
       "      <td>82.859908</td>\n",
       "      <td>-0.005454</td>\n",
       "      <td>64.601942</td>\n",
       "      <td>-1.090647</td>\n",
       "      <td>0</td>\n",
       "      <td>3607.429932</td>\n",
       "      <td>3589.310059</td>\n",
       "    </tr>\n",
       "    <tr>\n",
       "      <th>2021-12-06</th>\n",
       "      <td>3556.554614</td>\n",
       "      <td>3563.370845</td>\n",
       "      <td>3528.376952</td>\n",
       "      <td>3571.631991</td>\n",
       "      <td>2.480810e+07</td>\n",
       "      <td>56.182322</td>\n",
       "      <td>15.220563</td>\n",
       "      <td>20.215309</td>\n",
       "      <td>14.285714</td>\n",
       "      <td>100.000000</td>\n",
       "      <td>...</td>\n",
       "      <td>77.014023</td>\n",
       "      <td>75.400777</td>\n",
       "      <td>53.842387</td>\n",
       "      <td>77.014023</td>\n",
       "      <td>-0.004436</td>\n",
       "      <td>59.754018</td>\n",
       "      <td>-32.578214</td>\n",
       "      <td>1</td>\n",
       "      <td>3589.310059</td>\n",
       "      <td>3595.088135</td>\n",
       "    </tr>\n",
       "    <tr>\n",
       "      <th>2021-12-07</th>\n",
       "      <td>3560.959021</td>\n",
       "      <td>3562.993208</td>\n",
       "      <td>3528.870742</td>\n",
       "      <td>3574.759477</td>\n",
       "      <td>1.754362e+09</td>\n",
       "      <td>57.371021</td>\n",
       "      <td>14.862353</td>\n",
       "      <td>19.835089</td>\n",
       "      <td>7.142857</td>\n",
       "      <td>92.857143</td>\n",
       "      <td>...</td>\n",
       "      <td>68.849005</td>\n",
       "      <td>76.240978</td>\n",
       "      <td>53.971271</td>\n",
       "      <td>68.849005</td>\n",
       "      <td>-0.003285</td>\n",
       "      <td>60.744305</td>\n",
       "      <td>-27.465767</td>\n",
       "      <td>0</td>\n",
       "      <td>3595.088135</td>\n",
       "      <td>NaN</td>\n",
       "    </tr>\n",
       "  </tbody>\n",
       "</table>\n",
       "<p>1441 rows × 40 columns</p>\n",
       "</div>"
      ],
      "text/plain": [
       "                  SMA20        SMA50       SMA200          EMA           OBV  \\\n",
       "Date                                                                           \n",
       "2016-01-04          NaN          NaN          NaN          NaN  1.844000e+05   \n",
       "2016-01-05          NaN          NaN          NaN          NaN -8.250000e+04   \n",
       "2016-01-06          NaN          NaN          NaN          NaN  1.564000e+05   \n",
       "2016-01-07          NaN          NaN          NaN          NaN  8.580000e+04   \n",
       "2016-01-08          NaN          NaN          NaN          NaN  3.722000e+05   \n",
       "...                 ...          ...          ...          ...           ...   \n",
       "2021-12-01  3543.879114  3566.477446  3527.288312  3561.316714  2.520320e+07   \n",
       "2021-12-02  3546.227612  3564.702246  3527.489087  3562.986498  2.484920e+07   \n",
       "2021-12-03  3552.020605  3563.726445  3527.939696  3568.912289  2.522680e+07   \n",
       "2021-12-06  3556.554614  3563.370845  3528.376952  3571.631991  2.480810e+07   \n",
       "2021-12-07  3560.959021  3562.993208  3528.870742  3574.759477  1.754362e+09   \n",
       "\n",
       "                RSI14        ADX       ADXR  aroondown     aroonup  ...  \\\n",
       "Date                                                                ...   \n",
       "2016-01-04        NaN        NaN        NaN        NaN         NaN  ...   \n",
       "2016-01-05        NaN        NaN        NaN        NaN         NaN  ...   \n",
       "2016-01-06        NaN        NaN        NaN        NaN         NaN  ...   \n",
       "2016-01-07        NaN        NaN        NaN        NaN         NaN  ...   \n",
       "2016-01-08        NaN        NaN        NaN        NaN         NaN  ...   \n",
       "...               ...        ...        ...        ...         ...  ...   \n",
       "2021-12-01  55.008687  16.461959  21.674837   0.000000   64.285714  ...   \n",
       "2021-12-02  54.176579  15.321140  20.753905  28.571429   57.142857  ...   \n",
       "2021-12-03  61.147474  14.994060  20.308288  21.428571  100.000000  ...   \n",
       "2021-12-06  56.182322  15.220563  20.215309  14.285714  100.000000  ...   \n",
       "2021-12-07  57.371021  14.862353  19.835089   7.142857   92.857143  ...   \n",
       "\n",
       "                slowk      slowd      fastk      fastd      TRIX     ULTOSC  \\\n",
       "Date                                                                          \n",
       "2016-01-04        NaN        NaN        NaN        NaN       NaN        NaN   \n",
       "2016-01-05        NaN        NaN        NaN        NaN       NaN        NaN   \n",
       "2016-01-06        NaN        NaN        NaN        NaN       NaN        NaN   \n",
       "2016-01-07        NaN        NaN        NaN        NaN       NaN        NaN   \n",
       "2016-01-08        NaN        NaN        NaN        NaN       NaN        NaN   \n",
       "...               ...        ...        ...        ...       ...        ...   \n",
       "2021-12-01  56.033229  47.676037  71.380042  56.033229 -0.006916  61.441675   \n",
       "2021-12-02  66.328400  53.672279  78.466324  66.328400 -0.006349  59.264174   \n",
       "2021-12-03  82.859908  68.407179  98.733357  82.859908 -0.005454  64.601942   \n",
       "2021-12-06  77.014023  75.400777  53.842387  77.014023 -0.004436  59.754018   \n",
       "2021-12-07  68.849005  76.240978  53.971271  68.849005 -0.003285  60.744305   \n",
       "\n",
       "                WILLR  Target        Close    Re Target  \n",
       "Date                                                     \n",
       "2016-01-04        NaN       0  3296.258057  3287.710938  \n",
       "2016-01-05        NaN       1  3287.710938  3361.840088  \n",
       "2016-01-06        NaN       0  3361.840088  3125.001953  \n",
       "2016-01-07        NaN       1  3125.001953  3186.412109  \n",
       "2016-01-08        NaN       0  3186.412109  3016.704102  \n",
       "...               ...     ...          ...          ...  \n",
       "2021-12-01 -28.837060       0  3576.889893  3573.840088  \n",
       "2021-12-02 -32.239910       1  3573.840088  3607.429932  \n",
       "2021-12-03  -1.090647       0  3607.429932  3589.310059  \n",
       "2021-12-06 -32.578214       1  3589.310059  3595.088135  \n",
       "2021-12-07 -27.465767       0  3595.088135          NaN  \n",
       "\n",
       "[1441 rows x 40 columns]"
      ]
     },
     "execution_count": 136,
     "metadata": {},
     "output_type": "execute_result"
    }
   ],
   "source": [
    "sse_ti = pd.DataFrame()\n",
    "sse_ti['SMA20'] = talib.SMA(close, timeperiod=20)\n",
    "sse_ti['SMA50'] = talib.SMA(close, timeperiod=50)\n",
    "sse_ti['SMA200'] = talib.SMA(close, timeperiod=200)\n",
    "sse_ti['EMA'] = talib.EMA(close, timeperiod=14)\n",
    "sse_ti['OBV'] = talib.OBV(close, volume)\n",
    "sse_ti['RSI14'] = talib.RSI(close, timeperiod=14)\n",
    "sse_ti['ADX'] = talib.ADX(high, low, close, timeperiod=14)\n",
    "sse_ti['ADXR'] = talib.ADXR(high, low, close, timeperiod=14)\n",
    "sse_ti['aroondown'], sse_ti['aroonup'] = talib.AROON(high, low, timeperiod=14)\n",
    "sse_ti['APO'] = talib.APO(close, fastperiod=12, slowperiod=26, matype=0)\n",
    "sse_ti['AROONOSC'] = talib.AROONOSC(high, low, timeperiod=14)\n",
    "sse_ti['BOP'] = talib.BOP(open, high, low, close)\n",
    "sse_ti['CCI'] = talib.CCI(high, low, close, timeperiod=14)\n",
    "sse_ti['CMO'] = talib.CMO(close, timeperiod=14)\n",
    "sse_ti['DX'] = talib.DX(high, low, close, timeperiod=14)\n",
    "sse_ti['macd'],sse_ti['macdsignal'],sse_ti['macdhist'] = talib.MACD(close, fastperiod = 12, slowperiod=26, signalperiod=9)\n",
    "sse_ti['MFI'] = talib.MFI(high, low, close, volume, timeperiod=14)\n",
    "sse_ti['MINUS_DI'] = talib.MINUS_DI(high, low, close, timeperiod=14)\n",
    "sse_ti['MINUS_DM'] = talib.MINUS_DM(high, low, timeperiod=14)\n",
    "sse_ti['MOM'] = talib.MOM(close, timeperiod=14)\n",
    "sse_ti['PLUS_DI'] = talib.PLUS_DI(high, low, close, timeperiod=14)\n",
    "sse_ti['PLUS_DM'] = talib.PLUS_DM(high, low, timeperiod=14)\n",
    "sse_ti['PPO'] = talib.PPO(close, fastperiod=12, slowperiod=26, matype=0)\n",
    "sse_ti['ROC'] = talib.ROC(close, timeperiod=10)\n",
    "sse_ti['ROCP'] = talib.ROCP(close, timeperiod=10)\n",
    "sse_ti['ROCR'] = talib.ROCR(close, timeperiod=10)\n",
    "sse_ti['ROCR100'] = talib.ROCR100(close, timeperiod=10)\n",
    "sse_ti['slowk'], sse_ti['slowd'] = talib.STOCH(high, low, close, fastk_period=5, slowk_period=3, slowd_period=3, slowd_matype=0)\n",
    "sse_ti['fastk'], sse_ti['fastd'] = talib.STOCHF(high, low, close, fastk_period=5, fastd_period=3, fastd_matype=0)\n",
    "sse_ti['TRIX'] = talib.TRIX(close, timeperiod=30)\n",
    "sse_ti['ULTOSC'] = talib.ULTOSC(high, low, close, timeperiod1=7, timeperiod2=14, timeperiod3=28)\n",
    "sse_ti['WILLR'] = talib.WILLR(high, low, close, timeperiod=14)\n",
    "sse_ti['Target'] = sse['Target']\n",
    "sse_ti['Close'] = sse['Close']\n",
    "sse_ti['Re Target'] = sse['Future Close']\n",
    "sse_ti"
   ]
  },
  {
   "cell_type": "code",
   "execution_count": 137,
   "id": "ad9c5b72",
   "metadata": {},
   "outputs": [],
   "source": [
    "sse_target = hsi_ti.tail(1)"
   ]
  },
  {
   "cell_type": "code",
   "execution_count": 138,
   "id": "0c7d37ab",
   "metadata": {},
   "outputs": [
    {
     "data": {
      "text/plain": [
       "['SMA20',\n",
       " 'EMA',\n",
       " 'APO',\n",
       " 'BOP',\n",
       " 'CMO',\n",
       " 'macd',\n",
       " 'macdhist',\n",
       " 'MINUS_DI',\n",
       " 'MINUS_DM',\n",
       " 'PLUS_DI',\n",
       " 'PLUS_DM',\n",
       " 'PPO',\n",
       " 'ROC',\n",
       " 'ROCR100',\n",
       " 'fastd',\n",
       " 'TRIX',\n",
       " 'WILLR']"
      ]
     },
     "execution_count": 138,
     "metadata": {},
     "output_type": "execute_result"
    }
   ],
   "source": [
    "sse_ti = sse_ti.dropna()\n",
    "sse_features = selectFeatures(sse_ti,'Target')\n",
    "sse_features.remove('Re Target')\n",
    "sse_features.remove('Close')\n",
    "sse_features"
   ]
  },
  {
   "cell_type": "code",
   "execution_count": 139,
   "id": "356866e3",
   "metadata": {},
   "outputs": [],
   "source": [
    "X = sse_ti.loc[:, sse_features].values\n",
    "y = sse_ti.loc[:, ['Target']].values\n",
    "X_train, X_test, y_train, y_test = train_test_split(X, y, test_size=0.2, random_state=0)"
   ]
  },
  {
   "cell_type": "code",
   "execution_count": 140,
   "id": "207d5104",
   "metadata": {},
   "outputs": [],
   "source": [
    "sc = StandardScaler()\n",
    "X_train = sc.fit_transform(X_train)\n",
    "X_test = sc.transform(X_test)"
   ]
  },
  {
   "cell_type": "markdown",
   "id": "9d05f043",
   "metadata": {
    "jp-MarkdownHeadingCollapsed": true,
    "tags": []
   },
   "source": [
    "<h2>Decision Tree</h2>"
   ]
  },
  {
   "cell_type": "code",
   "execution_count": 141,
   "id": "f53e284b",
   "metadata": {},
   "outputs": [
    {
     "data": {
      "text/plain": [
       "DecisionTreeClassifier(criterion='entropy')"
      ]
     },
     "execution_count": 141,
     "metadata": {},
     "output_type": "execute_result"
    }
   ],
   "source": [
    "dtc = DecisionTreeClassifier(criterion=\"entropy\")\n",
    "dtc.fit(X_train, y_train)"
   ]
  },
  {
   "cell_type": "code",
   "execution_count": 142,
   "id": "400a9dc3",
   "metadata": {},
   "outputs": [
    {
     "data": {
      "text/plain": [
       "array([0, 1, 0, 1, 1, 1, 0, 0, 0, 0, 1, 1, 1, 1, 1, 0, 1, 1, 0, 1, 0, 0,\n",
       "       0, 1, 0, 0, 0, 0, 0, 1, 0, 1, 0, 1, 0, 1, 1, 1, 1, 1, 1, 1, 0, 1,\n",
       "       0, 1, 0, 1, 0, 0, 0, 1, 1, 1, 1, 1, 0, 0, 1, 0, 0, 0, 0, 0, 1, 0,\n",
       "       1, 1, 0, 1, 1, 0, 1, 1, 0, 1, 0, 0, 1, 1, 1, 0, 1, 1, 0, 1, 1, 1,\n",
       "       1, 1, 1, 0, 0, 0, 1, 1, 1, 1, 0, 0, 0, 0, 1, 1, 1, 1, 0, 1, 1, 0,\n",
       "       1, 1, 1, 0, 1, 0, 1, 0, 0, 1, 0, 1, 1, 1, 0, 0, 0, 1, 0, 1, 1, 0,\n",
       "       1, 0, 0, 1, 1, 1, 0, 1, 1, 1, 0, 0, 1, 1, 1, 1, 0, 1, 1, 0, 1, 0,\n",
       "       0, 0, 0, 0, 0, 1, 1, 0, 1, 1, 1, 0, 0, 1, 0, 1, 0, 0, 1, 0, 0, 0,\n",
       "       0, 1, 1, 1, 1, 1, 1, 0, 1, 1, 1, 1, 0, 1, 0, 1, 0, 0, 0, 0, 0, 0,\n",
       "       1, 1, 1, 1, 0, 1, 1, 0, 0, 0, 0, 1, 1, 1, 1, 1, 1, 0, 1, 1, 0, 0,\n",
       "       1, 1, 0, 0, 1, 1, 0, 1, 1, 1, 0, 1, 1, 0, 0, 1, 0, 1, 0, 0, 1, 1,\n",
       "       1, 0, 0, 1, 0, 0, 1], dtype=int64)"
      ]
     },
     "execution_count": 142,
     "metadata": {},
     "output_type": "execute_result"
    }
   ],
   "source": [
    "# Prediction\n",
    "#\n",
    "y_pred = dtc.predict(X_test)  #Accuracy\n",
    "y_pred"
   ]
  },
  {
   "cell_type": "code",
   "execution_count": 143,
   "id": "6e4f3da7",
   "metadata": {
    "collapsed": true,
    "jupyter": {
     "outputs_hidden": true
    },
    "tags": []
   },
   "outputs": [
    {
     "data": {
      "text/plain": [
       "array([[1],\n",
       "       [0],\n",
       "       [1],\n",
       "       [0],\n",
       "       [1],\n",
       "       [1],\n",
       "       [1],\n",
       "       [1],\n",
       "       [1],\n",
       "       [0],\n",
       "       [1],\n",
       "       [0],\n",
       "       [1],\n",
       "       [1],\n",
       "       [1],\n",
       "       [0],\n",
       "       [1],\n",
       "       [0],\n",
       "       [1],\n",
       "       [1],\n",
       "       [1],\n",
       "       [1],\n",
       "       [0],\n",
       "       [0],\n",
       "       [0],\n",
       "       [1],\n",
       "       [0],\n",
       "       [1],\n",
       "       [0],\n",
       "       [1],\n",
       "       [1],\n",
       "       [1],\n",
       "       [1],\n",
       "       [1],\n",
       "       [1],\n",
       "       [0],\n",
       "       [0],\n",
       "       [0],\n",
       "       [1],\n",
       "       [1],\n",
       "       [1],\n",
       "       [1],\n",
       "       [0],\n",
       "       [0],\n",
       "       [1],\n",
       "       [0],\n",
       "       [0],\n",
       "       [0],\n",
       "       [1],\n",
       "       [1],\n",
       "       [0],\n",
       "       [0],\n",
       "       [0],\n",
       "       [0],\n",
       "       [0],\n",
       "       [1],\n",
       "       [0],\n",
       "       [1],\n",
       "       [0],\n",
       "       [0],\n",
       "       [0],\n",
       "       [0],\n",
       "       [1],\n",
       "       [0],\n",
       "       [1],\n",
       "       [1],\n",
       "       [1],\n",
       "       [0],\n",
       "       [1],\n",
       "       [1],\n",
       "       [1],\n",
       "       [0],\n",
       "       [1],\n",
       "       [0],\n",
       "       [1],\n",
       "       [1],\n",
       "       [1],\n",
       "       [0],\n",
       "       [0],\n",
       "       [1],\n",
       "       [0],\n",
       "       [1],\n",
       "       [0],\n",
       "       [0],\n",
       "       [0],\n",
       "       [1],\n",
       "       [0],\n",
       "       [0],\n",
       "       [1],\n",
       "       [1],\n",
       "       [1],\n",
       "       [0],\n",
       "       [1],\n",
       "       [1],\n",
       "       [0],\n",
       "       [0],\n",
       "       [1],\n",
       "       [1],\n",
       "       [0],\n",
       "       [1],\n",
       "       [1],\n",
       "       [0],\n",
       "       [1],\n",
       "       [1],\n",
       "       [0],\n",
       "       [1],\n",
       "       [1],\n",
       "       [1],\n",
       "       [0],\n",
       "       [0],\n",
       "       [1],\n",
       "       [0],\n",
       "       [0],\n",
       "       [1],\n",
       "       [1],\n",
       "       [1],\n",
       "       [0],\n",
       "       [0],\n",
       "       [0],\n",
       "       [0],\n",
       "       [0],\n",
       "       [0],\n",
       "       [0],\n",
       "       [1],\n",
       "       [1],\n",
       "       [1],\n",
       "       [1],\n",
       "       [1],\n",
       "       [0],\n",
       "       [1],\n",
       "       [0],\n",
       "       [0],\n",
       "       [1],\n",
       "       [0],\n",
       "       [0],\n",
       "       [1],\n",
       "       [1],\n",
       "       [1],\n",
       "       [1],\n",
       "       [0],\n",
       "       [0],\n",
       "       [0],\n",
       "       [1],\n",
       "       [0],\n",
       "       [0],\n",
       "       [1],\n",
       "       [0],\n",
       "       [0],\n",
       "       [0],\n",
       "       [0],\n",
       "       [0],\n",
       "       [1],\n",
       "       [0],\n",
       "       [1],\n",
       "       [0],\n",
       "       [1],\n",
       "       [0],\n",
       "       [0],\n",
       "       [0],\n",
       "       [1],\n",
       "       [0],\n",
       "       [1],\n",
       "       [0],\n",
       "       [1],\n",
       "       [1],\n",
       "       [0],\n",
       "       [0],\n",
       "       [1],\n",
       "       [1],\n",
       "       [0],\n",
       "       [0],\n",
       "       [1],\n",
       "       [0],\n",
       "       [0],\n",
       "       [0],\n",
       "       [1],\n",
       "       [0],\n",
       "       [1],\n",
       "       [0],\n",
       "       [1],\n",
       "       [0],\n",
       "       [1],\n",
       "       [1],\n",
       "       [0],\n",
       "       [0],\n",
       "       [1],\n",
       "       [1],\n",
       "       [1],\n",
       "       [0],\n",
       "       [1],\n",
       "       [1],\n",
       "       [0],\n",
       "       [0],\n",
       "       [1],\n",
       "       [1],\n",
       "       [0],\n",
       "       [1],\n",
       "       [1],\n",
       "       [1],\n",
       "       [0],\n",
       "       [1],\n",
       "       [0],\n",
       "       [1],\n",
       "       [0],\n",
       "       [1],\n",
       "       [0],\n",
       "       [0],\n",
       "       [0],\n",
       "       [1],\n",
       "       [1],\n",
       "       [1],\n",
       "       [1],\n",
       "       [1],\n",
       "       [0],\n",
       "       [0],\n",
       "       [1],\n",
       "       [1],\n",
       "       [1],\n",
       "       [1],\n",
       "       [1],\n",
       "       [1],\n",
       "       [0],\n",
       "       [0],\n",
       "       [0],\n",
       "       [1],\n",
       "       [1],\n",
       "       [1],\n",
       "       [1],\n",
       "       [0],\n",
       "       [0],\n",
       "       [1],\n",
       "       [0],\n",
       "       [1],\n",
       "       [1],\n",
       "       [0],\n",
       "       [1],\n",
       "       [1],\n",
       "       [0],\n",
       "       [0],\n",
       "       [0],\n",
       "       [0],\n",
       "       [0],\n",
       "       [1],\n",
       "       [0],\n",
       "       [0],\n",
       "       [1],\n",
       "       [0],\n",
       "       [1],\n",
       "       [1]], dtype=int64)"
      ]
     },
     "execution_count": 143,
     "metadata": {},
     "output_type": "execute_result"
    }
   ],
   "source": [
    "# Look at the actual y_test\n",
    "#\n",
    "y_test"
   ]
  },
  {
   "cell_type": "code",
   "execution_count": 144,
   "id": "17f19945",
   "metadata": {},
   "outputs": [
    {
     "name": "stdout",
     "output_type": "stream",
     "text": [
      "Accuracy Score:  0.5140562248995983\n",
      "Confusion Matrix: \n",
      " [[55 64]\n",
      " [57 73]]\n",
      "F1 Score:  0.5468164794007492\n",
      "Precision Score:  0.5328467153284672\n",
      "Recall score:  0.5615384615384615\n",
      "Area Under Curve score:  0.5118616677440206\n"
     ]
    }
   ],
   "source": [
    "dctEval = evaluate(cla, y_test, y_pred)\n",
    "printEval(cla, dctEval)"
   ]
  },
  {
   "cell_type": "markdown",
   "id": "a12d4e86",
   "metadata": {
    "jp-MarkdownHeadingCollapsed": true,
    "tags": []
   },
   "source": [
    "<h2>Random Forest</h2>"
   ]
  },
  {
   "cell_type": "code",
   "execution_count": 145,
   "id": "32edc975",
   "metadata": {},
   "outputs": [
    {
     "name": "stderr",
     "output_type": "stream",
     "text": [
      "<ipython-input-145-d76a3c324696>:2: DataConversionWarning: A column-vector y was passed when a 1d array was expected. Please change the shape of y to (n_samples,), for example using ravel().\n",
      "  forest.fit(X_train, y_train)\n"
     ]
    },
    {
     "data": {
      "text/plain": [
       "RandomForestClassifier(max_features=9, n_estimators=1000, random_state=42)"
      ]
     },
     "execution_count": 145,
     "metadata": {},
     "output_type": "execute_result"
    }
   ],
   "source": [
    "forest = RandomForestClassifier(n_estimators = 1000, random_state = 42, max_features=9)\n",
    "forest.fit(X_train, y_train)"
   ]
  },
  {
   "cell_type": "code",
   "execution_count": 146,
   "id": "dcdc351e",
   "metadata": {},
   "outputs": [
    {
     "data": {
      "text/plain": [
       "array([1, 0, 1, 0, 1, 1, 0, 0, 0, 1, 0, 1, 0, 1, 1, 0, 1, 0, 1, 1, 0, 0,\n",
       "       0, 0, 1, 0, 0, 0, 1, 1, 0, 1, 0, 1, 1, 1, 1, 0, 1, 0, 1, 0, 0, 0,\n",
       "       0, 0, 0, 0, 0, 1, 1, 1, 1, 0, 1, 0, 0, 0, 0, 1, 1, 1, 1, 0, 1, 1,\n",
       "       1, 1, 0, 1, 1, 0, 1, 1, 1, 0, 1, 0, 1, 1, 1, 0, 1, 1, 0, 0, 1, 1,\n",
       "       1, 1, 1, 0, 1, 1, 1, 0, 1, 1, 0, 0, 0, 0, 1, 0, 1, 1, 1, 0, 1, 0,\n",
       "       0, 1, 1, 0, 1, 1, 1, 1, 1, 0, 1, 0, 1, 1, 1, 0, 1, 1, 1, 1, 1, 1,\n",
       "       0, 1, 0, 0, 0, 1, 1, 0, 0, 1, 1, 1, 0, 1, 1, 1, 0, 1, 1, 0, 1, 0,\n",
       "       0, 1, 0, 1, 1, 1, 0, 1, 0, 1, 1, 0, 1, 1, 0, 1, 0, 0, 0, 1, 1, 0,\n",
       "       0, 1, 1, 1, 1, 1, 1, 1, 1, 1, 1, 1, 0, 1, 0, 1, 0, 1, 1, 0, 0, 0,\n",
       "       1, 1, 1, 1, 1, 1, 1, 0, 0, 0, 1, 0, 0, 1, 0, 1, 1, 1, 1, 0, 1, 1,\n",
       "       1, 1, 1, 1, 1, 0, 1, 0, 1, 1, 1, 1, 0, 1, 0, 1, 1, 1, 1, 0, 1, 1,\n",
       "       1, 1, 0, 1, 0, 0, 0], dtype=int64)"
      ]
     },
     "execution_count": 146,
     "metadata": {},
     "output_type": "execute_result"
    }
   ],
   "source": [
    "# Prediction\n",
    "#\n",
    "y_pred = forest.predict(X_test)  #Accuracy\n",
    "y_pred"
   ]
  },
  {
   "cell_type": "code",
   "execution_count": 147,
   "id": "271a417a",
   "metadata": {},
   "outputs": [
    {
     "name": "stdout",
     "output_type": "stream",
     "text": [
      "Accuracy Score:  0.5301204819277109\n",
      "Confusion Matrix: \n",
      " [[50 69]\n",
      " [48 82]]\n",
      "F1 Score:  0.5836298932384341\n",
      "Precision Score:  0.543046357615894\n",
      "Recall score:  0.6307692307692307\n",
      "Area Under Curve score:  0.5254686489980607\n"
     ]
    }
   ],
   "source": [
    "forestEval = evaluate(cla, y_test, y_pred)\n",
    "printEval(cla, forestEval)"
   ]
  },
  {
   "cell_type": "markdown",
   "id": "ed50ca29",
   "metadata": {
    "jp-MarkdownHeadingCollapsed": true,
    "tags": []
   },
   "source": [
    "<h2>Logistic Regression</h2>"
   ]
  },
  {
   "cell_type": "code",
   "execution_count": 148,
   "id": "10e3a43a",
   "metadata": {},
   "outputs": [
    {
     "name": "stderr",
     "output_type": "stream",
     "text": [
      "C:\\Users\\66931\\anaconda3\\lib\\site-packages\\sklearn\\utils\\validation.py:985: DataConversionWarning: A column-vector y was passed when a 1d array was expected. Please change the shape of y to (n_samples, ), for example using ravel().\n",
      "  y = column_or_1d(y, warn=True)\n"
     ]
    },
    {
     "data": {
      "text/plain": [
       "LogisticRegression()"
      ]
     },
     "execution_count": 148,
     "metadata": {},
     "output_type": "execute_result"
    }
   ],
   "source": [
    "# Logistic Regression Classifier: Create and Train the model\n",
    "logistic = LogisticRegression()\n",
    "logistic.fit(X_train, y_train)"
   ]
  },
  {
   "cell_type": "code",
   "execution_count": 149,
   "id": "9ee6b346-8fc9-4e80-9d46-76c635e81787",
   "metadata": {},
   "outputs": [
    {
     "data": {
      "text/plain": [
       "array([0, 1, 1, 1, 1, 0, 1, 0, 0, 1, 1, 1, 1, 1, 1, 0, 1, 0, 1, 1, 0, 0,\n",
       "       1, 1, 1, 1, 1, 0, 0, 1, 1, 1, 0, 1, 1, 0, 1, 1, 1, 1, 1, 0, 1, 1,\n",
       "       1, 1, 1, 1, 0, 1, 1, 1, 1, 0, 1, 1, 1, 1, 1, 0, 0, 1, 1, 0, 1, 0,\n",
       "       0, 1, 1, 0, 1, 0, 0, 0, 1, 1, 1, 1, 1, 0, 1, 1, 1, 1, 1, 1, 1, 0,\n",
       "       0, 1, 1, 1, 1, 1, 1, 0, 1, 1, 0, 0, 1, 0, 0, 1, 1, 1, 1, 1, 1, 1,\n",
       "       0, 1, 1, 1, 0, 1, 1, 1, 0, 1, 1, 1, 1, 1, 1, 1, 1, 1, 0, 0, 0, 1,\n",
       "       0, 1, 1, 1, 0, 0, 1, 1, 1, 1, 1, 1, 1, 1, 1, 1, 1, 1, 1, 1, 1, 1,\n",
       "       0, 1, 0, 1, 1, 1, 0, 0, 1, 1, 1, 1, 0, 0, 1, 1, 1, 0, 1, 1, 1, 0,\n",
       "       0, 1, 1, 1, 1, 1, 1, 1, 1, 1, 1, 1, 0, 1, 1, 1, 0, 1, 1, 0, 1, 1,\n",
       "       1, 1, 1, 1, 1, 0, 1, 1, 1, 0, 1, 1, 1, 1, 0, 1, 1, 1, 1, 1, 1, 0,\n",
       "       1, 0, 1, 1, 1, 1, 1, 0, 0, 1, 1, 1, 0, 1, 1, 1, 1, 0, 1, 1, 0, 1,\n",
       "       1, 1, 0, 1, 0, 0, 1], dtype=int64)"
      ]
     },
     "execution_count": 149,
     "metadata": {},
     "output_type": "execute_result"
    }
   ],
   "source": [
    "# Prediction\n",
    "y_pred = logistic.predict(X_test)  #Accuracy\n",
    "y_pred"
   ]
  },
  {
   "cell_type": "code",
   "execution_count": 150,
   "id": "6a3c12c0-ec9b-410d-bcfd-04634023a513",
   "metadata": {},
   "outputs": [],
   "source": [
    "# Look at the actual y_test\n",
    "#y_test"
   ]
  },
  {
   "cell_type": "code",
   "execution_count": 151,
   "id": "1d60e47b-1523-4bc8-8944-b7208623c025",
   "metadata": {},
   "outputs": [
    {
     "name": "stdout",
     "output_type": "stream",
     "text": [
      "Accuracy Score:  0.5220883534136547\n",
      "Confusion Matrix: \n",
      " [[33 86]\n",
      " [33 97]]\n",
      "F1 Score:  0.6198083067092653\n",
      "Precision Score:  0.5300546448087432\n",
      "Recall score:  0.7461538461538462\n",
      "Area Under Curve score:  0.511732385261797\n"
     ]
    }
   ],
   "source": [
    "logisticEval = evaluate(cla, y_test, y_pred)\n",
    "printEval(cla, logisticEval)"
   ]
  },
  {
   "cell_type": "markdown",
   "id": "89c4d943",
   "metadata": {
    "jp-MarkdownHeadingCollapsed": true,
    "tags": []
   },
   "source": [
    "<h2>XGBoost</h2>"
   ]
  },
  {
   "cell_type": "code",
   "execution_count": 152,
   "id": "04f76d12",
   "metadata": {},
   "outputs": [
    {
     "name": "stderr",
     "output_type": "stream",
     "text": [
      "C:\\Users\\66931\\anaconda3\\lib\\site-packages\\xgboost\\sklearn.py:1224: UserWarning: The use of label encoder in XGBClassifier is deprecated and will be removed in a future release. To remove this warning, do the following: 1) Pass option use_label_encoder=False when constructing XGBClassifier object; and 2) Encode your labels (y) as integers starting with 0, i.e. 0, 1, 2, ..., [num_class - 1].\n",
      "  warnings.warn(label_encoder_deprecation_msg, UserWarning)\n",
      "C:\\Users\\66931\\anaconda3\\lib\\site-packages\\sklearn\\preprocessing\\_label.py:98: DataConversionWarning: A column-vector y was passed when a 1d array was expected. Please change the shape of y to (n_samples, ), for example using ravel().\n",
      "  y = column_or_1d(y, warn=True)\n",
      "C:\\Users\\66931\\anaconda3\\lib\\site-packages\\sklearn\\preprocessing\\_label.py:133: DataConversionWarning: A column-vector y was passed when a 1d array was expected. Please change the shape of y to (n_samples, ), for example using ravel().\n",
      "  y = column_or_1d(y, warn=True)\n"
     ]
    },
    {
     "name": "stdout",
     "output_type": "stream",
     "text": [
      "[15:19:04] WARNING: C:/Users/Administrator/workspace/xgboost-win64_release_1.5.0/src/learner.cc:1115: Starting in XGBoost 1.3.0, the default evaluation metric used with the objective 'binary:logistic' was changed from 'error' to 'logloss'. Explicitly set eval_metric if you'd like to restore the old behavior.\n"
     ]
    },
    {
     "data": {
      "text/plain": [
       "XGBClassifier(base_score=0.5, booster='gbtree', colsample_bylevel=1,\n",
       "              colsample_bynode=1, colsample_bytree=1, enable_categorical=False,\n",
       "              gamma=0, gpu_id=-1, importance_type=None,\n",
       "              interaction_constraints='', learning_rate=0.300000012,\n",
       "              max_delta_step=0, max_depth=6, min_child_weight=1, missing=nan,\n",
       "              monotone_constraints='()', n_estimators=100, n_jobs=8,\n",
       "              num_parallel_tree=1, predictor='auto', random_state=0,\n",
       "              reg_alpha=0, reg_lambda=1, scale_pos_weight=1, subsample=1,\n",
       "              tree_method='exact', validate_parameters=1, verbosity=None)"
      ]
     },
     "execution_count": 152,
     "metadata": {},
     "output_type": "execute_result"
    }
   ],
   "source": [
    "from xgboost import XGBClassifier\n",
    "from numpy import loadtxt\n",
    "from sklearn.metrics import accuracy_score\n",
    "\n",
    "xgb = XGBClassifier()\n",
    "xgb.fit(X_train, y_train)"
   ]
  },
  {
   "cell_type": "code",
   "execution_count": 153,
   "id": "91417d00",
   "metadata": {},
   "outputs": [
    {
     "data": {
      "text/plain": [
       "array([0, 0, 1, 0, 1, 1, 0, 0, 0, 0, 0, 1, 0, 0, 1, 0, 1, 0, 1, 1, 1, 0,\n",
       "       0, 0, 1, 0, 0, 1, 1, 1, 1, 1, 0, 1, 1, 1, 1, 0, 1, 0, 1, 0, 0, 1,\n",
       "       0, 1, 1, 1, 1, 0, 1, 0, 1, 1, 0, 0, 0, 0, 0, 1, 0, 1, 1, 0, 1, 1,\n",
       "       1, 1, 0, 1, 1, 0, 1, 1, 0, 1, 1, 1, 1, 1, 1, 0, 0, 1, 0, 0, 1, 1,\n",
       "       1, 1, 1, 0, 1, 1, 1, 1, 1, 1, 0, 1, 1, 1, 1, 0, 1, 1, 1, 0, 1, 0,\n",
       "       0, 1, 1, 0, 0, 0, 0, 1, 0, 0, 1, 1, 0, 1, 1, 0, 0, 0, 1, 1, 1, 1,\n",
       "       0, 1, 0, 1, 1, 1, 1, 0, 0, 0, 0, 1, 0, 0, 1, 1, 1, 1, 1, 0, 1, 0,\n",
       "       1, 1, 0, 0, 1, 1, 0, 1, 0, 1, 1, 1, 1, 0, 1, 0, 0, 1, 0, 1, 1, 0,\n",
       "       0, 0, 1, 1, 1, 1, 1, 0, 1, 1, 1, 1, 0, 0, 0, 1, 0, 1, 1, 0, 0, 0,\n",
       "       1, 1, 0, 1, 0, 0, 1, 0, 0, 0, 1, 0, 1, 1, 1, 1, 1, 1, 0, 0, 0, 1,\n",
       "       1, 1, 1, 0, 1, 0, 1, 1, 1, 1, 0, 0, 0, 1, 0, 1, 1, 1, 1, 0, 1, 0,\n",
       "       1, 1, 1, 1, 0, 1, 0], dtype=int64)"
      ]
     },
     "execution_count": 153,
     "metadata": {},
     "output_type": "execute_result"
    }
   ],
   "source": [
    "y_pred = xgb.predict(X_test)  #Accuracy\n",
    "y_pred"
   ]
  },
  {
   "cell_type": "code",
   "execution_count": 154,
   "id": "2bf562f7",
   "metadata": {},
   "outputs": [],
   "source": [
    "#y_test"
   ]
  },
  {
   "cell_type": "code",
   "execution_count": 155,
   "id": "60d91082",
   "metadata": {},
   "outputs": [
    {
     "name": "stdout",
     "output_type": "stream",
     "text": [
      "Accuracy Score:  0.5301204819277109\n",
      "Confusion Matrix: \n",
      " [[53 66]\n",
      " [51 79]]\n",
      "F1 Score:  0.5745454545454545\n",
      "Precision Score:  0.5448275862068965\n",
      "Recall score:  0.6076923076923076\n",
      "Area Under Curve score:  0.526535229476406\n"
     ]
    }
   ],
   "source": [
    "xgbEval = evaluate(cla, y_test, y_pred)\n",
    "printEval(cla, xgbEval)"
   ]
  },
  {
   "cell_type": "markdown",
   "id": "7d80df8c",
   "metadata": {
    "jp-MarkdownHeadingCollapsed": true,
    "tags": []
   },
   "source": [
    "<h2>Linear Regression</h2>"
   ]
  },
  {
   "cell_type": "code",
   "execution_count": 156,
   "id": "4d2e2757",
   "metadata": {},
   "outputs": [
    {
     "data": {
      "text/plain": [
       "['SMA20',\n",
       " 'EMA',\n",
       " 'APO',\n",
       " 'BOP',\n",
       " 'CMO',\n",
       " 'macd',\n",
       " 'macdhist',\n",
       " 'MINUS_DI',\n",
       " 'MINUS_DM',\n",
       " 'PLUS_DI',\n",
       " 'PLUS_DM',\n",
       " 'PPO',\n",
       " 'ROC',\n",
       " 'ROCR100',\n",
       " 'fastd',\n",
       " 'TRIX',\n",
       " 'WILLR']"
      ]
     },
     "execution_count": 156,
     "metadata": {},
     "output_type": "execute_result"
    }
   ],
   "source": [
    "sse_refeatures = selectFeatures(sse_ti,'Re Target')\n",
    "sse_refeatures.remove('Target')\n",
    "sse_refeatures.remove('Close')\n",
    "sse_features"
   ]
  },
  {
   "cell_type": "code",
   "execution_count": 157,
   "id": "ddacf479",
   "metadata": {},
   "outputs": [],
   "source": [
    "from sklearn.model_selection import train_test_split\n",
    "X = sse_ti.loc[:, sse_refeatures].values\n",
    "#X = dji_ti.loc[:, ['CCI', 'DX', 'MINUS_DI', 'PLUS_DM', 'slowd']].values\n",
    "y = sse_ti.loc[:, ['Re Target']].values\n",
    "X_train, X_test, y_train, y_test = train_test_split(X, y, test_size=0.2, random_state=0, shuffle=False)"
   ]
  },
  {
   "cell_type": "code",
   "execution_count": 158,
   "id": "b2043f9d",
   "metadata": {},
   "outputs": [],
   "source": [
    "from sklearn.preprocessing import StandardScaler\n",
    "sc = StandardScaler()\n",
    "X_train = sc.fit_transform(X_train)\n",
    "X_test = sc.transform(X_test)"
   ]
  },
  {
   "cell_type": "code",
   "execution_count": 160,
   "id": "c33b60dd",
   "metadata": {},
   "outputs": [
    {
     "data": {
      "text/plain": [
       "LinearRegression()"
      ]
     },
     "execution_count": 160,
     "metadata": {},
     "output_type": "execute_result"
    }
   ],
   "source": [
    "lr = LinearRegression()\n",
    "lr.fit(X_train, y_train)"
   ]
  },
  {
   "cell_type": "code",
   "execution_count": 161,
   "id": "69d16c74",
   "metadata": {
    "collapsed": true,
    "jupyter": {
     "outputs_hidden": true
    },
    "tags": []
   },
   "outputs": [
    {
     "name": "stdout",
     "output_type": "stream",
     "text": [
      "[[3401.56957617]\n",
      " [3399.26000586]\n",
      " [3443.08874121]\n",
      " [3441.44665136]\n",
      " [3432.94140234]\n",
      " [3437.87548437]\n",
      " [3404.47680273]\n",
      " [3400.8182334 ]\n",
      " [3363.38622656]\n",
      " [3368.28234472]\n",
      " [3334.80736914]\n",
      " [3358.42724218]\n",
      " [3352.02929297]\n",
      " [3349.28710547]\n",
      " [3396.4411582 ]\n",
      " [3382.91564551]\n",
      " [3411.6229209 ]\n",
      " [3341.55627051]\n",
      " [3366.9970664 ]\n",
      " [3344.92150488]\n",
      " [3374.52373877]\n",
      " [3374.16619482]\n",
      " [3350.64342871]\n",
      " [3384.82671728]\n",
      " [3441.9835166 ]\n",
      " [3472.22143164]\n",
      " [3497.01830664]\n",
      " [3524.01952734]\n",
      " [3551.30224218]\n",
      " [3552.5415    ]\n",
      " [3516.68798437]\n",
      " [3573.07226172]\n",
      " [3571.9399375 ]\n",
      " [3541.7849082 ]\n",
      " [3541.57836523]\n",
      " [3571.96239843]\n",
      " [3542.84728613]\n",
      " [3559.39361181]\n",
      " [3605.48614111]\n",
      " [3591.13885107]\n",
      " [3617.68755713]\n",
      " [3561.87572851]\n",
      " [3563.7705039 ]\n",
      " [3503.72851172]\n",
      " [3475.46679297]\n",
      " [3493.83983984]\n",
      " [3523.37060156]\n",
      " [3508.84106054]\n",
      " [3484.51098242]\n",
      " [3483.15014258]\n",
      " [3514.05810156]\n",
      " [3586.1097373 ]\n",
      " [3638.16814795]\n",
      " [3676.29858008]\n",
      " [3682.20336523]\n",
      " [3642.45775976]\n",
      " [3633.38695898]\n",
      " [3549.47167578]\n",
      " [3564.19875708]\n",
      " [3493.26440039]\n",
      " [3520.31957617]\n",
      " [3475.73217383]\n",
      " [3518.02758398]\n",
      " [3470.08251562]\n",
      " [3460.10277929]\n",
      " [3403.47802343]\n",
      " [3338.98046484]\n",
      " [3342.3618125 ]\n",
      " [3414.7548789 ]\n",
      " [3430.9399375 ]\n",
      " [3402.15160742]\n",
      " [3419.87963476]\n",
      " [3423.40465918]\n",
      " [3451.0383872 ]\n",
      " [3398.92736426]\n",
      " [3432.27245703]\n",
      " [3408.96923437]\n",
      " [3374.80993261]\n",
      " [3361.54687109]\n",
      " [3408.33489599]\n",
      " [3423.22497168]\n",
      " [3436.17406836]\n",
      " [3418.69054785]\n",
      " [3444.38085547]\n",
      " [3462.67455664]\n",
      " [3462.5817832 ]\n",
      " [3456.64623633]\n",
      " [3467.43651953]\n",
      " [3433.89159765]\n",
      " [3396.08983984]\n",
      " [3378.12534704]\n",
      " [3398.08839789]\n",
      " [3378.68365088]\n",
      " [3413.64048376]\n",
      " [3465.45446386]\n",
      " [3465.03026953]\n",
      " [3465.0862998 ]\n",
      " [3457.7368125 ]\n",
      " [3470.79235449]\n",
      " [3437.3474082 ]\n",
      " [3440.78618994]\n",
      " [3456.92919531]\n",
      " [3474.64800635]\n",
      " [3436.56499853]\n",
      " [3425.76766577]\n",
      " [3396.61706152]\n",
      " [3405.2451438 ]\n",
      " [3422.52624121]\n",
      " [3446.95609655]\n",
      " [3407.43862524]\n",
      " [3475.35998144]\n",
      " [3505.04906836]\n",
      " [3506.92406836]\n",
      " [3483.89013281]\n",
      " [3483.82104101]\n",
      " [3463.22228613]\n",
      " [3477.94494238]\n",
      " [3570.27441015]\n",
      " [3580.19482031]\n",
      " [3600.88256445]\n",
      " [3591.62719336]\n",
      " [3603.54418554]\n",
      " [3616.86645117]\n",
      " [3586.93969336]\n",
      " [3578.66747656]\n",
      " [3589.21154394]\n",
      " [3594.37792578]\n",
      " [3577.54275122]\n",
      " [3588.87754431]\n",
      " [3614.55399695]\n",
      " [3584.74187842]\n",
      " [3548.25231543]\n",
      " [3510.55224218]\n",
      " [3521.11059179]\n",
      " [3515.72997656]\n",
      " [3517.91674414]\n",
      " [3549.0817832 ]\n",
      " [3555.89916601]\n",
      " [3552.22814551]\n",
      " [3605.11223974]\n",
      " [3600.40287962]\n",
      " [3561.17280188]\n",
      " [3586.61661759]\n",
      " [3582.09667387]\n",
      " [3507.04662695]\n",
      " [3525.19848242]\n",
      " [3512.11498633]\n",
      " [3536.80553808]\n",
      " [3500.09716406]\n",
      " [3496.60998144]\n",
      " [3528.73608008]\n",
      " [3548.57909765]\n",
      " [3504.12530127]\n",
      " [3540.39977636]\n",
      " [3514.92577734]\n",
      " [3517.64049902]\n",
      " [3516.36101904]\n",
      " [3550.11711493]\n",
      " [3563.91353979]\n",
      " [3536.40392676]\n",
      " [3453.19970312]\n",
      " [3387.18139258]\n",
      " [3358.17626562]\n",
      " [3411.81347265]\n",
      " [3395.42577734]\n",
      " [3461.15673437]\n",
      " [3447.44042578]\n",
      " [3469.19152441]\n",
      " [3459.58373633]\n",
      " [3449.65968886]\n",
      " [3496.25841894]\n",
      " [3531.64977636]\n",
      " [3535.64062109]\n",
      " [3520.58446875]\n",
      " [3506.68822851]\n",
      " [3504.78661718]\n",
      " [3427.72924414]\n",
      " [3460.89416113]\n",
      " [3441.29937353]\n",
      " [3400.8335227 ]\n",
      " [3450.38537207]\n",
      " [3487.07598486]\n",
      " [3510.07384863]\n",
      " [3475.43395605]\n",
      " [3493.88427343]\n",
      " [3500.91711035]\n",
      " [3513.85241308]\n",
      " [3545.9345664 ]\n",
      " [3573.88012304]\n",
      " [3565.09960547]\n",
      " [3598.15038672]\n",
      " [3647.78515234]\n",
      " [3650.91259375]\n",
      " [3666.03271093]\n",
      " [3688.62450781]\n",
      " [3698.94823828]\n",
      " [3641.87108984]\n",
      " [3638.56249609]\n",
      " [3587.84008398]\n",
      " [3589.22753515]\n",
      " [3595.7224082 ]\n",
      " [3616.557125  ]\n",
      " [3583.86645117]\n",
      " [3545.82470312]\n",
      " [3565.33788672]\n",
      " [3499.94628515]\n",
      " [3532.71776953]\n",
      " [3563.99193945]\n",
      " [3561.62108984]\n",
      " [3507.54247656]\n",
      " [3519.03808203]\n",
      " [3520.12816992]\n",
      " [3541.30907812]\n",
      " [3537.70507422]\n",
      " [3573.27428808]\n",
      " [3566.66375342]\n",
      " [3579.17168799]\n",
      " [3560.2397727 ]\n",
      " [3585.1022605 ]\n",
      " [3573.09116736]\n",
      " [3533.43737402]\n",
      " [3488.29308691]\n",
      " [3516.20263281]\n",
      " [3512.48876562]\n",
      " [3466.53918066]\n",
      " [3461.5415    ]\n",
      " [3500.04833593]\n",
      " [3465.76000586]\n",
      " [3476.49242773]\n",
      " [3488.28686133]\n",
      " [3470.22704687]\n",
      " [3525.91967383]\n",
      " [3534.29805555]\n",
      " [3527.36617651]\n",
      " [3515.654354  ]\n",
      " [3536.83819189]\n",
      " [3516.58892431]\n",
      " [3563.38732519]\n",
      " [3586.42736426]\n",
      " [3591.4580039 ]\n",
      " [3592.93944922]\n",
      " [3578.400875  ]\n",
      " [3553.63061133]\n",
      " [3557.38048926]\n",
      " [3555.97204199]\n",
      " [3570.1220664 ]\n",
      " [3562.70287695]\n",
      " [3602.15246191]\n",
      " [3571.8486289 ]]\n"
     ]
    }
   ],
   "source": [
    "y_pred = lr.predict(X_test)\n",
    "print(y_pred)"
   ]
  },
  {
   "cell_type": "code",
   "execution_count": 162,
   "id": "c46a215f",
   "metadata": {},
   "outputs": [],
   "source": [
    "dframe = pd.DataFrame({'Actual':y_test.flatten(),'predicted':y_pred.flatten()})"
   ]
  },
  {
   "cell_type": "code",
   "execution_count": 163,
   "id": "cdbcebab-8493-4323-ade8-2d131eaa73e3",
   "metadata": {},
   "outputs": [
    {
     "name": "stdout",
     "output_type": "stream",
     "text": [
      "Slope: [[ 2.17890047e+02  6.36402310e+00 -3.67013160e+00 -3.47809109e+01\n",
      "   1.82487303e+00  6.29486200e+01 -4.78296649e+12  4.45351491e+12\n",
      "   1.55774369e+12  4.13484980e+01 -7.24129410e+01 -3.10460389e+01\n",
      "   6.71249423e+01  9.24933842e+00 -3.00736498e+14  3.00736498e+14\n",
      "  -1.29608556e+01]]\n",
      "Intercept: [3066.82226172]\n"
     ]
    }
   ],
   "source": [
    "print('Slope:', lr.coef_)\n",
    "print('Intercept:', lr.intercept_)"
   ]
  },
  {
   "cell_type": "code",
   "execution_count": 164,
   "id": "a1fb388f-85a0-41ba-b8f4-8546ed007635",
   "metadata": {},
   "outputs": [
    {
     "data": {
      "image/png": "[encoded data removed]",
      "text/plain": [
       "<Figure size 936x432 with 1 Axes>"
      ]
     },
     "metadata": {
      "needs_background": "light"
     },
     "output_type": "display_data"
    }
   ],
   "source": [
    "plotReg('SSE Composite Index', sse.index, sse[['Future Close']], sse_ti.iloc[-180:], sse_refeatures, lr)"
   ]
  },
  {
   "cell_type": "code",
   "execution_count": 165,
   "id": "8fdde84f",
   "metadata": {},
   "outputs": [
    {
     "name": "stdout",
     "output_type": "stream",
     "text": [
      "Mean Squared Error:  37.21246003709662\n",
      "Adjusted R squared 0.7793254055665568\n"
     ]
    }
   ],
   "source": [
    "#evaluate(\"reg\", y_test, y_pred)\n",
    "\n",
    "lrEval = evaluate(reg, y_test, y_pred)\n",
    "printEval(reg, lrEval)"
   ]
  },
  {
   "cell_type": "markdown",
   "id": "537877a9",
   "metadata": {
    "tags": []
   },
   "source": [
    "<h2>Polynomial Regression</h2>"
   ]
  },
  {
   "cell_type": "code",
   "execution_count": 166,
   "id": "2c0f499f",
   "metadata": {},
   "outputs": [
    {
     "data": {
      "text/plain": [
       "Pipeline(steps=[('polynomialfeatures', PolynomialFeatures()),\n",
       "                ('linearregression', LinearRegression())])"
      ]
     },
     "execution_count": 166,
     "metadata": {},
     "output_type": "execute_result"
    }
   ],
   "source": [
    "from sklearn.preprocessing import PolynomialFeatures\n",
    "from sklearn.pipeline import make_pipeline\n",
    "from sklearn.linear_model import LinearRegression\n",
    "degree=2\n",
    "pr=make_pipeline(PolynomialFeatures(degree),LinearRegression())\n",
    "pr.fit(X_train,y_train)"
   ]
  },
  {
   "cell_type": "code",
   "execution_count": 167,
   "id": "13c48dc9",
   "metadata": {
    "tags": []
   },
   "outputs": [
    {
     "data": {
      "text/plain": [
       "array([[3438.64355469],\n",
       "       [3431.45605469],\n",
       "       [3456.26855469],\n",
       "       [3448.76855469],\n",
       "       [3447.70605469],\n",
       "       [3449.08105469],\n",
       "       [3425.29980469],\n",
       "       [3414.01855469],\n",
       "       [3379.25292969],\n",
       "       [3366.26855469],\n",
       "       [3346.03417969],\n",
       "       [3363.33105469],\n",
       "       [3364.73730469],\n",
       "       [3371.22167969],\n",
       "       [3416.47167969],\n",
       "       [3401.51855469],\n",
       "       [3421.60449219],\n",
       "       [3343.86230469],\n",
       "       [3350.62792969],\n",
       "       [3341.12792969],\n",
       "       [3358.26855469],\n",
       "       [3369.29980469],\n",
       "       [3347.15917969],\n",
       "       [3366.89355469],\n",
       "       [3442.86230469],\n",
       "       [3463.14355469],\n",
       "       [3475.70605469],\n",
       "       [3496.26855469],\n",
       "       [3509.89355469],\n",
       "       [3506.76855469],\n",
       "       [3467.01855469],\n",
       "       [3490.01855469],\n",
       "       [3487.01855469],\n",
       "       [3496.39355469],\n",
       "       [3510.01855469],\n",
       "       [3561.76855469],\n",
       "       [3546.51855469],\n",
       "       [3563.14355469],\n",
       "       [3615.45605469],\n",
       "       [3585.83105469],\n",
       "       [3601.01855469],\n",
       "       [3542.09667969],\n",
       "       [3537.19042969],\n",
       "       [3472.42480469],\n",
       "       [3435.26855469],\n",
       "       [3444.48730469],\n",
       "       [3500.36230469],\n",
       "       [3490.95605469],\n",
       "       [3449.51855469],\n",
       "       [3454.92480469],\n",
       "       [3480.84667969],\n",
       "       [3555.92480469],\n",
       "       [3588.44042969],\n",
       "       [3569.01855469],\n",
       "       [3592.76855469],\n",
       "       [3532.51855469],\n",
       "       [3530.95605469],\n",
       "       [3466.48730469],\n",
       "       [3488.69824219],\n",
       "       [3423.51855469],\n",
       "       [3467.08105469],\n",
       "       [3438.26855469],\n",
       "       [3469.17480469],\n",
       "       [3423.04980469],\n",
       "       [3415.01855469],\n",
       "       [3361.29980469],\n",
       "       [3301.01855469],\n",
       "       [3318.14355469],\n",
       "       [3396.76855469],\n",
       "       [3391.58105469],\n",
       "       [3364.89355469],\n",
       "       [3395.45605469],\n",
       "       [3404.64355469],\n",
       "       [3424.33105469],\n",
       "       [3364.39355469],\n",
       "       [3394.45605469],\n",
       "       [3316.36230469],\n",
       "       [3318.39355469],\n",
       "       [3372.08105469],\n",
       "       [3437.26855469],\n",
       "       [3420.23730469],\n",
       "       [3440.64355469],\n",
       "       [3407.24511719],\n",
       "       [3438.66699219],\n",
       "       [3436.80175781],\n",
       "       [3428.05761719],\n",
       "       [3423.26074219],\n",
       "       [3430.92480469],\n",
       "       [3416.37792969],\n",
       "       [3396.44042969],\n",
       "       [3390.44042969],\n",
       "       [3402.25292969],\n",
       "       [3401.00292969],\n",
       "       [3432.29199219],\n",
       "       [3463.20605469],\n",
       "       [3458.72167969],\n",
       "       [3458.56542969],\n",
       "       [3455.01855469],\n",
       "       [3459.14355469],\n",
       "       [3426.11621094],\n",
       "       [3421.32324219],\n",
       "       [3444.15136719],\n",
       "       [3477.61230469],\n",
       "       [3436.29199219],\n",
       "       [3412.76855469],\n",
       "       [3393.20605469],\n",
       "       [3397.06542969],\n",
       "       [3410.26855469],\n",
       "       [3438.94824219],\n",
       "       [3384.33886719],\n",
       "       [3460.58105469],\n",
       "       [3476.87792969],\n",
       "       [3479.50292969],\n",
       "       [3465.39355469],\n",
       "       [3459.70605469],\n",
       "       [3443.36230469],\n",
       "       [3450.45605469],\n",
       "       [3559.39355469],\n",
       "       [3573.64355469],\n",
       "       [3602.26855469],\n",
       "       [3583.01855469],\n",
       "       [3600.51855469],\n",
       "       [3608.39355469],\n",
       "       [3587.76855469],\n",
       "       [3582.51855469],\n",
       "       [3580.01855469],\n",
       "       [3598.39355469],\n",
       "       [3603.79980469],\n",
       "       [3629.67480469],\n",
       "       [3653.67480469],\n",
       "       [3624.73730469],\n",
       "       [3569.24511719],\n",
       "       [3523.64355469],\n",
       "       [3508.85449219],\n",
       "       [3516.26464844],\n",
       "       [3518.08496094],\n",
       "       [3570.11230469],\n",
       "       [3584.05761719],\n",
       "       [3576.90917969],\n",
       "       [3626.42480469],\n",
       "       [3614.75292969],\n",
       "       [3585.87792969],\n",
       "       [3583.14355469],\n",
       "       [3597.83105469],\n",
       "       [3527.36621094],\n",
       "       [3521.28417969],\n",
       "       [3526.83105469],\n",
       "       [3552.72558594],\n",
       "       [3533.08105469],\n",
       "       [3508.98730469],\n",
       "       [3557.00292969],\n",
       "       [3572.80371094],\n",
       "       [3536.69042969],\n",
       "       [3542.85839844],\n",
       "       [3522.41699219],\n",
       "       [3507.20214844],\n",
       "       [3504.37402344],\n",
       "       [3563.27246094],\n",
       "       [3574.40917969],\n",
       "       [3547.33886719],\n",
       "       [3450.62792969],\n",
       "       [3395.62792969],\n",
       "       [3371.45605469],\n",
       "       [3426.26855469],\n",
       "       [3420.58105469],\n",
       "       [3457.70605469],\n",
       "       [3443.64355469],\n",
       "       [3489.29980469],\n",
       "       [3467.29980469],\n",
       "       [3455.89355469],\n",
       "       [3485.58105469],\n",
       "       [3484.26855469],\n",
       "       [3482.01855469],\n",
       "       [3487.08105469],\n",
       "       [3479.92480469],\n",
       "       [3485.81152344],\n",
       "       [3423.46777344],\n",
       "       [3437.88574219],\n",
       "       [3427.58496094],\n",
       "       [3394.36230469],\n",
       "       [3449.05761719],\n",
       "       [3476.63574219],\n",
       "       [3491.24511719],\n",
       "       [3463.64355469],\n",
       "       [3474.42480469],\n",
       "       [3477.76855469],\n",
       "       [3470.42480469],\n",
       "       [3495.39355469],\n",
       "       [3522.76855469],\n",
       "       [3517.08105469],\n",
       "       [3542.58105469],\n",
       "       [3591.14355469],\n",
       "       [3594.64355469],\n",
       "       [3617.01855469],\n",
       "       [3653.76855469],\n",
       "       [3674.01855469],\n",
       "       [3631.14355469],\n",
       "       [3640.51855469],\n",
       "       [3612.26855469],\n",
       "       [3605.29980469],\n",
       "       [3599.32324219],\n",
       "       [3648.83105469],\n",
       "       [3618.67480469],\n",
       "       [3547.33105469],\n",
       "       [3549.58105469],\n",
       "       [3460.64355469],\n",
       "       [3487.36230469],\n",
       "       [3522.86230469],\n",
       "       [3535.40917969],\n",
       "       [3455.95605469],\n",
       "       [3462.54980469],\n",
       "       [3467.23730469],\n",
       "       [3491.64355469],\n",
       "       [3470.88574219],\n",
       "       [3532.15136719],\n",
       "       [3507.37792969],\n",
       "       [3529.97167969],\n",
       "       [3519.30761719],\n",
       "       [3537.52246094],\n",
       "       [3527.84667969],\n",
       "       [3499.85449219],\n",
       "       [3474.56542969],\n",
       "       [3499.28417969],\n",
       "       [3509.95605469],\n",
       "       [3467.36230469],\n",
       "       [3474.83105469],\n",
       "       [3528.40917969],\n",
       "       [3501.53417969],\n",
       "       [3518.44042969],\n",
       "       [3527.23730469],\n",
       "       [3496.86230469],\n",
       "       [3550.69042969],\n",
       "       [3544.76855469],\n",
       "       [3535.52636719],\n",
       "       [3528.06542969],\n",
       "       [3547.02832031],\n",
       "       [3524.97167969],\n",
       "       [3575.54980469],\n",
       "       [3603.53417969],\n",
       "       [3609.12792969],\n",
       "       [3602.26855469],\n",
       "       [3599.39355469],\n",
       "       [3587.94042969],\n",
       "       [3572.04980469],\n",
       "       [3602.12792969],\n",
       "       [3602.14355469],\n",
       "       [3617.42480469],\n",
       "       [3655.39355469],\n",
       "       [3659.86230469]])"
      ]
     },
     "execution_count": 167,
     "metadata": {},
     "output_type": "execute_result"
    }
   ],
   "source": [
    "y_pred = pr.predict(X_test)  #Accuracy\n",
    "y_pred"
   ]
  },
  {
   "cell_type": "code",
   "execution_count": 180,
   "id": "aa7cd04d-3aff-4731-8e6e-2e343a9fa263",
   "metadata": {},
   "outputs": [
    {
     "data": {
      "image/png": "[encoded data removed]",
      "text/plain": [
       "<Figure size 936x432 with 1 Axes>"
      ]
     },
     "metadata": {
      "needs_background": "light"
     },
     "output_type": "display_data"
    }
   ],
   "source": [
    "plotReg('SSE Composite Index', sse.index, sse[['Future Close']], sse_ti.iloc[-180:], sse_refeatures, pr)"
   ]
  },
  {
   "cell_type": "code",
   "execution_count": 169,
   "id": "8abd3333",
   "metadata": {},
   "outputs": [
    {
     "name": "stdout",
     "output_type": "stream",
     "text": [
      "Mean Squared Error:  53.309421997477955\n",
      "Adjusted R squared 0.547119603530676\n"
     ]
    }
   ],
   "source": [
    "gsEval = evaluate(reg, y_test, y_pred)\n",
    "printEval(reg, gsEval)"
   ]
  },
  {
   "cell_type": "code",
   "execution_count": 170,
   "metadata": {},
   "outputs": [],
   "source": [
    "list_dctEval.append(dctEval)\n",
    "list_forestEval.append(forestEval)\n",
    "list_logisticEval.append(logisticEval)\n",
    "list_xgbEval.append(xgbEval)"
   ]
  },
  {
   "cell_type": "code",
   "execution_count": 179,
   "id": "2d5c3f8c",
   "metadata": {},
   "outputs": [
    {
     "name": "stdout",
     "output_type": "stream",
     "text": [
      "[1, 1, 0, 1, 0, 1]\n",
      "The model suggests that you should sell\n"
     ]
    }
   ],
   "source": [
    "finalPredict(sse_target, sse_features,sse_refeatures, dctEval, forestEval, logisticEval, xgbEval, lrEval, prEval)\n",
    "\n"
   ]
  },
  {
   "cell_type": "code",
   "execution_count": 172,
   "metadata": {},
   "outputs": [],
   "source": [
    "def createResult(eval):\n",
    "    data = {\n",
    "        \"Accuracy\": [eval[0][0], eval[1][0], eval[2][0], eval[3][0]],\n",
    "        \"F1-Score\": [eval[0][2], eval[1][2], eval[2][2], eval[3][2]],\n",
    "        \"Precision Score\": [eval[0][3], eval[1][3], eval[2][3], eval[3][3]],\n",
    "        \"Recall Score\": [eval[0][4], eval[1][4], eval[2][4], eval[3][4]],\n",
    "        \"AUC Score\": [eval[0][5], eval[1][5], eval[2][5], eval[3][5]],\n",
    "    }\n",
    "    return data"
   ]
  },
  {
   "cell_type": "code",
   "execution_count": 173,
   "metadata": {},
   "outputs": [
    {
     "data": {
      "text/html": [
       "<div>\n",
       "<style scoped>\n",
       "    .dataframe tbody tr th:only-of-type {\n",
       "        vertical-align: middle;\n",
       "    }\n",
       "\n",
       "    .dataframe tbody tr th {\n",
       "        vertical-align: top;\n",
       "    }\n",
       "\n",
       "    .dataframe thead th {\n",
       "        text-align: right;\n",
       "    }\n",
       "</style>\n",
       "<table border=\"1\" class=\"dataframe\">\n",
       "  <thead>\n",
       "    <tr style=\"text-align: right;\">\n",
       "      <th></th>\n",
       "      <th>Accuracy</th>\n",
       "      <th>F1-Score</th>\n",
       "      <th>Precision Score</th>\n",
       "      <th>Recall Score</th>\n",
       "      <th>AUC Score</th>\n",
       "    </tr>\n",
       "  </thead>\n",
       "  <tbody>\n",
       "    <tr>\n",
       "      <th>DJI</th>\n",
       "      <td>0.509653</td>\n",
       "      <td>0.548043</td>\n",
       "      <td>0.631148</td>\n",
       "      <td>0.484277</td>\n",
       "      <td>0.517138</td>\n",
       "    </tr>\n",
       "    <tr>\n",
       "      <th>N225</th>\n",
       "      <td>0.504000</td>\n",
       "      <td>0.547445</td>\n",
       "      <td>0.568182</td>\n",
       "      <td>0.528169</td>\n",
       "      <td>0.500196</td>\n",
       "    </tr>\n",
       "    <tr>\n",
       "      <th>HSI</th>\n",
       "      <td>0.509881</td>\n",
       "      <td>0.526718</td>\n",
       "      <td>0.547619</td>\n",
       "      <td>0.507353</td>\n",
       "      <td>0.510087</td>\n",
       "    </tr>\n",
       "    <tr>\n",
       "      <th>SSE</th>\n",
       "      <td>0.514056</td>\n",
       "      <td>0.546816</td>\n",
       "      <td>0.532847</td>\n",
       "      <td>0.561538</td>\n",
       "      <td>0.511862</td>\n",
       "    </tr>\n",
       "  </tbody>\n",
       "</table>\n",
       "</div>"
      ],
      "text/plain": [
       "      Accuracy  F1-Score  Precision Score  Recall Score  AUC Score\n",
       "DJI   0.509653  0.548043         0.631148      0.484277   0.517138\n",
       "N225  0.504000  0.547445         0.568182      0.528169   0.500196\n",
       "HSI   0.509881  0.526718         0.547619      0.507353   0.510087\n",
       "SSE   0.514056  0.546816         0.532847      0.561538   0.511862"
      ]
     },
     "execution_count": 173,
     "metadata": {},
     "output_type": "execute_result"
    }
   ],
   "source": [
    "stock_index = ['DJI', 'N225', 'HSI', 'SSE']\n",
    "dctResult = pd.DataFrame(createResult(list_dctEval), index=stock_index)\n",
    "dctResult"
   ]
  },
  {
   "cell_type": "code",
   "execution_count": 174,
   "metadata": {},
   "outputs": [
    {
     "data": {
      "text/html": [
       "<div>\n",
       "<style scoped>\n",
       "    .dataframe tbody tr th:only-of-type {\n",
       "        vertical-align: middle;\n",
       "    }\n",
       "\n",
       "    .dataframe tbody tr th {\n",
       "        vertical-align: top;\n",
       "    }\n",
       "\n",
       "    .dataframe thead th {\n",
       "        text-align: right;\n",
       "    }\n",
       "</style>\n",
       "<table border=\"1\" class=\"dataframe\">\n",
       "  <thead>\n",
       "    <tr style=\"text-align: right;\">\n",
       "      <th></th>\n",
       "      <th>Accuracy</th>\n",
       "      <th>F1-Score</th>\n",
       "      <th>Precision Score</th>\n",
       "      <th>Recall Score</th>\n",
       "      <th>AUC Score</th>\n",
       "    </tr>\n",
       "  </thead>\n",
       "  <tbody>\n",
       "    <tr>\n",
       "      <th>DJI</th>\n",
       "      <td>0.594595</td>\n",
       "      <td>0.744526</td>\n",
       "      <td>0.607143</td>\n",
       "      <td>0.962264</td>\n",
       "      <td>0.486132</td>\n",
       "    </tr>\n",
       "    <tr>\n",
       "      <th>N225</th>\n",
       "      <td>0.532000</td>\n",
       "      <td>0.592334</td>\n",
       "      <td>0.586207</td>\n",
       "      <td>0.598592</td>\n",
       "      <td>0.521518</td>\n",
       "    </tr>\n",
       "    <tr>\n",
       "      <th>HSI</th>\n",
       "      <td>0.501976</td>\n",
       "      <td>0.659459</td>\n",
       "      <td>0.521368</td>\n",
       "      <td>0.897059</td>\n",
       "      <td>0.469897</td>\n",
       "    </tr>\n",
       "    <tr>\n",
       "      <th>SSE</th>\n",
       "      <td>0.530120</td>\n",
       "      <td>0.583630</td>\n",
       "      <td>0.543046</td>\n",
       "      <td>0.630769</td>\n",
       "      <td>0.525469</td>\n",
       "    </tr>\n",
       "  </tbody>\n",
       "</table>\n",
       "</div>"
      ],
      "text/plain": [
       "      Accuracy  F1-Score  Precision Score  Recall Score  AUC Score\n",
       "DJI   0.594595  0.744526         0.607143      0.962264   0.486132\n",
       "N225  0.532000  0.592334         0.586207      0.598592   0.521518\n",
       "HSI   0.501976  0.659459         0.521368      0.897059   0.469897\n",
       "SSE   0.530120  0.583630         0.543046      0.630769   0.525469"
      ]
     },
     "execution_count": 174,
     "metadata": {},
     "output_type": "execute_result"
    }
   ],
   "source": [
    "forestResult = pd.DataFrame(createResult(list_forestEval), index=stock_index)\n",
    "forestResult"
   ]
  },
  {
   "cell_type": "code",
   "execution_count": 175,
   "metadata": {},
   "outputs": [
    {
     "data": {
      "text/html": [
       "<div>\n",
       "<style scoped>\n",
       "    .dataframe tbody tr th:only-of-type {\n",
       "        vertical-align: middle;\n",
       "    }\n",
       "\n",
       "    .dataframe tbody tr th {\n",
       "        vertical-align: top;\n",
       "    }\n",
       "\n",
       "    .dataframe thead th {\n",
       "        text-align: right;\n",
       "    }\n",
       "</style>\n",
       "<table border=\"1\" class=\"dataframe\">\n",
       "  <thead>\n",
       "    <tr style=\"text-align: right;\">\n",
       "      <th></th>\n",
       "      <th>Accuracy</th>\n",
       "      <th>F1-Score</th>\n",
       "      <th>Precision Score</th>\n",
       "      <th>Recall Score</th>\n",
       "      <th>AUC Score</th>\n",
       "    </tr>\n",
       "  </thead>\n",
       "  <tbody>\n",
       "    <tr>\n",
       "      <th>DJI</th>\n",
       "      <td>0.606178</td>\n",
       "      <td>0.735751</td>\n",
       "      <td>0.625551</td>\n",
       "      <td>0.893082</td>\n",
       "      <td>0.521541</td>\n",
       "    </tr>\n",
       "    <tr>\n",
       "      <th>N225</th>\n",
       "      <td>0.520000</td>\n",
       "      <td>0.574468</td>\n",
       "      <td>0.578571</td>\n",
       "      <td>0.570423</td>\n",
       "      <td>0.512063</td>\n",
       "    </tr>\n",
       "    <tr>\n",
       "      <th>HSI</th>\n",
       "      <td>0.509881</td>\n",
       "      <td>0.526718</td>\n",
       "      <td>0.547619</td>\n",
       "      <td>0.507353</td>\n",
       "      <td>0.510087</td>\n",
       "    </tr>\n",
       "    <tr>\n",
       "      <th>SSE</th>\n",
       "      <td>0.522088</td>\n",
       "      <td>0.619808</td>\n",
       "      <td>0.530055</td>\n",
       "      <td>0.746154</td>\n",
       "      <td>0.511732</td>\n",
       "    </tr>\n",
       "  </tbody>\n",
       "</table>\n",
       "</div>"
      ],
      "text/plain": [
       "      Accuracy  F1-Score  Precision Score  Recall Score  AUC Score\n",
       "DJI   0.606178  0.735751         0.625551      0.893082   0.521541\n",
       "N225  0.520000  0.574468         0.578571      0.570423   0.512063\n",
       "HSI   0.509881  0.526718         0.547619      0.507353   0.510087\n",
       "SSE   0.522088  0.619808         0.530055      0.746154   0.511732"
      ]
     },
     "execution_count": 175,
     "metadata": {},
     "output_type": "execute_result"
    }
   ],
   "source": [
    "logisticResult = pd.DataFrame(createResult(list_logisticEval), index=stock_index)\n",
    "logisticResult"
   ]
  },
  {
   "cell_type": "code",
   "execution_count": 176,
   "metadata": {},
   "outputs": [
    {
     "data": {
      "text/html": [
       "<div>\n",
       "<style scoped>\n",
       "    .dataframe tbody tr th:only-of-type {\n",
       "        vertical-align: middle;\n",
       "    }\n",
       "\n",
       "    .dataframe tbody tr th {\n",
       "        vertical-align: top;\n",
       "    }\n",
       "\n",
       "    .dataframe thead th {\n",
       "        text-align: right;\n",
       "    }\n",
       "</style>\n",
       "<table border=\"1\" class=\"dataframe\">\n",
       "  <thead>\n",
       "    <tr style=\"text-align: right;\">\n",
       "      <th></th>\n",
       "      <th>Accuracy</th>\n",
       "      <th>F1-Score</th>\n",
       "      <th>Precision Score</th>\n",
       "      <th>Recall Score</th>\n",
       "      <th>AUC Score</th>\n",
       "    </tr>\n",
       "  </thead>\n",
       "  <tbody>\n",
       "    <tr>\n",
       "      <th>DJI</th>\n",
       "      <td>0.532819</td>\n",
       "      <td>0.610932</td>\n",
       "      <td>0.625000</td>\n",
       "      <td>0.597484</td>\n",
       "      <td>0.513742</td>\n",
       "    </tr>\n",
       "    <tr>\n",
       "      <th>N225</th>\n",
       "      <td>0.512000</td>\n",
       "      <td>0.570423</td>\n",
       "      <td>0.570423</td>\n",
       "      <td>0.570423</td>\n",
       "      <td>0.502804</td>\n",
       "    </tr>\n",
       "    <tr>\n",
       "      <th>HSI</th>\n",
       "      <td>0.521739</td>\n",
       "      <td>0.550186</td>\n",
       "      <td>0.556391</td>\n",
       "      <td>0.544118</td>\n",
       "      <td>0.519922</td>\n",
       "    </tr>\n",
       "    <tr>\n",
       "      <th>SSE</th>\n",
       "      <td>0.530120</td>\n",
       "      <td>0.574545</td>\n",
       "      <td>0.544828</td>\n",
       "      <td>0.607692</td>\n",
       "      <td>0.526535</td>\n",
       "    </tr>\n",
       "  </tbody>\n",
       "</table>\n",
       "</div>"
      ],
      "text/plain": [
       "      Accuracy  F1-Score  Precision Score  Recall Score  AUC Score\n",
       "DJI   0.532819  0.610932         0.625000      0.597484   0.513742\n",
       "N225  0.512000  0.570423         0.570423      0.570423   0.502804\n",
       "HSI   0.521739  0.550186         0.556391      0.544118   0.519922\n",
       "SSE   0.530120  0.574545         0.544828      0.607692   0.526535"
      ]
     },
     "execution_count": 176,
     "metadata": {},
     "output_type": "execute_result"
    }
   ],
   "source": [
    "xgbResult = pd.DataFrame(createResult(list_xgbEval), index=stock_index)\n",
    "xgbResult"
   ]
  },
  {
   "cell_type": "code",
   "execution_count": null,
   "id": "40f04b83",
   "metadata": {},
   "outputs": [],
   "source": []
  },
  {
   "cell_type": "code",
   "execution_count": null,
   "metadata": {},
   "outputs": [],
   "source": []
  },
  {
   "cell_type": "code",
   "execution_count": null,
   "metadata": {},
   "outputs": [],
   "source": []
  }
 ],
 "metadata": {
  "kernelspec": {
   "display_name": "Python 3.9.7 64-bit",
   "metadata": {
    "interpreter": {
     "hash": "ac2eaa0ea0ebeafcc7822e65e46aa9d4f966f30b695406963e145ea4a91cd4fc"
    }
   },
   "name": "python3"
  },
  "language_info": {
   "codemirror_mode": {
    "name": "ipython",
    "version": 3
   },
   "file_extension": ".py",
   "mimetype": "text/x-python",
   "name": "python",
   "nbconvert_exporter": "python",
   "pygments_lexer": "ipython3",
   "version": "3.8.8"
  }
 },
 "nbformat": 4,
 "nbformat_minor": 5
}
